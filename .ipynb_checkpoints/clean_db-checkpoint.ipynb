{
 "cells": [
  {
   "cell_type": "code",
   "execution_count": 1,
   "id": "973887c7-ad02-4cd9-86ad-87065e952676",
   "metadata": {},
   "outputs": [],
   "source": [
    "import duckdb\n",
    "import pandas as pd\n",
    "\n",
    "%reload_ext sql\n",
    "conn = duckdb.connect(\"clean_prototype.ddb\")\n",
    "%sql conn --alias duckdb"
   ]
  },
  {
   "cell_type": "code",
   "execution_count": 2,
   "id": "4e96cad4-6720-47a5-8f46-98d3b4ed5527",
   "metadata": {},
   "outputs": [
    {
     "data": {
      "text/html": [
       "<span style=\"None\">Running query in &#x27;duckdb&#x27;</span>"
      ],
      "text/plain": [
       "Running query in 'duckdb'"
      ]
     },
     "metadata": {},
     "output_type": "display_data"
    },
    {
     "data": {
      "text/html": [
       "<table>\n",
       "    <thead>\n",
       "        <tr>\n",
       "            <th>Count</th>\n",
       "        </tr>\n",
       "    </thead>\n",
       "    <tbody>\n",
       "        <tr>\n",
       "            <td>100</td>\n",
       "        </tr>\n",
       "    </tbody>\n",
       "</table>"
      ],
      "text/plain": [
       "+-------+\n",
       "| Count |\n",
       "+-------+\n",
       "|  100  |\n",
       "+-------+"
      ]
     },
     "execution_count": 2,
     "metadata": {},
     "output_type": "execute_result"
    }
   ],
   "source": [
    "%%sql \n",
    "CREATE TABLE small_reddit AS\n",
    "    SELECT * FROM read_csv(\"~/CS/CovidComparison/test/cleaned_small_reddit.csv\")"
   ]
  },
  {
   "cell_type": "code",
   "execution_count": 3,
   "id": "f2438066-7752-4d84-a9d0-7ca709536cb9",
   "metadata": {},
   "outputs": [
    {
     "data": {
      "text/html": [
       "<span style=\"None\">Running query in &#x27;duckdb&#x27;</span>"
      ],
      "text/plain": [
       "Running query in 'duckdb'"
      ]
     },
     "metadata": {},
     "output_type": "display_data"
    },
    {
     "data": {
      "text/html": [
       "<table>\n",
       "    <thead>\n",
       "        <tr>\n",
       "            <th>Count</th>\n",
       "        </tr>\n",
       "    </thead>\n",
       "    <tbody>\n",
       "        <tr>\n",
       "            <td>100</td>\n",
       "        </tr>\n",
       "    </tbody>\n",
       "</table>"
      ],
      "text/plain": [
       "+-------+\n",
       "| Count |\n",
       "+-------+\n",
       "|  100  |\n",
       "+-------+"
      ]
     },
     "execution_count": 3,
     "metadata": {},
     "output_type": "execute_result"
    }
   ],
   "source": [
    "%%sql\n",
    "CREATE TABLE small_twitter AS\n",
    "    SELECT * FROM read_csv(\"~/CS/CovidComparison/twitter_test/cleaned_small_twitter.csv\")"
   ]
  },
  {
   "cell_type": "code",
   "execution_count": 5,
   "id": "e5d67dc7-9ad2-4fe6-abf2-4c23cf8545fc",
   "metadata": {},
   "outputs": [
    {
     "data": {
      "text/html": [
       "<span style=\"None\">Running query in &#x27;duckdb&#x27;</span>"
      ],
      "text/plain": [
       "Running query in 'duckdb'"
      ]
     },
     "metadata": {},
     "output_type": "display_data"
    },
    {
     "data": {
      "text/html": [
       "<table>\n",
       "    <thead>\n",
       "        <tr>\n",
       "            <th>id</th>\n",
       "            <th>subreddit.name</th>\n",
       "            <th>created_utc</th>\n",
       "            <th>body</th>\n",
       "            <th>score</th>\n",
       "        </tr>\n",
       "    </thead>\n",
       "    <tbody>\n",
       "        <tr>\n",
       "            <td>hi1vsag</td>\n",
       "            <td>nova</td>\n",
       "            <td>1635206399</td>\n",
       "            <td>When you scheduled your booster with CVS does it just give you the option of Vaccines: COVID-19 (Vaccine brand) or does it specifically say booster</td>\n",
       "            <td>2</td>\n",
       "        </tr>\n",
       "        <tr>\n",
       "            <td>hi1vs7i</td>\n",
       "            <td>vancouver</td>\n",
       "            <td>1635206397</td>\n",
       "            <td>Didn't stop prices there though. New Zealand and Canada grew at about the same rate through COVID.   I agree that non-resident ownership should be stopped, but it's also probably not going to change anything.</td>\n",
       "            <td>32</td>\n",
       "        </tr>\n",
       "        <tr>\n",
       "            <td>hi1vs5n</td>\n",
       "            <td>pregnant</td>\n",
       "            <td>1635206397</td>\n",
       "            <td>I’m just waiting until after pregnancy to get vaccinated.  I have a special needs daughter due to having fever during pregnancy and I’m not willing to risk the vaccine fever right now. I have strong antibodies from Covid that I had before I got pregnant. (I keep taking blood tests to check) There’s a difference between anti vaccine and deciding to wait based on different factors</td>\n",
       "            <td>1</td>\n",
       "        </tr>\n",
       "        <tr>\n",
       "            <td>hi1vs5v</td>\n",
       "            <td>startrek</td>\n",
       "            <td>1635206397</td>\n",
       "            <td>*The first duty of every Starfleet officer is to the truth. Whether it's scientific truth, or historical truth, or personal truth. It is the guiding principle upon which Starfleet is based. If you can't find it within yourself to stand up and tell the truth about what happened you don't deserve to wear that uniform.*  [Captain Jean-Luc Picard, \"The First Duty\"](https://www.youtube.com/watch?v=xefh7W1nVo4)  Reddit admins have been [ineffectual in their response to COVID-19 misinformation](https://www.dailydot.com/debug/subreddits-private-protest-covid-disinformation-reddit/). In lieu of Reddit gold and awards, we ask that you donate to the [WHO COVID-19 response fund](https://www.who.int/emergencies/diseases/novel-coronavirus-2019/donate).  Please respect our [subreddit rules](https://www.reddit.com/r/startrek/wiki/guidelines). LLAP!  *I am a bot, and this action was performed automatically. Please [contact the moderators of this subreddit](/message/compose/?to=/r/startrek) if you have any questions or concerns.*</td>\n",
       "            <td>1</td>\n",
       "        </tr>\n",
       "        <tr>\n",
       "            <td>hi1vs0l</td>\n",
       "            <td>ontario</td>\n",
       "            <td>1635206395</td>\n",
       "            <td>Compare BC to Ontario for COVID. It's even more striking how anti-mask, anti-vaccine that the NDP BC government is.</td>\n",
       "            <td>-2</td>\n",
       "        </tr>\n",
       "        <tr>\n",
       "            <td>hi1vrtk</td>\n",
       "            <td>entertainment</td>\n",
       "            <td>1635206393</td>\n",
       "            <td>Sheeran didn't mention whether he was vaccinated in his post. But in July he joined James Corden for a segment on \"The Late Late Show with James Corden\" where the two changed the lyrics of Sheeran's hit song, \"Shape of You,\" with phrases about getting a Covid-19 vaccine.  \"Modera or Pfizer will do, You'll be good after jab number two, but wait two weeks for it to take effect.\"  https://www.cnn.com/2021/10/24/entertainment/ed-sheeran-covid-positive-trnd/index.html  Very likely he is vaccinated. Not an Ed Sheeran fan btw. I think his hits are irritating.</td>\n",
       "            <td>2</td>\n",
       "        </tr>\n",
       "        <tr>\n",
       "            <td>hi1vrsk</td>\n",
       "            <td>conspiracy</td>\n",
       "            <td>1635206392</td>\n",
       "            <td>I see a lot of posts like this comparing the covid outrage to other more deadly things, but the reason those stats fail to hit home with people is because all of those other things don't spread person to person. That's the huge key that allows covid restrictions to have such impact- because people fear the interpersonal spread.   Yes heart disease and hunger are also incredibly deadly, but people don't spread those to each other. That's why the government doesn't focus on them so much (at least that's what people will think, anyway). The fear of catching/spreading is what allows covid to be so powerful.</td>\n",
       "            <td>1</td>\n",
       "        </tr>\n",
       "        <tr>\n",
       "            <td>hi1vrnr</td>\n",
       "            <td>lockdownskepticism</td>\n",
       "            <td>1635206391</td>\n",
       "            <td>And think about how many people died over the last year and a half- whether from Covid or something else- and didn't get to enjoy their last months on earth.  That would actually be one of my worst fears.  Imagine having a heart attack or freak stroke in the middle of lockdowns and your last memories on earth were being isolated from everyone and everything you love.  That is why the older people in my family insisted on getting together for Thanksgiving and Christmas last year.  I was glad they did.</td>\n",
       "            <td>29</td>\n",
       "        </tr>\n",
       "        <tr>\n",
       "            <td>hi1vrpy</td>\n",
       "            <td>nova</td>\n",
       "            <td>1635206391</td>\n",
       "            <td>Unfortunately they shut down during covid. I've been checking, but haven't seen any signs so thinking it's permanently closed.  Check Hill Country in DC as they sometimes do line dancing nights.</td>\n",
       "            <td>2</td>\n",
       "        </tr>\n",
       "        <tr>\n",
       "            <td>hi1vrou</td>\n",
       "            <td>antivaxxers</td>\n",
       "            <td>1635206391</td>\n",
       "            <td>I don’t know anyone unvaccinated that has died from covid, I do know vaxxed people who have died from covid. It’s not a true statement at all in the sense of dying from covid. Bad try.</td>\n",
       "            <td>1</td>\n",
       "        </tr>\n",
       "    </tbody>\n",
       "</table>\n",
       "<span style=\"font-style:italic;text-align:center;\">Truncated to <a href=\"https://jupysql.ploomber.io/en/latest/api/configuration.html#displaylimit\">displaylimit</a> of 10.</span>"
      ],
      "text/plain": [
       "+---------+--------------------+-------------+---------------------------------------------------------------------------------------------------------------------------------------------------------------------------------------------------------------------------------------------------------------------------------------------------------------------------------------------------------------------------------------------------------------------------------------------------------------------------------------------------------------------------------------------------------------------------------------------------------------------------------------------------------------------------------------------------------------------------------------------------------------------------------------------------------------------------------------------------------------------------------------------------------------------------------------------------------------------------------------------------------------------------------------------------------------------+-------+\n",
       "|    id   |   subreddit.name   | created_utc |                                                                                                                                                                                                                                                                                                                                                                                                                                                                                                                                 body                                                                                                                                                                                                                                                                                                                                                                                                                                                                                                                                | score |\n",
       "+---------+--------------------+-------------+---------------------------------------------------------------------------------------------------------------------------------------------------------------------------------------------------------------------------------------------------------------------------------------------------------------------------------------------------------------------------------------------------------------------------------------------------------------------------------------------------------------------------------------------------------------------------------------------------------------------------------------------------------------------------------------------------------------------------------------------------------------------------------------------------------------------------------------------------------------------------------------------------------------------------------------------------------------------------------------------------------------------------------------------------------------------+-------+\n",
       "| hi1vsag |        nova        |  1635206399 |                                                                                                                                                                                                                                                                                                                                                                                                                                                         When you scheduled your booster with CVS does it just give you the option of Vaccines: COVID-19 (Vaccine brand) or does it specifically say booster                                                                                                                                                                                                                                                                                                                                                                                                                                                         |   2   |\n",
       "| hi1vs7i |     vancouver      |  1635206397 |                                                                                                                                                                                                                                                                                                                                                                                                                           Didn't stop prices there though. New Zealand and Canada grew at about the same rate through COVID.   I agree that non-resident ownership should be stopped, but it's also probably not going to change anything.                                                                                                                                                                                                                                                                                                                                                                                                                          |   32  |\n",
       "| hi1vs5n |      pregnant      |  1635206397 |                                                                                                                                                                                                                                                                                                                                    I’m just waiting until after pregnancy to get vaccinated.  I have a special needs daughter due to having fever during pregnancy and I’m not willing to risk the vaccine fever right now. I have strong antibodies from Covid that I had before I got pregnant. (I keep taking blood tests to check) There’s a difference between anti vaccine and deciding to wait based on different factors                                                                                                                                                                                                                                                                                                                                    |   1   |\n",
       "| hi1vs5v |      startrek      |  1635206397 | *The first duty of every Starfleet officer is to the truth. Whether it's scientific truth, or historical truth, or personal truth. It is the guiding principle upon which Starfleet is based. If you can't find it within yourself to stand up and tell the truth about what happened you don't deserve to wear that uniform.*  [Captain Jean-Luc Picard, \"The First Duty\"](https://www.youtube.com/watch?v=xefh7W1nVo4)  Reddit admins have been [ineffectual in their response to COVID-19 misinformation](https://www.dailydot.com/debug/subreddits-private-protest-covid-disinformation-reddit/). In lieu of Reddit gold and awards, we ask that you donate to the [WHO COVID-19 response fund](https://www.who.int/emergencies/diseases/novel-coronavirus-2019/donate).  Please respect our [subreddit rules](https://www.reddit.com/r/startrek/wiki/guidelines). LLAP!  *I am a bot, and this action was performed automatically. Please [contact the moderators of this subreddit](/message/compose/?to=/r/startrek) if you have any questions or concerns.* |   1   |\n",
       "| hi1vs0l |      ontario       |  1635206395 |                                                                                                                                                                                                                                                                                                                                                                                                                                                                         Compare BC to Ontario for COVID. It's even more striking how anti-mask, anti-vaccine that the NDP BC government is.                                                                                                                                                                                                                                                                                                                                                                                                                                                                         |   -2  |\n",
       "| hi1vrtk |   entertainment    |  1635206393 |                                                                                                                                                                                                                                            Sheeran didn't mention whether he was vaccinated in his post. But in July he joined James Corden for a segment on \"The Late Late Show with James Corden\" where the two changed the lyrics of Sheeran's hit song, \"Shape of You,\" with phrases about getting a Covid-19 vaccine.  \"Modera or Pfizer will do, You'll be good after jab number two, but wait two weeks for it to take effect.\"  https://www.cnn.com/2021/10/24/entertainment/ed-sheeran-covid-positive-trnd/index.html  Very likely he is vaccinated. Not an Ed Sheeran fan btw. I think his hits are irritating.                                                                                                                                                                                                                                           |   2   |\n",
       "| hi1vrsk |     conspiracy     |  1635206392 |                                                                                                                                                                                                                  I see a lot of posts like this comparing the covid outrage to other more deadly things, but the reason those stats fail to hit home with people is because all of those other things don't spread person to person. That's the huge key that allows covid restrictions to have such impact- because people fear the interpersonal spread.   Yes heart disease and hunger are also incredibly deadly, but people don't spread those to each other. That's why the government doesn't focus on them so much (at least that's what people will think, anyway). The fear of catching/spreading is what allows covid to be so powerful.                                                                                                                                                                                                                 |   1   |\n",
       "| hi1vrnr | lockdownskepticism |  1635206391 |                                                                                                                                                                                                                                                                      And think about how many people died over the last year and a half- whether from Covid or something else- and didn't get to enjoy their last months on earth.  That would actually be one of my worst fears.  Imagine having a heart attack or freak stroke in the middle of lockdowns and your last memories on earth were being isolated from everyone and everything you love.  That is why the older people in my family insisted on getting together for Thanksgiving and Christmas last year.  I was glad they did.                                                                                                                                                                                                                                                                      |   29  |\n",
       "| hi1vrpy |        nova        |  1635206391 |                                                                                                                                                                                                                                                                                                                                                                                                                                  Unfortunately they shut down during covid. I've been checking, but haven't seen any signs so thinking it's permanently closed.  Check Hill Country in DC as they sometimes do line dancing nights.                                                                                                                                                                                                                                                                                                                                                                                                                                 |   2   |\n",
       "| hi1vrou |    antivaxxers     |  1635206391 |                                                                                                                                                                                                                                                                                                                                                                                                                                       I don’t know anyone unvaccinated that has died from covid, I do know vaxxed people who have died from covid. It’s not a true statement at all in the sense of dying from covid. Bad try.                                                                                                                                                                                                                                                                                                                                                                                                                                      |   1   |\n",
       "+---------+--------------------+-------------+---------------------------------------------------------------------------------------------------------------------------------------------------------------------------------------------------------------------------------------------------------------------------------------------------------------------------------------------------------------------------------------------------------------------------------------------------------------------------------------------------------------------------------------------------------------------------------------------------------------------------------------------------------------------------------------------------------------------------------------------------------------------------------------------------------------------------------------------------------------------------------------------------------------------------------------------------------------------------------------------------------------------------------------------------------------------+-------+\n",
       "Truncated to displaylimit of 10."
      ]
     },
     "execution_count": 5,
     "metadata": {},
     "output_type": "execute_result"
    }
   ],
   "source": [
    "%sql SELECT * FROM small_reddit"
   ]
  },
  {
   "cell_type": "code",
   "execution_count": 6,
   "id": "59969d92-528a-4fc9-959d-e8b58b7650ef",
   "metadata": {},
   "outputs": [
    {
     "data": {
      "text/html": [
       "<span style=\"None\">Running query in &#x27;duckdb&#x27;</span>"
      ],
      "text/plain": [
       "Running query in 'duckdb'"
      ]
     },
     "metadata": {},
     "output_type": "display_data"
    },
    {
     "data": {
      "text/html": [
       "<table>\n",
       "    <thead>\n",
       "        <tr>\n",
       "            <th>Success</th>\n",
       "        </tr>\n",
       "    </thead>\n",
       "    <tbody>\n",
       "    </tbody>\n",
       "</table>"
      ],
      "text/plain": [
       "+---------+\n",
       "| Success |\n",
       "+---------+\n",
       "+---------+"
      ]
     },
     "execution_count": 6,
     "metadata": {},
     "output_type": "execute_result"
    }
   ],
   "source": [
    "%sql ALTER TABLE small_reddit ADD COLUMN sentiment_score INTEGER;"
   ]
  },
  {
   "cell_type": "code",
   "execution_count": 7,
   "id": "4fbe9b22-6871-4957-be32-851f34596a03",
   "metadata": {},
   "outputs": [
    {
     "data": {
      "text/html": [
       "<span style=\"None\">Running query in &#x27;duckdb&#x27;</span>"
      ],
      "text/plain": [
       "Running query in 'duckdb'"
      ]
     },
     "metadata": {},
     "output_type": "display_data"
    },
    {
     "data": {
      "text/html": [
       "<table>\n",
       "    <thead>\n",
       "        <tr>\n",
       "            <th>Success</th>\n",
       "        </tr>\n",
       "    </thead>\n",
       "    <tbody>\n",
       "    </tbody>\n",
       "</table>"
      ],
      "text/plain": [
       "+---------+\n",
       "| Success |\n",
       "+---------+\n",
       "+---------+"
      ]
     },
     "execution_count": 7,
     "metadata": {},
     "output_type": "execute_result"
    }
   ],
   "source": [
    "%sql ALTER TABLE small_twitter ADD COLUMN sentiment_score INTEGER;"
   ]
  },
  {
   "cell_type": "code",
   "execution_count": 8,
   "id": "c6653fe1-5ebb-4d37-bdc2-9349204b948c",
   "metadata": {},
   "outputs": [
    {
     "data": {
      "text/html": [
       "<span style=\"None\">Running query in &#x27;duckdb&#x27;</span>"
      ],
      "text/plain": [
       "Running query in 'duckdb'"
      ]
     },
     "metadata": {},
     "output_type": "display_data"
    },
    {
     "data": {
      "text/html": [
       "<table>\n",
       "    <thead>\n",
       "        <tr>\n",
       "            <th>id</th>\n",
       "            <th>subreddit.name</th>\n",
       "            <th>created_utc</th>\n",
       "            <th>body</th>\n",
       "            <th>score</th>\n",
       "            <th>sentiment_score</th>\n",
       "        </tr>\n",
       "    </thead>\n",
       "    <tbody>\n",
       "        <tr>\n",
       "            <td>hi1vsag</td>\n",
       "            <td>nova</td>\n",
       "            <td>1635206399</td>\n",
       "            <td>When you scheduled your booster with CVS does it just give you the option of Vaccines: COVID-19 (Vaccine brand) or does it specifically say booster</td>\n",
       "            <td>2</td>\n",
       "            <td>None</td>\n",
       "        </tr>\n",
       "        <tr>\n",
       "            <td>hi1vs7i</td>\n",
       "            <td>vancouver</td>\n",
       "            <td>1635206397</td>\n",
       "            <td>Didn't stop prices there though. New Zealand and Canada grew at about the same rate through COVID.   I agree that non-resident ownership should be stopped, but it's also probably not going to change anything.</td>\n",
       "            <td>32</td>\n",
       "            <td>None</td>\n",
       "        </tr>\n",
       "        <tr>\n",
       "            <td>hi1vs5n</td>\n",
       "            <td>pregnant</td>\n",
       "            <td>1635206397</td>\n",
       "            <td>I’m just waiting until after pregnancy to get vaccinated.  I have a special needs daughter due to having fever during pregnancy and I’m not willing to risk the vaccine fever right now. I have strong antibodies from Covid that I had before I got pregnant. (I keep taking blood tests to check) There’s a difference between anti vaccine and deciding to wait based on different factors</td>\n",
       "            <td>1</td>\n",
       "            <td>None</td>\n",
       "        </tr>\n",
       "        <tr>\n",
       "            <td>hi1vs5v</td>\n",
       "            <td>startrek</td>\n",
       "            <td>1635206397</td>\n",
       "            <td>*The first duty of every Starfleet officer is to the truth. Whether it's scientific truth, or historical truth, or personal truth. It is the guiding principle upon which Starfleet is based. If you can't find it within yourself to stand up and tell the truth about what happened you don't deserve to wear that uniform.*  [Captain Jean-Luc Picard, \"The First Duty\"](https://www.youtube.com/watch?v=xefh7W1nVo4)  Reddit admins have been [ineffectual in their response to COVID-19 misinformation](https://www.dailydot.com/debug/subreddits-private-protest-covid-disinformation-reddit/). In lieu of Reddit gold and awards, we ask that you donate to the [WHO COVID-19 response fund](https://www.who.int/emergencies/diseases/novel-coronavirus-2019/donate).  Please respect our [subreddit rules](https://www.reddit.com/r/startrek/wiki/guidelines). LLAP!  *I am a bot, and this action was performed automatically. Please [contact the moderators of this subreddit](/message/compose/?to=/r/startrek) if you have any questions or concerns.*</td>\n",
       "            <td>1</td>\n",
       "            <td>None</td>\n",
       "        </tr>\n",
       "        <tr>\n",
       "            <td>hi1vs0l</td>\n",
       "            <td>ontario</td>\n",
       "            <td>1635206395</td>\n",
       "            <td>Compare BC to Ontario for COVID. It's even more striking how anti-mask, anti-vaccine that the NDP BC government is.</td>\n",
       "            <td>-2</td>\n",
       "            <td>None</td>\n",
       "        </tr>\n",
       "        <tr>\n",
       "            <td>hi1vrtk</td>\n",
       "            <td>entertainment</td>\n",
       "            <td>1635206393</td>\n",
       "            <td>Sheeran didn't mention whether he was vaccinated in his post. But in July he joined James Corden for a segment on \"The Late Late Show with James Corden\" where the two changed the lyrics of Sheeran's hit song, \"Shape of You,\" with phrases about getting a Covid-19 vaccine.  \"Modera or Pfizer will do, You'll be good after jab number two, but wait two weeks for it to take effect.\"  https://www.cnn.com/2021/10/24/entertainment/ed-sheeran-covid-positive-trnd/index.html  Very likely he is vaccinated. Not an Ed Sheeran fan btw. I think his hits are irritating.</td>\n",
       "            <td>2</td>\n",
       "            <td>None</td>\n",
       "        </tr>\n",
       "        <tr>\n",
       "            <td>hi1vrsk</td>\n",
       "            <td>conspiracy</td>\n",
       "            <td>1635206392</td>\n",
       "            <td>I see a lot of posts like this comparing the covid outrage to other more deadly things, but the reason those stats fail to hit home with people is because all of those other things don't spread person to person. That's the huge key that allows covid restrictions to have such impact- because people fear the interpersonal spread.   Yes heart disease and hunger are also incredibly deadly, but people don't spread those to each other. That's why the government doesn't focus on them so much (at least that's what people will think, anyway). The fear of catching/spreading is what allows covid to be so powerful.</td>\n",
       "            <td>1</td>\n",
       "            <td>None</td>\n",
       "        </tr>\n",
       "        <tr>\n",
       "            <td>hi1vrnr</td>\n",
       "            <td>lockdownskepticism</td>\n",
       "            <td>1635206391</td>\n",
       "            <td>And think about how many people died over the last year and a half- whether from Covid or something else- and didn't get to enjoy their last months on earth.  That would actually be one of my worst fears.  Imagine having a heart attack or freak stroke in the middle of lockdowns and your last memories on earth were being isolated from everyone and everything you love.  That is why the older people in my family insisted on getting together for Thanksgiving and Christmas last year.  I was glad they did.</td>\n",
       "            <td>29</td>\n",
       "            <td>None</td>\n",
       "        </tr>\n",
       "        <tr>\n",
       "            <td>hi1vrpy</td>\n",
       "            <td>nova</td>\n",
       "            <td>1635206391</td>\n",
       "            <td>Unfortunately they shut down during covid. I've been checking, but haven't seen any signs so thinking it's permanently closed.  Check Hill Country in DC as they sometimes do line dancing nights.</td>\n",
       "            <td>2</td>\n",
       "            <td>None</td>\n",
       "        </tr>\n",
       "        <tr>\n",
       "            <td>hi1vrou</td>\n",
       "            <td>antivaxxers</td>\n",
       "            <td>1635206391</td>\n",
       "            <td>I don’t know anyone unvaccinated that has died from covid, I do know vaxxed people who have died from covid. It’s not a true statement at all in the sense of dying from covid. Bad try.</td>\n",
       "            <td>1</td>\n",
       "            <td>None</td>\n",
       "        </tr>\n",
       "    </tbody>\n",
       "</table>\n",
       "<span style=\"font-style:italic;text-align:center;\">Truncated to <a href=\"https://jupysql.ploomber.io/en/latest/api/configuration.html#displaylimit\">displaylimit</a> of 10.</span>"
      ],
      "text/plain": [
       "+---------+--------------------+-------------+---------------------------------------------------------------------------------------------------------------------------------------------------------------------------------------------------------------------------------------------------------------------------------------------------------------------------------------------------------------------------------------------------------------------------------------------------------------------------------------------------------------------------------------------------------------------------------------------------------------------------------------------------------------------------------------------------------------------------------------------------------------------------------------------------------------------------------------------------------------------------------------------------------------------------------------------------------------------------------------------------------------------------------------------------------------------+-------+-----------------+\n",
       "|    id   |   subreddit.name   | created_utc |                                                                                                                                                                                                                                                                                                                                                                                                                                                                                                                                 body                                                                                                                                                                                                                                                                                                                                                                                                                                                                                                                                | score | sentiment_score |\n",
       "+---------+--------------------+-------------+---------------------------------------------------------------------------------------------------------------------------------------------------------------------------------------------------------------------------------------------------------------------------------------------------------------------------------------------------------------------------------------------------------------------------------------------------------------------------------------------------------------------------------------------------------------------------------------------------------------------------------------------------------------------------------------------------------------------------------------------------------------------------------------------------------------------------------------------------------------------------------------------------------------------------------------------------------------------------------------------------------------------------------------------------------------------+-------+-----------------+\n",
       "| hi1vsag |        nova        |  1635206399 |                                                                                                                                                                                                                                                                                                                                                                                                                                                         When you scheduled your booster with CVS does it just give you the option of Vaccines: COVID-19 (Vaccine brand) or does it specifically say booster                                                                                                                                                                                                                                                                                                                                                                                                                                                         |   2   |       None      |\n",
       "| hi1vs7i |     vancouver      |  1635206397 |                                                                                                                                                                                                                                                                                                                                                                                                                           Didn't stop prices there though. New Zealand and Canada grew at about the same rate through COVID.   I agree that non-resident ownership should be stopped, but it's also probably not going to change anything.                                                                                                                                                                                                                                                                                                                                                                                                                          |   32  |       None      |\n",
       "| hi1vs5n |      pregnant      |  1635206397 |                                                                                                                                                                                                                                                                                                                                    I’m just waiting until after pregnancy to get vaccinated.  I have a special needs daughter due to having fever during pregnancy and I’m not willing to risk the vaccine fever right now. I have strong antibodies from Covid that I had before I got pregnant. (I keep taking blood tests to check) There’s a difference between anti vaccine and deciding to wait based on different factors                                                                                                                                                                                                                                                                                                                                    |   1   |       None      |\n",
       "| hi1vs5v |      startrek      |  1635206397 | *The first duty of every Starfleet officer is to the truth. Whether it's scientific truth, or historical truth, or personal truth. It is the guiding principle upon which Starfleet is based. If you can't find it within yourself to stand up and tell the truth about what happened you don't deserve to wear that uniform.*  [Captain Jean-Luc Picard, \"The First Duty\"](https://www.youtube.com/watch?v=xefh7W1nVo4)  Reddit admins have been [ineffectual in their response to COVID-19 misinformation](https://www.dailydot.com/debug/subreddits-private-protest-covid-disinformation-reddit/). In lieu of Reddit gold and awards, we ask that you donate to the [WHO COVID-19 response fund](https://www.who.int/emergencies/diseases/novel-coronavirus-2019/donate).  Please respect our [subreddit rules](https://www.reddit.com/r/startrek/wiki/guidelines). LLAP!  *I am a bot, and this action was performed automatically. Please [contact the moderators of this subreddit](/message/compose/?to=/r/startrek) if you have any questions or concerns.* |   1   |       None      |\n",
       "| hi1vs0l |      ontario       |  1635206395 |                                                                                                                                                                                                                                                                                                                                                                                                                                                                         Compare BC to Ontario for COVID. It's even more striking how anti-mask, anti-vaccine that the NDP BC government is.                                                                                                                                                                                                                                                                                                                                                                                                                                                                         |   -2  |       None      |\n",
       "| hi1vrtk |   entertainment    |  1635206393 |                                                                                                                                                                                                                                            Sheeran didn't mention whether he was vaccinated in his post. But in July he joined James Corden for a segment on \"The Late Late Show with James Corden\" where the two changed the lyrics of Sheeran's hit song, \"Shape of You,\" with phrases about getting a Covid-19 vaccine.  \"Modera or Pfizer will do, You'll be good after jab number two, but wait two weeks for it to take effect.\"  https://www.cnn.com/2021/10/24/entertainment/ed-sheeran-covid-positive-trnd/index.html  Very likely he is vaccinated. Not an Ed Sheeran fan btw. I think his hits are irritating.                                                                                                                                                                                                                                           |   2   |       None      |\n",
       "| hi1vrsk |     conspiracy     |  1635206392 |                                                                                                                                                                                                                  I see a lot of posts like this comparing the covid outrage to other more deadly things, but the reason those stats fail to hit home with people is because all of those other things don't spread person to person. That's the huge key that allows covid restrictions to have such impact- because people fear the interpersonal spread.   Yes heart disease and hunger are also incredibly deadly, but people don't spread those to each other. That's why the government doesn't focus on them so much (at least that's what people will think, anyway). The fear of catching/spreading is what allows covid to be so powerful.                                                                                                                                                                                                                 |   1   |       None      |\n",
       "| hi1vrnr | lockdownskepticism |  1635206391 |                                                                                                                                                                                                                                                                      And think about how many people died over the last year and a half- whether from Covid or something else- and didn't get to enjoy their last months on earth.  That would actually be one of my worst fears.  Imagine having a heart attack or freak stroke in the middle of lockdowns and your last memories on earth were being isolated from everyone and everything you love.  That is why the older people in my family insisted on getting together for Thanksgiving and Christmas last year.  I was glad they did.                                                                                                                                                                                                                                                                      |   29  |       None      |\n",
       "| hi1vrpy |        nova        |  1635206391 |                                                                                                                                                                                                                                                                                                                                                                                                                                  Unfortunately they shut down during covid. I've been checking, but haven't seen any signs so thinking it's permanently closed.  Check Hill Country in DC as they sometimes do line dancing nights.                                                                                                                                                                                                                                                                                                                                                                                                                                 |   2   |       None      |\n",
       "| hi1vrou |    antivaxxers     |  1635206391 |                                                                                                                                                                                                                                                                                                                                                                                                                                       I don’t know anyone unvaccinated that has died from covid, I do know vaxxed people who have died from covid. It’s not a true statement at all in the sense of dying from covid. Bad try.                                                                                                                                                                                                                                                                                                                                                                                                                                      |   1   |       None      |\n",
       "+---------+--------------------+-------------+---------------------------------------------------------------------------------------------------------------------------------------------------------------------------------------------------------------------------------------------------------------------------------------------------------------------------------------------------------------------------------------------------------------------------------------------------------------------------------------------------------------------------------------------------------------------------------------------------------------------------------------------------------------------------------------------------------------------------------------------------------------------------------------------------------------------------------------------------------------------------------------------------------------------------------------------------------------------------------------------------------------------------------------------------------------------+-------+-----------------+\n",
       "Truncated to displaylimit of 10."
      ]
     },
     "execution_count": 8,
     "metadata": {},
     "output_type": "execute_result"
    }
   ],
   "source": [
    "%sql SELECT * FROM small_reddit"
   ]
  },
  {
   "cell_type": "code",
   "execution_count": 20,
   "id": "ed3d5020-8c8c-4c98-b8d1-c3f1e6cacfef",
   "metadata": {},
   "outputs": [
    {
     "name": "stdout",
     "output_type": "stream",
     "text": [
      "Error: unable to open database \"clean_prototype.ddb\": IO Error: Could not set lock on file \"clean_prototype.ddb\": Conflicting lock is held in /Library/Frameworks/Python.framework/Versions/3.12/Resources/Python.app/Contents/MacOS/Python (PID 71885) by user duncanbeauchamp. See also https://duckdb.org/docs/connect/concurrency\n",
      "Error: unable to open database \"clean_prototype.ddb\": IO Error: Could not set lock on file \"clean_prototype.ddb\": Conflicting lock is held in /Library/Frameworks/Python.framework/Versions/3.12/Resources/Python.app/Contents/MacOS/Python (PID 71885) by user duncanbeauchamp. See also https://duckdb.org/docs/connect/concurrency\n"
     ]
    }
   ],
   "source": [
    "conn.close()\n",
    "!bash small_data.sh"
   ]
  },
  {
   "cell_type": "code",
   "execution_count": null,
   "id": "d51144e4-1754-4a51-96c0-09f477874d24",
   "metadata": {},
   "outputs": [],
   "source": [
    "conn = duckdb.connect(\"clean_prototype.ddb\")\n",
    "%sql conn --alias duckdb"
   ]
  },
  {
   "cell_type": "code",
   "execution_count": null,
   "id": "4bc52b8c-3bc4-4a91-b8c7-360791b950c9",
   "metadata": {},
   "outputs": [],
   "source": []
  },
  {
   "cell_type": "code",
   "execution_count": 22,
   "id": "0cd0ca63-6070-4e61-8fbb-757930bdafad",
   "metadata": {},
   "outputs": [
    {
     "data": {
      "text/html": [
       "<span style=\"None\">Running query in &#x27;duckdb&#x27;</span>"
      ],
      "text/plain": [
       "Running query in 'duckdb'"
      ]
     },
     "metadata": {},
     "output_type": "display_data"
    },
    {
     "data": {
      "text/html": [
       "<table>\n",
       "    <thead>\n",
       "        <tr>\n",
       "            <th>status_id</th>\n",
       "            <th>created_at</th>\n",
       "            <th>screen_name</th>\n",
       "            <th>text</th>\n",
       "            <th>lang</th>\n",
       "            <th>source</th>\n",
       "            <th>retweet_count</th>\n",
       "            <th>reply_to_screen_name</th>\n",
       "            <th>country_code</th>\n",
       "            <th>followers_count</th>\n",
       "            <th>verified</th>\n",
       "            <th>sentiment_score</th>\n",
       "        </tr>\n",
       "    </thead>\n",
       "    <tbody>\n",
       "        <tr>\n",
       "            <td>1244051646071611394</td>\n",
       "            <td>2020-03-29 00:00:00</td>\n",
       "            <td>IMSS_SanLuis</td>\n",
       "            <td>Ante cualquier enfermedad respiratoria, no te automediques. #PrevenciónCoronavirus #Coronavirus #COVID19 https://t.co/IgB2izYi1p</td>\n",
       "            <td>es</td>\n",
       "            <td>TweetDeck</td>\n",
       "            <td>0</td>\n",
       "            <td>None</td>\n",
       "            <td>None</td>\n",
       "            <td>1008</td>\n",
       "            <td>False</td>\n",
       "            <td>0</td>\n",
       "        </tr>\n",
       "        <tr>\n",
       "            <td>1244051645039706112</td>\n",
       "            <td>2020-03-29 00:00:00</td>\n",
       "            <td>intrac_ccs</td>\n",
       "            <td>#ATENCIÓN En el Terminal Nuevo Circo se implementan medidas como el uso de la mascarilla por parte de usuari@s y conductores que hacen vida en dichas instalaciones, parte de los esfuerzos unificados para impedir la propagación del #Coronavirus #28Marzo @NicolasMaduro  @ErikaPSUV https://t.co/yD8g0EAcQz</td>\n",
       "            <td>es</td>\n",
       "            <td>TweetDeck</td>\n",
       "            <td>1</td>\n",
       "            <td>None</td>\n",
       "            <td>None</td>\n",
       "            <td>90</td>\n",
       "            <td>False</td>\n",
       "            <td>0</td>\n",
       "        </tr>\n",
       "        <tr>\n",
       "            <td>1244051645975191557</td>\n",
       "            <td>2020-03-29 00:00:00</td>\n",
       "            <td>rlieving</td>\n",
       "            <td>“People are just storing up. They are staying at home freezing things. I talk to dealers around the state and out of the area, they are all out of freezers,” said owner Frank Mertz.  https://t.co/gsqghMqJs9  @KQDS_FOX21 #minneapolis #mn #covid19 #coronavirus</td>\n",
       "            <td>en</td>\n",
       "            <td>TweetDeck</td>\n",
       "            <td>0</td>\n",
       "            <td>None</td>\n",
       "            <td>None</td>\n",
       "            <td>136</td>\n",
       "            <td>False</td>\n",
       "            <td>-1</td>\n",
       "        </tr>\n",
       "        <tr>\n",
       "            <td>1244051646750928897</td>\n",
       "            <td>2020-03-29 00:00:00</td>\n",
       "            <td>Tu_IMSS_Coah</td>\n",
       "            <td>Si empezaste a trabajar, necesitas dar de alta a tus beneficiarios ante el #IMSS, ahora lo puedes hacer desde tu domicilio a través de internet y evita filas | #SanaDistancia #QuédateEnCasa  #Coronavirus #COVID19 #MéxicoUnido            https://t.co/zv3POwhVXe https://t.co/1VOKagjdOF</td>\n",
       "            <td>es</td>\n",
       "            <td>TweetDeck</td>\n",
       "            <td>0</td>\n",
       "            <td>None</td>\n",
       "            <td>None</td>\n",
       "            <td>1549</td>\n",
       "            <td>False</td>\n",
       "            <td>0</td>\n",
       "        </tr>\n",
       "        <tr>\n",
       "            <td>1244051647032102914</td>\n",
       "            <td>2020-03-29 00:00:00</td>\n",
       "            <td>Tabasco_IMSS</td>\n",
       "            <td>Una sociedad informada está mejor preparada ante el #Coronavirus #COVID19 ¡inscríbete! https://t.co/HhuRe1r7Wo</td>\n",
       "            <td>es</td>\n",
       "            <td>TweetDeck</td>\n",
       "            <td>0</td>\n",
       "            <td>None</td>\n",
       "            <td>None</td>\n",
       "            <td>868</td>\n",
       "            <td>False</td>\n",
       "            <td>0</td>\n",
       "        </tr>\n",
       "        <tr>\n",
       "            <td>1244051645710897155</td>\n",
       "            <td>2020-03-29 00:00:00</td>\n",
       "            <td>SSalud_mx</td>\n",
       "            <td>¡#Infórmate! #ConferenciaDePrensa sobre el #Coronavirus #COVID19 a las 7 pm. Sigue la transmisión en nuestros perfiles de Facebook, Twitter y en https://t.co/BE7JBC7ARm. https://t.co/g84X9EEnEz</td>\n",
       "            <td>es</td>\n",
       "            <td>TweetDeck</td>\n",
       "            <td>49</td>\n",
       "            <td>None</td>\n",
       "            <td>None</td>\n",
       "            <td>812318</td>\n",
       "            <td>True</td>\n",
       "            <td>0</td>\n",
       "        </tr>\n",
       "        <tr>\n",
       "            <td>1244051646935633921</td>\n",
       "            <td>2020-03-29 00:00:00</td>\n",
       "            <td>AmerMedicalAssn</td>\n",
       "            <td>.@PatriceHarrisMD spoke with @YahooFinance about the #COVID19 stimulus package making its way through Congress and how the healthcare landscape will change once the #pandemic ends. https://t.co/YbfJwrA7ih</td>\n",
       "            <td>en</td>\n",
       "            <td>Sprinklr</td>\n",
       "            <td>3</td>\n",
       "            <td>None</td>\n",
       "            <td>None</td>\n",
       "            <td>714952</td>\n",
       "            <td>True</td>\n",
       "            <td>0</td>\n",
       "        </tr>\n",
       "        <tr>\n",
       "            <td>1244051645971025920</td>\n",
       "            <td>2020-03-29 00:00:00</td>\n",
       "            <td>CGTNOfficial</td>\n",
       "            <td>First medical team aiding #Wuhan in fight against epidemic completes mission   #COVID19 #CoronavirusOutbreak https://t.co/zeeai42psk</td>\n",
       "            <td>en</td>\n",
       "            <td>Twitter Media Studio</td>\n",
       "            <td>18</td>\n",
       "            <td>None</td>\n",
       "            <td>None</td>\n",
       "            <td>14040072</td>\n",
       "            <td>True</td>\n",
       "            <td>-1</td>\n",
       "        </tr>\n",
       "        <tr>\n",
       "            <td>1244051647149543426</td>\n",
       "            <td>2020-03-29 00:00:00</td>\n",
       "            <td>OnTopMag</td>\n",
       "            <td>.@KathyGriffin: @realDonaldTrump Is 'Lying' About #Coronavirus Testing https://t.co/JZp8brA577 #covid19 #lgbt</td>\n",
       "            <td>en</td>\n",
       "            <td>Twitter for Advertisers</td>\n",
       "            <td>1</td>\n",
       "            <td>None</td>\n",
       "            <td>None</td>\n",
       "            <td>5042</td>\n",
       "            <td>False</td>\n",
       "            <td>-1</td>\n",
       "        </tr>\n",
       "        <tr>\n",
       "            <td>1244051645039693824</td>\n",
       "            <td>2020-03-29 00:00:00</td>\n",
       "            <td>ContraReplicaMX</td>\n",
       "            <td>A pesar de la contingencia sanitaria provocada por el #Covid19, el @SismologicoMX va a continuar con el monitoreo las 24 horas del día. https://t.co/HTzp4feAYz</td>\n",
       "            <td>es</td>\n",
       "            <td>TweetDeck</td>\n",
       "            <td>0</td>\n",
       "            <td>None</td>\n",
       "            <td>None</td>\n",
       "            <td>13287</td>\n",
       "            <td>False</td>\n",
       "            <td>0</td>\n",
       "        </tr>\n",
       "    </tbody>\n",
       "</table>\n",
       "<span style=\"font-style:italic;text-align:center;\">Truncated to <a href=\"https://jupysql.ploomber.io/en/latest/api/configuration.html#displaylimit\">displaylimit</a> of 10.</span>"
      ],
      "text/plain": [
       "+---------------------+---------------------+-----------------+-----------------------------------------------------------------------------------------------------------------------------------------------------------------------------------------------------------------------------------------------------------------------------------------------------------------+------+-------------------------+---------------+----------------------+--------------+-----------------+----------+-----------------+\n",
       "|      status_id      |      created_at     |   screen_name   |                                                                                                                                                       text                                                                                                                                                      | lang |          source         | retweet_count | reply_to_screen_name | country_code | followers_count | verified | sentiment_score |\n",
       "+---------------------+---------------------+-----------------+-----------------------------------------------------------------------------------------------------------------------------------------------------------------------------------------------------------------------------------------------------------------------------------------------------------------+------+-------------------------+---------------+----------------------+--------------+-----------------+----------+-----------------+\n",
       "| 1244051646071611394 | 2020-03-29 00:00:00 |   IMSS_SanLuis  |                                                                                         Ante cualquier enfermedad respiratoria, no te automediques. #PrevenciónCoronavirus #Coronavirus #COVID19 https://t.co/IgB2izYi1p                                                                                        |  es  |        TweetDeck        |       0       |         None         |     None     |       1008      |  False   |        0        |\n",
       "| 1244051645039706112 | 2020-03-29 00:00:00 |    intrac_ccs   | #ATENCIÓN En el Terminal Nuevo Circo se implementan medidas como el uso de la mascarilla por parte de usuari@s y conductores que hacen vida en dichas instalaciones, parte de los esfuerzos unificados para impedir la propagación del #Coronavirus #28Marzo @NicolasMaduro  @ErikaPSUV https://t.co/yD8g0EAcQz |  es  |        TweetDeck        |       1       |         None         |     None     |        90       |  False   |        0        |\n",
       "| 1244051645975191557 | 2020-03-29 00:00:00 |     rlieving    |                        “People are just storing up. They are staying at home freezing things. I talk to dealers around the state and out of the area, they are all out of freezers,” said owner Frank Mertz.  https://t.co/gsqghMqJs9  @KQDS_FOX21 #minneapolis #mn #covid19 #coronavirus                       |  en  |        TweetDeck        |       0       |         None         |     None     |       136       |  False   |        -1       |\n",
       "| 1244051646750928897 | 2020-03-29 00:00:00 |   Tu_IMSS_Coah  |           Si empezaste a trabajar, necesitas dar de alta a tus beneficiarios ante el #IMSS, ahora lo puedes hacer desde tu domicilio a través de internet y evita filas | #SanaDistancia #QuédateEnCasa  #Coronavirus #COVID19 #MéxicoUnido            https://t.co/zv3POwhVXe https://t.co/1VOKagjdOF          |  es  |        TweetDeck        |       0       |         None         |     None     |       1549      |  False   |        0        |\n",
       "| 1244051647032102914 | 2020-03-29 00:00:00 |   Tabasco_IMSS  |                                                                                                  Una sociedad informada está mejor preparada ante el #Coronavirus #COVID19 ¡inscríbete! https://t.co/HhuRe1r7Wo                                                                                                 |  es  |        TweetDeck        |       0       |         None         |     None     |       868       |  False   |        0        |\n",
       "| 1244051645710897155 | 2020-03-29 00:00:00 |    SSalud_mx    |                                                        ¡#Infórmate! #ConferenciaDePrensa sobre el #Coronavirus #COVID19 a las 7 pm. Sigue la transmisión en nuestros perfiles de Facebook, Twitter y en https://t.co/BE7JBC7ARm. https://t.co/g84X9EEnEz                                                        |  es  |        TweetDeck        |       49      |         None         |     None     |      812318     |   True   |        0        |\n",
       "| 1244051646935633921 | 2020-03-29 00:00:00 | AmerMedicalAssn |                                                   .@PatriceHarrisMD spoke with @YahooFinance about the #COVID19 stimulus package making its way through Congress and how the healthcare landscape will change once the #pandemic ends. https://t.co/YbfJwrA7ih                                                  |  en  |         Sprinklr        |       3       |         None         |     None     |      714952     |   True   |        0        |\n",
       "| 1244051645971025920 | 2020-03-29 00:00:00 |   CGTNOfficial  |                                                                                       First medical team aiding #Wuhan in fight against epidemic completes mission   #COVID19 #CoronavirusOutbreak https://t.co/zeeai42psk                                                                                      |  en  |   Twitter Media Studio  |       18      |         None         |     None     |     14040072    |   True   |        -1       |\n",
       "| 1244051647149543426 | 2020-03-29 00:00:00 |     OnTopMag    |                                                                                                  .@KathyGriffin: @realDonaldTrump Is 'Lying' About #Coronavirus Testing https://t.co/JZp8brA577 #covid19 #lgbt                                                                                                  |  en  | Twitter for Advertisers |       1       |         None         |     None     |       5042      |  False   |        -1       |\n",
       "| 1244051645039693824 | 2020-03-29 00:00:00 | ContraReplicaMX |                                                                         A pesar de la contingencia sanitaria provocada por el #Covid19, el @SismologicoMX va a continuar con el monitoreo las 24 horas del día. https://t.co/HTzp4feAYz                                                                         |  es  |        TweetDeck        |       0       |         None         |     None     |      13287      |  False   |        0        |\n",
       "+---------------------+---------------------+-----------------+-----------------------------------------------------------------------------------------------------------------------------------------------------------------------------------------------------------------------------------------------------------------------------------------------------------------+------+-------------------------+---------------+----------------------+--------------+-----------------+----------+-----------------+\n",
       "Truncated to displaylimit of 10."
      ]
     },
     "execution_count": 22,
     "metadata": {},
     "output_type": "execute_result"
    }
   ],
   "source": [
    "%sql SELECT * FROM small_twitter"
   ]
  },
  {
   "cell_type": "code",
   "execution_count": null,
   "id": "b23c9ac6-237d-4292-85be-01c29cd23e1b",
   "metadata": {},
   "outputs": [],
   "source": []
  }
 ],
 "metadata": {
  "kernelspec": {
   "display_name": "Python 3 (ipykernel)",
   "language": "python",
   "name": "python3"
  },
  "language_info": {
   "codemirror_mode": {
    "name": "ipython",
    "version": 3
   },
   "file_extension": ".py",
   "mimetype": "text/x-python",
   "name": "python",
   "nbconvert_exporter": "python",
   "pygments_lexer": "ipython3",
   "version": "3.12.4"
  }
 },
 "nbformat": 4,
 "nbformat_minor": 5
}
