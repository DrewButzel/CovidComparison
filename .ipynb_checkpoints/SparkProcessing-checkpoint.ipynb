{
 "cells": [
  {
   "cell_type": "code",
   "execution_count": 1,
   "id": "2d22d375-3c93-4073-b593-2855d6a076d6",
   "metadata": {},
   "outputs": [],
   "source": [
    "import os\n",
    "os.environ[\"JAVA_HOME\"] = \"/Library/Java/JavaVirtualMachines/jdk-21.jdk/Contents/Home\"\n",
    "os.environ[\"SPARK_HOME\"] = \"spark-3.5.3-bin-hadoop3\""
   ]
  },
  {
   "cell_type": "code",
   "execution_count": 2,
   "id": "076211cf-f8e1-4c29-be12-06ac5a0e2dda",
   "metadata": {},
   "outputs": [],
   "source": [
    "import findspark\n",
    "findspark.init()"
   ]
  },
  {
   "cell_type": "code",
   "execution_count": 3,
   "id": "d52beb97-fd0f-43ce-b52f-8030a04f0fe1",
   "metadata": {},
   "outputs": [
    {
     "name": "stdout",
     "output_type": "stream",
     "text": [
      "8\n"
     ]
    }
   ],
   "source": [
    "import multiprocessing\n",
    "print(multiprocessing.cpu_count())"
   ]
  },
  {
   "cell_type": "code",
   "execution_count": 4,
   "id": "b6a64a7c-9eb2-49ae-80e4-7314696a21e5",
   "metadata": {},
   "outputs": [
    {
     "name": "stderr",
     "output_type": "stream",
     "text": [
      "25/03/20 14:01:13 WARN Utils: Your hostname, Duncans-MacBook-Air.local resolves to a loopback address: 127.0.0.1; using 172.18.95.63 instead (on interface en0)\n",
      "25/03/20 14:01:13 WARN Utils: Set SPARK_LOCAL_IP if you need to bind to another address\n",
      "Setting default log level to \"WARN\".\n",
      "To adjust logging level use sc.setLogLevel(newLevel). For SparkR, use setLogLevel(newLevel).\n",
      "25/03/20 14:01:13 WARN NativeCodeLoader: Unable to load native-hadoop library for your platform... using builtin-java classes where applicable\n",
      "25/03/20 14:01:14 WARN Utils: Service 'SparkUI' could not bind on port 4040. Attempting port 4041.\n"
     ]
    }
   ],
   "source": [
    "from pyspark.sql import SparkSession\n",
    "\n",
    "spark = SparkSession.builder \\\n",
    "    .appName(\"CSV Loader\") \\\n",
    "    .master(\"local[*]\") \\\n",
    "    .getOrCreate()\n",
    "\n",
    "sc = spark.sparkContext  # Get the existing SparkContext"
   ]
  },
  {
   "cell_type": "code",
   "execution_count": 5,
   "id": "044ccb8f-e7f4-4edf-a595-dda5a327a153",
   "metadata": {},
   "outputs": [],
   "source": [
    "reddit_rdd = sc.textFile(\"reddit_test/reddit_cleaned.csv\")\n",
    "header=reddit_rdd.first()\n",
    "reddit_rdd=reddit_rdd.filter(lambda row : row!= header)"
   ]
  },
  {
   "cell_type": "code",
   "execution_count": 65,
   "id": "88fd375f-547a-4151-a5af-e8897bf287a9",
   "metadata": {},
   "outputs": [
    {
     "name": "stdout",
     "output_type": "stream",
     "text": [
      "CPU times: user 12.6 ms, sys: 4.01 ms, total: 16.6 ms\n",
      "Wall time: 15.8 ms\n"
     ]
    }
   ],
   "source": [
    "%%time\n",
    "pos_words_en=set()\n",
    "neg_words_en=set()\n",
    "pos_words_es=set()\n",
    "neg_words_es=set()\n",
    "pos_words_fr=set()\n",
    "neg_words_fr=set()\n",
    "pos_words_tr=set()\n",
    "neg_words_tr=set()\n",
    "pos_words_it=set()\n",
    "neg_words_it=set()\n",
    "\n",
    "with open('sentiment_txts/positive_words_en.txt','r') as file:\n",
    "    for line in file:\n",
    "        pos_words_en.add(line.strip())\n",
    "with open('sentiment_txts/negative_words_en.txt','r',encoding='latin-1') as file:\n",
    "    for line in file:\n",
    "        neg_words_en.add(line.strip())\n",
    "with open('sentiment_txts/positive_words_es.txt','r') as file:\n",
    "    for line in file:\n",
    "        pos_words_es.add(line.strip())\n",
    "with open('sentiment_txts/negative_words_es.txt','r',encoding='latin-1') as file:\n",
    "    for line in file:\n",
    "        neg_words_es.add(line.strip())\n",
    "with open('sentiment_txts/positive_words_fr.txt','r') as file:\n",
    "    for line in file:\n",
    "        pos_words_fr.add(line.strip())\n",
    "with open('sentiment_txts/negative_words_fr.txt','r',encoding='latin-1') as file:\n",
    "    for line in file:\n",
    "        neg_words_fr.add(line.strip())\n",
    "with open('sentiment_txts/positive_words_tr.txt','r') as file:\n",
    "    for line in file:\n",
    "        pos_words_tr.add(line.strip())\n",
    "with open('sentiment_txts/negative_words_tr.txt','r',encoding='latin-1') as file:\n",
    "    for line in file:\n",
    "        neg_words_tr.add(line.strip())\n",
    "with open('sentiment_txts/positive_words_it.txt','r') as file:\n",
    "    for line in file:\n",
    "        pos_words_it.add(line.strip())\n",
    "with open('sentiment_txts/negative_words_it.txt','r',encoding='latin-1') as file:\n",
    "    for line in file:\n",
    "        neg_words_it.add(line.strip())"
   ]
  },
  {
   "cell_type": "code",
   "execution_count": 50,
   "id": "11b50eb5-80e3-422a-873a-f3491da911c6",
   "metadata": {
    "collapsed": true,
    "jupyter": {
     "outputs_hidden": true
    },
    "scrolled": true
   },
   "outputs": [
    {
     "data": {
      "text/plain": [
       "['hi1vsag,When you scheduled your booster with CVS does it just give you the option of Vaccines: COVID-19 (Vaccine brand) or does it specifically say booster',\n",
       " 'hi1vs7i,\"Didn\\'t stop prices there though. New Zealand and Canada grew at about the same rate through COVID.   I agree that non-resident ownership should be stopped, but it\\'s also probably not going to change anything.\"',\n",
       " 'hi1vs5n,I’m just waiting until after pregnancy to get vaccinated.  I have a special needs daughter due to having fever during pregnancy and I’m not willing to risk the vaccine fever right now. I have strong antibodies from Covid that I had before I got pregnant. (I keep taking blood tests to check) There’s a difference between anti vaccine and deciding to wait based on different factors',\n",
       " 'hi1vs5v,\"*The first duty of every Starfleet officer is to the truth. Whether it\\'s scientific truth, or historical truth, or personal truth. It is the guiding principle upon which Starfleet is based. If you can\\'t find it within yourself to stand up and tell the truth about what happened you don\\'t deserve to wear that uniform.*  [Captain Jean-Luc Picard, \\\\\"The First Duty\\\\\"](https://www.youtube.com/watch?v=xefh7W1nVo4)  Reddit admins have been [ineffectual in their response to COVID-19 misinformation](https://www.dailydot.com/debug/subreddits-private-protest-covid-disinformation-reddit/). In lieu of Reddit gold and awards, we ask that you donate to the [WHO COVID-19 response fund](https://www.who.int/emergencies/diseases/novel-coronavirus-2019/donate).  Please respect our [subreddit rules](https://www.reddit.com/r/startrek/wiki/guidelines). LLAP!  *I am a bot, and this action was performed automatically. Please [contact the moderators of this subreddit](/message/compose/?to=/r/startrek) if you have any questions or concerns.*\"',\n",
       " 'hi1vs0l,\"Compare BC to Ontario for COVID. It\\'s even more striking how anti-mask, anti-vaccine that the NDP BC government is.\"']"
      ]
     },
     "execution_count": 50,
     "metadata": {},
     "output_type": "execute_result"
    }
   ],
   "source": [
    "reddit_rdd.take(5)"
   ]
  },
  {
   "cell_type": "code",
   "execution_count": 51,
   "id": "1abfdff5-1c56-4ff8-88cd-3d47cbfeb3f3",
   "metadata": {},
   "outputs": [],
   "source": [
    "import re\n",
    "#input: line of rdd, output: list of (id,word) pairs for each cleaned word in text\n",
    "def reddit_id_word_pair(line):\n",
    "    id, text = line.split(\",\",1) \n",
    "    cleaned_text=re.sub(r'[^a-zA-Z\\s]','',text.strip()).lower()\n",
    "    return [(id,word) for word in re.split(r'\\s+',cleaned_text)]"
   ]
  },
  {
   "cell_type": "code",
   "execution_count": 52,
   "id": "2eb23344-5f32-4188-b6f8-42bc2a95b6a7",
   "metadata": {},
   "outputs": [],
   "source": [
    "def reddit_word_to_sentiment(pair):\n",
    "    id, word = pair\n",
    "    score=0\n",
    "    if word in pos_words_en:\n",
    "        score+= 1\n",
    "    if word in neg_words_en:\n",
    "        score-=1\n",
    "    return id, score"
   ]
  },
  {
   "cell_type": "code",
   "execution_count": 53,
   "id": "6bd4648b-8a44-49b3-85f6-994be55630c2",
   "metadata": {},
   "outputs": [],
   "source": [
    "reddit_id_word_pair_rdd=reddit_rdd.flatMap(reddit_id_word_pair)"
   ]
  },
  {
   "cell_type": "code",
   "execution_count": 54,
   "id": "64e9d14f-d420-4ed6-90f0-84afc78c4298",
   "metadata": {},
   "outputs": [],
   "source": [
    "reddit_sentiment_pair_rdd=reddit_id_word_pair_rdd.map(reddit_word_to_sentiment)"
   ]
  },
  {
   "cell_type": "code",
   "execution_count": 55,
   "id": "2bf42a42-50dc-4c34-9a85-731383f9a552",
   "metadata": {},
   "outputs": [],
   "source": [
    "reddit_comment_scores=reddit_sentiment_pair_rdd.reduceByKey(lambda x,y: x+y)"
   ]
  },
  {
   "cell_type": "code",
   "execution_count": 56,
   "id": "eec39d8a-cb9b-4374-80c9-f44f2c425b2b",
   "metadata": {},
   "outputs": [],
   "source": [
    "reddit_positive_scores=reddit_comment_scores.filter(lambda x: x[1]>0)\n",
    "reddit_neutral_scores=reddit_comment_scores.filter(lambda x: x[1]==0)\n",
    "reddit_negative_scores=reddit_comment_scores.filter(lambda x: x[1]<0)"
   ]
  },
  {
   "cell_type": "code",
   "execution_count": 62,
   "id": "6b383a29-637a-46ee-a94e-ce5ed257f2b4",
   "metadata": {},
   "outputs": [
    {
     "name": "stdout",
     "output_type": "stream",
     "text": [
      "100\n",
      "pos: 0.34 neutral: 0.26 neg: 0.4\n"
     ]
    }
   ],
   "source": [
    "total=reddit_comment_scores.count()\n",
    "print(total)\n",
    "reddit_positive_percent=reddit_positive_scores.count()/total\n",
    "reddit_neutral_percent=reddit_neutral_scores.count()/total\n",
    "reddit_negative_percent=reddit_negative_scores.count()/total\n",
    "print(f\"pos: {reddit_positive_percent} neutral: {reddit_neutral_percent} neg: {reddit_negative_percent}\")"
   ]
  },
  {
   "cell_type": "code",
   "execution_count": 69,
   "id": "40be1681-ae42-4f83-b6c6-595e14b89582",
   "metadata": {
    "jupyter": {
     "source_hidden": true
    }
   },
   "outputs": [],
   "source": [
    "def twitter_id_word_pair(line):\n",
    "    id, lang, text = line.split(\",\",2) \n",
    "    cleaned_text=re.sub(r'[^a-zA-Z\\s]','',text.strip()).lower()\n",
    "    return [(id,lang,word) for word in re.split(r'\\s+',cleaned_text)]\n",
    "\n",
    "def twitter_word_to_sentiment(pair):\n",
    "    id, lang, word = pair\n",
    "    score=0\n",
    "    if lang == \"en\" or lang == 'und':\n",
    "        if word in pos_words_en:\n",
    "            score+= 1\n",
    "        if word in neg_words_en:\n",
    "            score-=1\n",
    "        return id, score\n",
    "    elif lang == \"es\":\n",
    "        if word in pos_words_es:\n",
    "            score+= 1\n",
    "        if word in neg_words_es:\n",
    "            score-=1\n",
    "        return id, score\n",
    "    elif lang == \"fr\":\n",
    "        if word in pos_words_fr:\n",
    "            score+= 1\n",
    "        if word in neg_words_fr:\n",
    "            score-=1\n",
    "        return id, score\n",
    "    elif lang == \"tr\":\n",
    "        if word in pos_words_tr:\n",
    "            score+= 1\n",
    "        if word in neg_words_tr:\n",
    "            score-=1\n",
    "        return id, score\n",
    "    else: #italian\n",
    "        if word in pos_words_it:\n",
    "            score+= 1\n",
    "        if word in neg_words_it:\n",
    "            score-=1\n",
    "        return id, score\n",
    "    return id, score"
   ]
  },
  {
   "cell_type": "code",
   "execution_count": 66,
   "id": "c18f97ad-5f37-4759-914a-d90a93b6f776",
   "metadata": {},
   "outputs": [],
   "source": [
    "twitter_rdd = sc.textFile(\"twitter_test/twitter_cleaned.csv\")\n",
    "header=twitter_rdd.first()\n",
    "twitter_rdd=twitter_rdd.filter(lambda row : row!= header)"
   ]
  },
  {
   "cell_type": "code",
   "execution_count": 67,
   "id": "2496ead4-a3d0-4c71-aec9-f3b900874f2d",
   "metadata": {
    "collapsed": true,
    "jupyter": {
     "outputs_hidden": true
    }
   },
   "outputs": [
    {
     "data": {
      "text/plain": [
       "['1244051646071611394,es,\"Ante cualquier enfermedad respiratoria, no te automediques. #PrevenciónCoronavirus #Coronavirus #COVID19 https://t.co/IgB2izYi1p\"',\n",
       " '1244051645039706112,es,\"#ATENCIÓN En el Terminal Nuevo Circo se implementan medidas como el uso de la mascarilla por parte de usuari@s y conductores que hacen vida en dichas instalaciones, parte de los esfuerzos unificados para impedir la propagación del #Coronavirus #28Marzo @NicolasMaduro  @ErikaPSUV https://t.co/yD8g0EAcQz\"',\n",
       " '1244051645975191557,en,\"“People are just storing up. They are staying at home freezing things. I talk to dealers around the state and out of the area, they are all out of freezers,” said owner Frank Mertz.  https://t.co/gsqghMqJs9  @KQDS_FOX21 #minneapolis #mn #covid19 #coronavirus\"',\n",
       " '1244051646750928897,es,\"Si empezaste a trabajar, necesitas dar de alta a tus beneficiarios ante el #IMSS, ahora lo puedes hacer desde tu domicilio a través de internet y evita filas | #SanaDistancia #QuédateEnCasa  #Coronavirus #COVID19 #MéxicoUnido            https://t.co/zv3POwhVXe https://t.co/1VOKagjdOF\"',\n",
       " '1244051647032102914,es,Una sociedad informada está mejor preparada ante el #Coronavirus #COVID19 ¡inscríbete! https://t.co/HhuRe1r7Wo']"
      ]
     },
     "execution_count": 67,
     "metadata": {},
     "output_type": "execute_result"
    }
   ],
   "source": [
    "twitter_rdd.take(5)"
   ]
  },
  {
   "cell_type": "code",
   "execution_count": 70,
   "id": "14c603c7-a76a-4b07-a62d-ba06a515d3ef",
   "metadata": {},
   "outputs": [],
   "source": [
    "twitter_id_word_pair_rdd=twitter_rdd.flatMap(twitter_id_word_pair)\n",
    "twitter_sentiment_pair_rdd=twitter_id_word_pair_rdd.map(twitter_word_to_sentiment)\n",
    "twitter_comment_scores=twitter_sentiment_pair_rdd.reduceByKey(lambda x,y: x+y)"
   ]
  },
  {
   "cell_type": "code",
   "execution_count": 71,
   "id": "06c984b8-3440-4ba5-b831-f27059c862ec",
   "metadata": {},
   "outputs": [],
   "source": [
    "twitter_positive_scores=twitter_comment_scores.filter(lambda x: x[1]>0)\n",
    "twitter_neutral_scores=twitter_comment_scores.filter(lambda x: x[1]==0)\n",
    "twitter_negative_scores=twitter_comment_scores.filter(lambda x: x[1]<0)"
   ]
  },
  {
   "cell_type": "code",
   "execution_count": 72,
   "id": "a368b730-21fe-4af5-89c5-be557242edfa",
   "metadata": {},
   "outputs": [
    {
     "name": "stdout",
     "output_type": "stream",
     "text": [
      "100\n",
      "pos: 0.17 neutral: 0.28 neg: 0.55\n"
     ]
    }
   ],
   "source": [
    "total=twitter_comment_scores.count()\n",
    "print(total)\n",
    "twitter_positive_percent=twitter_positive_scores.count()/total\n",
    "twitter_neutral_percent=twitter_neutral_scores.count()/total\n",
    "twitter_negative_percent=twitter_negative_scores.count()/total\n",
    "print(f\"pos: {twitter_positive_percent} neutral: {twitter_neutral_percent} neg: {twitter_negative_percent}\")"
   ]
  },
  {
   "cell_type": "code",
   "execution_count": null,
   "id": "10ab7558-9721-4274-af5c-f11eaa84bc36",
   "metadata": {},
   "outputs": [],
   "source": []
  }
 ],
 "metadata": {
  "kernelspec": {
   "display_name": "Python 3 (ipykernel)",
   "language": "python",
   "name": "python3"
  },
  "language_info": {
   "codemirror_mode": {
    "name": "ipython",
    "version": 3
   },
   "file_extension": ".py",
   "mimetype": "text/x-python",
   "name": "python",
   "nbconvert_exporter": "python",
   "pygments_lexer": "ipython3",
   "version": "3.12.4"
  }
 },
 "nbformat": 4,
 "nbformat_minor": 5
}
