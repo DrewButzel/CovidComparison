{
 "cells": [
  {
   "cell_type": "code",
   "execution_count": 1,
   "id": "627b9e30-83b7-4324-9bcc-7fbc912fad4c",
   "metadata": {},
   "outputs": [
    {
     "name": "stdout",
     "output_type": "stream",
     "text": [
      "zsh:1: command not found: apt-get\n"
     ]
    }
   ],
   "source": [
    "!apt-get install openjdk-8-jdk-headless -qq > /dev/null"
   ]
  },
  {
   "cell_type": "code",
   "execution_count": 2,
   "id": "7317a3e3-e9e3-471c-9764-6a65b7e9f219",
   "metadata": {},
   "outputs": [
    {
     "name": "stdout",
     "output_type": "stream",
     "text": [
      "--2025-03-04 10:24:54--  https://archive.apache.org/dist/spark/spark-3.5.3/spark-3.5.3-bin-hadoop3.tgz\n",
      "Resolving archive.apache.org (archive.apache.org)... 65.108.204.189\n",
      "connected. to archive.apache.org (archive.apache.org)|65.108.204.189|:443... \n",
      "HTTP request sent, awaiting response... 200 OK\n",
      "Length: 400864419 (382M) [application/x-gzip]\n",
      "Saving to: ‘spark-3.5.3-bin-hadoop3.tgz’\n",
      "\n",
      "spark-3.5.3-bin-had 100%[===================>] 382.29M   255KB/s    in 33m 32s \n",
      "\n",
      "2025-03-04 10:58:26 (195 KB/s) - ‘spark-3.5.3-bin-hadoop3.tgz’ saved [400864419/400864419]\n",
      "\n"
     ]
    }
   ],
   "source": [
    "!wget https://archive.apache.org/dist/spark/spark-3.5.3/spark-3.5.3-bin-hadoop3.tgz\n",
    "!tar xf spark-3.5.3-bin-hadoop3.tgz\n",
    "!rm spark-3.5.3-bin-hadoop3.tgz   # Tidying up"
   ]
  },
  {
   "cell_type": "code",
   "execution_count": 1,
   "id": "110c7b93-4615-42ee-b76d-1409566e383d",
   "metadata": {},
   "outputs": [],
   "source": [
    "import os\n",
    "os.environ[\"JAVA_HOME\"] = \"/Library/Java/JavaVirtualMachines/jdk-21.jdk/Contents/Home\"\n",
    "os.environ[\"SPARK_HOME\"] = \"spark-3.5.3-bin-hadoop3\""
   ]
  },
  {
   "cell_type": "code",
   "execution_count": 2,
   "id": "8c7f5f36-275c-441b-9ac1-f5710b7abcbb",
   "metadata": {},
   "outputs": [
    {
     "name": "stdout",
     "output_type": "stream",
     "text": [
      "/Users/duncanbeauchamp/CS/CovidComparison\n"
     ]
    }
   ],
   "source": [
    "!cd ~/CS/CovidComparison\n",
    "!pwd"
   ]
  },
  {
   "cell_type": "code",
   "execution_count": 3,
   "id": "9a89b160-85a5-41db-bc6f-efa667ad7461",
   "metadata": {},
   "outputs": [],
   "source": [
    "# !pip install -q findspark\n",
    "import findspark\n",
    "findspark.init()"
   ]
  },
  {
   "cell_type": "code",
   "execution_count": 5,
   "id": "e8d02582-33bd-46a0-b70d-74035981c559",
   "metadata": {},
   "outputs": [
    {
     "name": "stdout",
     "output_type": "stream",
     "text": [
      "8\n"
     ]
    },
    {
     "name": "stderr",
     "output_type": "stream",
     "text": [
      "25/03/20 10:15:18 WARN GarbageCollectionMetrics: To enable non-built-in garbage collector(s) List(G1 Concurrent GC), users should configure it(them) to spark.eventLog.gcMetrics.youngGenerationGarbageCollectors or spark.eventLog.gcMetrics.oldGenerationGarbageCollectors\n"
     ]
    }
   ],
   "source": [
    "import multiprocessing\n",
    "print(multiprocessing.cpu_count())"
   ]
  },
  {
   "cell_type": "code",
   "execution_count": 28,
   "id": "c819251b-8868-4246-8397-73fb75449c05",
   "metadata": {},
   "outputs": [],
   "source": [
    "from pyspark.sql import SparkSession\n",
    "\n",
    "spark = SparkSession.builder \\\n",
    "    .appName(\"CSV Loader\") \\\n",
    "    .master(\"local[*]\") \\\n",
    "    .getOrCreate()\n",
    "\n",
    "sc = spark.sparkContext  # Get the existing SparkContext"
   ]
  },
  {
   "cell_type": "code",
   "execution_count": null,
   "id": "14f4e546-8d1a-42c3-840d-f2f125672153",
   "metadata": {},
   "outputs": [],
   "source": [
    "reddit_df = spark.read.csv(\"small_reddit.csv\", header=True, inferSchema=True, multiLine=True, escape='\"')\n",
    "\n",
    "reddit_df.show()\n"
   ]
  },
  {
   "cell_type": "code",
   "execution_count": 13,
   "id": "58a4b9c6-c3c6-47e6-96a3-2f3554121e42",
   "metadata": {},
   "outputs": [
    {
     "data": {
      "text/plain": [
       "[Row(id='hi1vsag', subreddit.name='nova', created_utc=1635206399, body='When you scheduled your booster with CVS does it just give you the option of Vaccines: COVID-19 (Vaccine brand) or does it specifically say booster', score=2),\n",
       " Row(id='hi1vs7i', subreddit.name='vancouver', created_utc=1635206397, body=\"Didn't stop prices there though. New Zealand and Canada grew at about the same rate through COVID.   I agree that non-resident ownership should be stopped, but it's also probably not going to change anything.\", score=32)]"
      ]
     },
     "execution_count": 13,
     "metadata": {},
     "output_type": "execute_result"
    }
   ],
   "source": [
    "from pyspark.sql.functions import regexp_replace\n",
    "\n",
    "# Assume df is your DataFrame with a \"comment\" column containing newlines\n",
    "reddit_df_cleaned = reddit_df.withColumn(\"body\", regexp_replace(\"body\", \"[\\r\\n]\", \" \"))\n",
    "\n",
    "reddit_df_cleaned.take(2)\n"
   ]
  },
  {
   "cell_type": "code",
   "execution_count": 16,
   "id": "8459667b-01fa-4513-9de1-63d3bb7d8077",
   "metadata": {},
   "outputs": [],
   "source": [
    "df_cleaned.coalesce(1).write.csv(\"./test\", header=True)"
   ]
  },
  {
   "cell_type": "code",
   "execution_count": null,
   "id": "21f0bca2-14cd-4f20-94ad-118dc61acaca",
   "metadata": {},
   "outputs": [],
   "source": []
  },
  {
   "cell_type": "code",
   "execution_count": 17,
   "id": "7268d0c9-d16f-45c6-83fa-95103fdebedf",
   "metadata": {},
   "outputs": [
    {
     "name": "stdout",
     "output_type": "stream",
     "text": [
      "+-------------------+-------------------+---------------+--------------------+----+--------------------+-------------+--------------------+------------+---------------+--------+\n",
      "|          status_id|         created_at|    screen_name|                text|lang|              source|retweet_count|reply_to_screen_name|country_code|followers_count|verified|\n",
      "+-------------------+-------------------+---------------+--------------------+----+--------------------+-------------+--------------------+------------+---------------+--------+\n",
      "|1244051646071611394|2020-03-29 00:00:00|   IMSS_SanLuis|Ante cualquier en...|  es|           TweetDeck|            0|                NULL|        NULL|           1008|   false|\n",
      "|1244051645039706112|2020-03-29 00:00:00|     intrac_ccs|#ATENCIÓN En el T...|  es|           TweetDeck|            1|                NULL|        NULL|             90|   false|\n",
      "|1244051645975191557|2020-03-29 00:00:00|       rlieving|“People are just ...|  en|           TweetDeck|            0|                NULL|        NULL|            136|   false|\n",
      "|1244051646750928897|2020-03-29 00:00:00|   Tu_IMSS_Coah|Si empezaste a tr...|  es|           TweetDeck|            0|                NULL|        NULL|           1549|   false|\n",
      "|1244051647032102914|2020-03-29 00:00:00|   Tabasco_IMSS|Una sociedad info...|  es|           TweetDeck|            0|                NULL|        NULL|            868|   false|\n",
      "|1244051645710897155|2020-03-29 00:00:00|      SSalud_mx|¡#Infórmate! #Con...|  es|           TweetDeck|           49|                NULL|        NULL|         812318|    true|\n",
      "|1244051646935633921|2020-03-29 00:00:00|AmerMedicalAssn|.@PatriceHarrisMD...|  en|            Sprinklr|            3|                NULL|        NULL|         714952|    true|\n",
      "|1244051645971025920|2020-03-29 00:00:00|   CGTNOfficial|First medical tea...|  en|Twitter Media Studio|           18|                NULL|        NULL|       14040072|    true|\n",
      "|1244051647149543426|2020-03-29 00:00:00|       OnTopMag|.@KathyGriffin: @...|  en|Twitter for Adver...|            1|                NULL|        NULL|           5042|   false|\n",
      "|1244051645039693824|2020-03-29 00:00:00|ContraReplicaMX|A pesar de la con...|  es|           TweetDeck|            0|                NULL|        NULL|          13287|   false|\n",
      "|1244051646469947399|2020-03-29 00:00:00|        SSC_Pue|Ya sea a pie, en ...|  es|           TweetDeck|            3|                NULL|        NULL|         297013|   false|\n",
      "|1244051645098528768|2020-03-29 00:00:00|        uri_911|#VEN911Oficial | ...|  es|           TweetDeck|            0|                NULL|        NULL|             66|   false|\n",
      "|1244051646113443841|2020-03-29 00:00:00|     SecAytoPue|¿Qué es el corona...|  es|           TweetDeck|            0|                NULL|        NULL|           2251|   false|\n",
      "|1244051645102579712|2020-03-29 00:00:00|       livemint|#CoronaUpdate | J...|  en|           TweetDeck|            2|                NULL|        NULL|        1862858|    true|\n",
      "|1244051647329779713|2020-03-29 00:00:00|    DiarioLibre|| #Coronavirus | ...|  es|           TweetDeck|           12|                NULL|        NULL|        1185042|    true|\n",
      "|1244051646415425536|2020-03-29 00:00:00|  lahoraecuador|Debido a la emerg...|  es|           TweetDeck|           19|                NULL|        NULL|         534729|   false|\n",
      "|1244051647418044418|2020-03-29 00:00:00|     ABSCBNNews|Singapore donates...|  en|           TweetDeck|          840|                NULL|        NULL|        6767144|    true|\n",
      "|1244051645111074817|2020-03-29 00:00:00|    RadioNLNews|It's been a remar...|  en|           TweetDeck|            0|                NULL|        NULL|           6929|   false|\n",
      "|1244051645165600768|2020-03-29 00:00:00|ElSoldeSinaloa_|#PorSiNoLoViste\\n...|  es|           TweetDeck|            0|                NULL|        NULL|           2794|   false|\n",
      "|1244051645153116161|2020-03-29 00:00:00|  techreview_es|#LoMásLeídoMarzo ...|  es|           TweetDeck|           12|                NULL|        NULL|          27514|    true|\n",
      "+-------------------+-------------------+---------------+--------------------+----+--------------------+-------------+--------------------+------------+---------------+--------+\n",
      "only showing top 20 rows\n",
      "\n"
     ]
    }
   ],
   "source": [
    "twitter_df = spark.read.csv(\"small_twitter.csv\", header=True, inferSchema=True, multiLine=True, escape='\"')\n",
    "\n",
    "twitter_df.show()"
   ]
  },
  {
   "cell_type": "code",
   "execution_count": 20,
   "id": "8698bfc7-8ecd-4029-b011-b5d86868a149",
   "metadata": {},
   "outputs": [
    {
     "data": {
      "text/plain": [
       "[Row(status_id=1244051646071611394, created_at=datetime.datetime(2020, 3, 29, 0, 0), screen_name='IMSS_SanLuis', text='Ante cualquier enfermedad respiratoria, no te automediques. #PrevenciónCoronavirus #Coronavirus #COVID19 https://t.co/IgB2izYi1p', lang='es', source='TweetDeck', retweet_count=0, reply_to_screen_name=None, country_code=None, followers_count=1008, verified=False),\n",
       " Row(status_id=1244051645039706112, created_at=datetime.datetime(2020, 3, 29, 0, 0), screen_name='intrac_ccs', text='#ATENCIÓN En el Terminal Nuevo Circo se implementan medidas como el uso de la mascarilla por parte de usuari@s y conductores que hacen vida en dichas instalaciones, parte de los esfuerzos unificados para impedir la propagación del #Coronavirus #28Marzo @NicolasMaduro  @ErikaPSUV https://t.co/yD8g0EAcQz', lang='es', source='TweetDeck', retweet_count=1, reply_to_screen_name=None, country_code=None, followers_count=90, verified=False)]"
      ]
     },
     "execution_count": 20,
     "metadata": {},
     "output_type": "execute_result"
    }
   ],
   "source": [
    "twitter_df_cleaned = twitter_df.withColumn(\"text\", regexp_replace(\"text\", \"[\\r\\n]\", \" \"))\n",
    "\n",
    "twitter_df_cleaned.take(2)"
   ]
  },
  {
   "cell_type": "code",
   "execution_count": 23,
   "id": "23d2fa13-98f0-46c6-a3a8-7efe22fb7e3f",
   "metadata": {},
   "outputs": [],
   "source": [
    "twitter_df_cleaned.coalesce(1).write.csv(\"./twitter_test\", header=True)"
   ]
  },
  {
   "cell_type": "code",
   "execution_count": 29,
   "id": "517fc88b-2d5b-4506-b000-03fbb1ffaf25",
   "metadata": {},
   "outputs": [],
   "source": [
    "rdd = sc.textFile(\"test/cleaned_small_reddit.csv\")"
   ]
  },
  {
   "cell_type": "code",
   "execution_count": 30,
   "id": "6f0da4d1-dca8-4bc0-b377-10b21281c293",
   "metadata": {},
   "outputs": [
    {
     "name": "stdout",
     "output_type": "stream",
     "text": [
      "{'hail', 'promising', 'triumph', 'smoother', 'respectful', 'astonishing', 'felicitate', 'frugal', 'indulgent', 'solicitous', 'rejoicingly', 'wellbeing', 'gleeful', 'delicious', 'non-violent', 'ardent', 'convience', 'resounding', 'splendidly', 'goodly', 'mightily', 'resplendent', 'smart', 'fearlessly', 'civility', 'benefit', 'happily', 'entertain', 'aspirations', 'enthral', 'goood', 'lower-priced', 'masterfully', 'clean', 'feat', 'homage', 'satisfying', 'excel', 'cohesive', 'greatest', 'glisten', 'amiability', 'detachable', 'skillful', 'tenderly', 'guiltless', 'apotheosis', 'appreciable', 'available', 'exaltedly', 'revolutionized', 'marvelous', 'enticing', 'imaculate', 'invulnerable', 'simplifying', 'harmless', 'brand-new', 'openly', 'advantageously', 'deservedly', 'success', 'valiant', 'glitter', 'supremacy', 'patient', 'smooth', 'gratify', 'excallent', 'autonomous', 'rejuvenating', 'strikingly', 'guarantee', 'leads', 'pleased', 'poised', 'devout', 'boost', 'dexterously', 'fecilitous', 'lucky', 'correctly', 'talents', 'achievements', 'obsession', 'wholesome', 'law-abiding', 'fine-looking', 'sensibly', 'suave', 'victorious', 'supple', 'rapid', 'effortlessly', 'enough', 'stirringly', 'priceless', 'elegant', 'loyalty', 'gem', 'sustainability', 'promise', 'altruistically', 'crisper', 'jubilantly', 'simplest', 'silent', 'easing', 'afford', 'harmonize', 'diversified', 'cute', 'standout', 'defeating', 'subsidized', 'incredibly', 'serenity', 'exhilarating', 'modest', 'rightness', 'breathtakingly', 'lively', 'conciliate', 'thoughtfully', 'reasoned', 'fame', 'affirmative', 'saver', 'unconditional', 'improve', 'thrilling', 'well-behaved', 'steadfast', 'sturdy', 'loved', 'impartially', 'diligent', 'advantageous', 'wonder', 'accurate', 'lover', 'rosy', 'faster', 'low-price', 'versatile', 'hale', 'eloquent', 'admirably', 'cooperative', 'desirable', 'truthfulness', 'gained', 'classy', 'excellently', 'encourage', 'smoothest', 'outperforms', 'stupendously', 'cushy', 'tops', 'fast-growing', 'well-made', 'world-famous', 'appreciates', 'sensational', 'enchanting', 'awsome', 'permissible', 'breathlessness', 'top-quality', 'flexible', 'magic', 'calm', 'blossom', 'smilingly', 'boundless', 'cheery', 'enrich', 'enviously', 'superb', 'excelled', 'privilege', 'deference', 'reverently', 'earnestness', 'amenable', 'satisfied', 'secure', 'prominent', 'exceedingly', 'meritorious', 'engaging', 'prudent', 'idealize', 'proper', 'overtook', 'celebratory', 'lead', 'enticingly', 'magical', 'marvelously', 'luster', 'respectfully', 'tremendously', 'useable', 'insightfully', 'vouchsafe', 'advocated', 'humor', 'interests', 'satisfy', 'protection', 'vibrant', 'adventurous', 'elegantly', 'eased', 'intricate', 'laud', 'innocuous', 'avid', 'fascination', 'grand', 'coherent', 'topnotch', 'comfort', 'invigorating', 'recommendations', 'masters', 'wealthy', 'victory', 'approve', 'saint', 'influential', 'booming', 'likable', 'shine', 'raptureously', 'well-connected', 'thank', 'pure', 'favorable', 'virtue', 'rightfully', 'pleasantly', 'keenly', 'smartly', 'first-in-class', 'self-determination', 'empower', 'gratitude', 'strong', 'gratification', 'wise', 'agility', 'laudable', 'stellarly', 'complementary', 'stimulative', 'compassion', 'ideal', 'dashing', 'invaluablely', 'ecenomical', 'impartiality', 'dotingly', 'profusion', 'versatility', 'efficiently', 'luxurious', 'motivated', 'sagely', 'decency', 'swanky', 'effectively', 'resourceful', 'surmount', 'regally', 'positive', 'heroize', 'splendor', 'replaceable', 'reward', 'long-lasting', 'harmoniously', 'suffices', 'lucidly', 'honoring', 'sparkle', 'well-mannered', 'commend', 'humility', 'upliftingly', 'endorse', 'richer', 'rightful', 'pampers', 'straightforward', 'benefits', 'dauntless', 'illuminati', 'adorer', 'energetic', 'gratifyingly', 'excitement', 'survival', 'well-run', 'considerate', 'gutsy', 'gifted', 'abound', 'dominates', 'maneuverable', 'pep', 'hallowed', 'trophy', 'dummy-proof', 'backbone', 'counter-attack', 'daring', 'intrigue', 'masterful', 'self-satisfaction', 'patriot', 'led', 'integrated', 'majestic', 'ingenuity', 'cost-effective', 'chivalry', 'firmer', 'agreeableness', 'brainy', 'idolize', 'marvelled', 'fairly', 'justly', 'futuristic', 'abundant', 'feisty', 'liked', 'sincerely', 'hallmark', 'convienient', 'cashbacks', 'nice', 'stunningly', 'toughest', 'personalized', 'flourish', 'playfully', 'ingeniously', 'delight', 'flattering', 'substantive', 'coherence', 'successes', 'momentous', 'prodigy', 'shiny', 'sparkling', 'revival', 'affluent', 'promises', 'good', 'clear-cut', 'relaxed', 'ilu', 'useful', 'outsmart', 'prospros', 'sumptuous', 'opulent', 'thrills', 'hardy', 'revolutionize', 'advantages', 'entice', 'kindliness', 'inviolate', 'adjustable', 'rejuvenated', 'adoring', 'bonus', 'unbeatable', 'elite', 'effective', 'breakthrough', 'awestruck', 'cohere', 'amaze', 'ingenious', 'soundness', 'overtakes', 'jovial', 'angel', 'authentic', 'succeeds', 'enviably', 'persevere', 'prefers', 'outperformed', 'dynamic', 'exultant', 'trendy', 'eyecatching', 'outdone', 'gorgeous', 'progressive', 'prosperity', 'smile', 'easygoing', 'sturdier', 'luxury', 'neatly', 'gusto', 'heroine', 'navigable', 'optimism', 'joyfully', 'beneficially', 'ease', 'blissfully', 'suffice', 'merit', 'enhances', 'felicitous', 'entranced', 'splendid', 'reachable', 'gleefully', 'receptive', 'cajole', 'principled', 'gratified', 'vivacious', 'spacious', 'fruitful', 'exultingly', 'prize', 'precise', 'promised', 'continuity', 'industrious', 'loveliness', 'premier', 'elegance', 'instructive', 'richly', 'dignity', 'peacekeepers', 'fairness', 'darling', 'charmingly', 'speedily', 'assurances', 'liberty', 'slick', 'revitalize', 'mighty', 'excite', 'merciful', 'woo', 'impresses', 'staunchness', 'credence', 'hotcakes', 'appropriate', 'sweetness', 'thoughtfulness', 'preferring', 'self-respect', 'avidly', 'sufficiently', 'purposeful', 'viewable', 'advocate', 'interesting', 'ecstasies', 'glorify', 'great', 'inventive', 'cleanliness', 'paradise', 'correct', 'high-spirited', 'wowing', 'exalt', 'cool', 'fearless', 'steadfastness', 'soothingly', 'record-setting', 'survivor', 'divine', 'peps', 'marveled', 'consistent', 'prefered', 'affordably', 'tingle', 'favored', 'gratifies', 'refine', 'rewarding', 'amuse', 'benevolent', 'blessing', 'perseverance', 'flatteringly', 'remunerate', 'ready', 'fondly', 'pepped', 'strongest', 'daringly', 'aspire', 'protect', 'sharper', 'godlike', 'kindly', 'better', 'dexterous', 'self-sufficient', 'deserving', 'prudence', 'amenity', 'appreciatively', 'diligently', 'excellent', 'fashionable', 'renown', 'well-being', 'preferes', 'steadiness', 'tantalizingly', 'astonished', 'responsibly', 'painless', 'excelent', 'helpful', 'joyously', 'applaud', 'fabulously', 'earnest', 'faithfulness', 'fluent', 'hopeful', 'miraculously', 'powerful', 'usable', 'gladden', 'exuberant', 'amazes', 'amusing', 'positively', 'glitz', 'hardier', 'amusingly', 'everlasting', 'coolest', 'treasure', 'improvement', 'profoundly', 'satisfies', 'delectable', 'fancy', 'generously', 'swankier', 'salutary', 'convincingly', 'charisma', 'trustworthiness', 'inspire', 'gumption', 'lucid', 'endorsement', 'matchless', 'congratulation', 'enthrall', 'bravo', 'adroit', 'adore', 'ecstatic', 'piety', 'gush', 'eyecatch', 'hands-down', 'fervid', 'swift', 'prestige', 'pardon', 'overtake', 'exonerate', 'intimacy', 'celebrated', 'reclaim', 'fashionably', 'supports', 'handily', 'lyrical', 'charm', 'eagerness', 'fancier', 'worked', 'defeats', 'cheer', 'eye-catch', 'integral', 'fast-paced', 'staunch', 'poeticize', 'bonny', 'wonders', 'amicability', 'beckoning', 'restful', 'invaluable', 'tempting', 'fantastic', 'sensation', 'valiantly', 'brightest', 'jaw-dropping', 'bliss', 'luck', 'adroitly', 'graciousness', 'renewed', 'lush', 'successful', 'exquisitely', 'well-known', 'excited', 'awards', 'god-given', 'invincible', 'earnestly', 'pamper', 'inestimable', 'ftw', 'mesmerize', 'solidarity', 'jubilant', 'titillatingly', 'venerate', 'wow', 'spontaneous', 'punctual', 'legendary', 'enjoyment', 'amicably', 'spiritual', 'gorgeously', 'light-hearted', 'beckoned', 'magnificence', 'distinction', 'infallible', 'compactly', 'illustrious', 'succeed', 'win', 'unquestionable', 'ambitiously', 'glowingly', 'gladly', 'hard-working', 'poetic', 'decisive', 'playful', 'roomier', 'cheerful', 'regard', 'uplift', 'adaptive', 'succeeding', 'ambitious', 'sprightly', 'supurb', 'sexy', 'affordable', 'exultation', 'lean', 'snazzy', 'fast', 'decent', 'reforms', 'stability', 'chic', 'admirer', 'realizable', 'fervidly', 'posh', 'miraculousness', 'dependably', 'famously', 'imaginative', 'champion', 'unlimited', 'civilize', 'dignified', 'futurestic', 'upscale', 'erudite', 'titillate', 'outwit', 'clarity', 'refinement', 'assuredly', 'undisputable', 'accurately', 'jolly', 'inspirational', 'surreal', 'healthy', 'agreeable', 'cozy', 'goodness', 'enjoyable', 'uncomplicated', 'proven', 'savvy', 'unequivocally', 'advanced', 'immaculate', 'sensitive', 'terrific', 'dedicated', 'cleanly', 'intimate', 'nicer', 'distinctive', 'solace', 'smartest', 'well-balanced', 'exuberance', 'sincerity', 'respite', 'champ', 'joyous', 'happier', 'decisiveness', 'renaissance', 'warmhearted', 'reconcile', 'overtaken', 'heavenly', 'endear', 'extraordinary', 'glad', 'awe', 'nicest', 'freshest', 'sustainable', 'softer', 'peaceful', 'remarkably', 'audibly', 'pretty', 'low-priced', 'efficacious', 'attractive', 'winner', 'verifiable', 'stimulate', 'loves', 'heartwarming', 'safe', 'acclamation', 'diligence', 'rockstar', 'astounded', 'striking', 'sporty', 'peach', 'aspiration', 'knowledgeable', 'praise', 'unbound', 'heartening', 'charming', 'thumbs-up', 'modesty', 'proficiently', 'traction', 'sophisticated', 'well-wishers', 'keen', 'unforgettable', 'peerless', 'recommend', 'grin', 'reverence', 'enchantingly', 'lighter', 'graceful', 'restructured', 'soundly', 'sensationally', 'neat', 'altruistic', 'conciliatory', 'wows', 'soft', 'hooray', 'doubtless', 'tougher', 'reassure', 'accolade', 'protective', 'fancinating', 'dominate', 'easier', 'wisely', 'faithful', 'smoothly', 'prompt', 'expeditiously', 'illuminating', 'love', 'dominated', 'grandeur', 'sane', 'stylish', 'electrify', 'dead-on', 'marvelousness', 'aver', 'humour', 'thrifty', 'work', 'dazzled', 'attentive', 'accomplishments', 'pampered', 'hilarious', 'suavely', 'mastery', 'prolific', 'slammin', 'succeeded', 'recover', 'noteworthy', 'benevolence', 'undaunted', 'elated', 'calmness', 'distinguished', 'hearten', 'dextrous', 'stimulating', 'righteously', 'brave', 'vivid', 'praising', 'upliftment', 'solid', 'better-than-expected', 'efficient', 'quaint', 'dumbfounding', 'undisputed', 'gallantly', 'groundbreaking', 'passionately', 'maturity', 'exemplary', 'bullish', 'tantalizing', 'pride', 'heroic', 'enchanted', 'joy', 'preferably', 'stupendous', 'acumen', 'clearer', 'fervent', 'reform', 'lawfully', 'veritable', 'generosity', 'readable', 'lucrative', 'hotcake', 'evocative', 'assure', 'impressively', 'beauty', 'courageousness', 'entrancing', 'precisely', 'simpler', 'deginified', 'trusty', 'clears', 'geekier', 'catchy', 'gainful', 'rectification', 'spellbindingly', 'affluence', 'striving', 'gaily', 'truthful', 'exhilaration', 'guidance', 'gracious', 'dawn', 'agreeably', 'amazing', 'genial', 'thoughtful', 'perfect', 'humourous', 'wonderful', 'admiringly', 'soulful', 'renowned', 'sweetly', 'stronger', 'enraptured', 'mature', 'high-quality', 'uphold', 'unwavering', 'trustingly', 'wonderous', 'exhilarate', 'skilled', 'gallant', 'nicely', 'consummate', 'exceeding', 'dumbfounded', 'tolerable', 'foresight', 'capability', 'worthy', 'fortunate', 'reconciliation', 'irresistible', 'steadfastly', 'comfortable', 'speedy', 'accomplish', 'triumphal', 'gracefully', 'chaste', 'gratifying', 'worthiness', 'impressive', 'remarkable', 'superbly', 'examplary', 'soothe', 'irreproachable', 'staunchly', 'logical', 'revives', 'ameliorate', 'angelic', 'holy', 'willingly', 'propitiously', 'outstandingly', 'supporting', 'satisified', 'workable', 'unrivaled', 'beutifully', 'poignant', 'friendly', 'outstrip', 'marvellous', 'appreciative', 'whoooa', 'fair', 'covenant', 'providence', 'successfully', 'passion', 'excellence', 'facilitate', 'prefer', 'honor', 'serene', 'bolster', 'surpass', 'cleanest', 'enthusiasm', 'all-around', 'humorously', 'well-bred', 'articulate', 'cleverly', 'prettily', 'idyllic', 'enchant', 'proficient', 'powerfully', 'spectacularly', 'enjoys', 'eventful', 'peaceable', 'reassurance', 'enticed', 'plusses', 'works', 'upheld', 'formidable', 'morality', 'subsidizes', 'commodious', 'unassailable', 'ingenuous', 'eases', 'exceptional', 'majesty', 'titillating', 'elevate', 'impressed', 'defeat', 'unselfish', 'kudos', 'prosper', 'brainiest', 'unquestionably', 'worthwhile', 'audible', 'congenial', 'cure', 'luxuriant', 'relent', 'comfortably', 'freedoms', 'bless', 'supreme', 'brotherly', 'godsend', 'adulation', 'compact', 'best-performing', 'fortunately', 'beloved', 'radiant', 'reliable', 'hallmarks', 'proud', 'loving', 'marvel', 'skill', 'generous', 'heal', 'heroically', 'mercifully', 'foolproof', 'whoa', 'benifits', 'sensations', 'astonish', 'expertly', 'thrill', 'confidence', 'willingness', 'intelligible', 'complemented', 'faith', 'worth-while', 'rapture', 'merriness', 'unfazed', 'god-send', 'smarter', 'obtainable', 'rational', 'qualified', 'toll-free', 'fascinating', 'helping', 'invincibility', 'enjoyably', 'recommended', 'improvements', 'indulgence', 'expansive', 'ultra-crisp', 'astound', 'rapturous', 'ardently', 'blissful', 'cherish', 'rectifying', 'solicitously', 'thrift', 'happiness', 'warmth', 'willing', 'sweetheart', 'swank', 'felicity', 'honesty', 'beckons', 'robust', 'rockstars', 'danke', 'likes', 'easy-to-use', 'paramount', 'regal', 'counter-attacks', 'wowed', 'properly', 'eulogize', 'delicacy', 'impress', 'promptly', 'brilliantly', 'err-free', 'tickle', 'unparalleled', 'ample', 'favorited', 'remission', 'brighter', 'heartfelt', 'notably', 'variety', 'creative', 'positives', 'hottest', 'well-regarded', 'frolic', 'miracles', 'reasonable', 'sweet', 'unencumbered', 'upgradeable', 'delighted', 'honorable', 'terrifically', 'dreamland', 'cornerstone', 'brighten', 'preferable', 'refunded', 'fortuitously', 'hug', 'adored', 'delightfulness', 'achievible', 'praiseworthy', 'dazzle', 'extraordinarily', 'astutely', 'enthusiast', 'festive', 'admirable', 'gems', 'enthusiastically', 'stylishly', 'pleasure', 'exceeded', 'cashback', 'fastest', 'polished', 'pleasing', 'subsidizing', 'unrestricted', 'adoringly', 'encouragement', 'vouch', 'reputation', 'leading', 'beautifully', 'encouragingly', 'lavishly', 'pamperedness', 'breakthroughs', 'fresher', 'magnanimous', 'headway', 'magnanimously', 'adulatory', 'spellbinding', 'leverage', 'best', 'levity', 'faultless', 'immense', 'unaffected', 'upgradable', 'benefactor', 'effusion', 'lifesaver', 'picturesque', 'outdo', 'educated', 'meticulously', 'welcome', 'humorous', 'ingenuously', 'gladness', 'spotless', 'celebrate', 'celebration', 'accolades', 'exceptionally', 'recommendation', 'righteous', 'brilliant', 'scenic', 'enhancement', 'luminous', 'indebted', 'bloom', 'freedom', 'bargain', 'retractable', 'enviable', 'prosperous', 'enrapture', 'neatest', 'dazzling', 'advocates', 'courageous', 'tidy', 'rectify', 'fortuitous', 'tantalize', 'tempt', 'complimentary', 'suitable', 'exalting', 'honored', 'attractively', 'revive', 'inpressed', 'enhanced', 'redemption', 'steady', 'swankiest', 'fabulous', 'refund', 'ebullience', 'helped', 'like', 'wisdom', 'handsome', 'luxuriously', 'excitingly', 'unabashedly', 'fav', 'finely', 'gentlest', 'rightly', 'monumentally', 'equitable', 'agilely', 'impartial', 'support', 'fiery', 'clever', 'adaptable', 'prowess', 'trouble-free', 'illuminate', 'ecstasy', 'spellbound', 'well-intentioned', 'brilliances', 'exceled', 'polite', 'well-rounded', 'low-cost', 'romantic', 'feature-rich', 'compatible', 'user-friendly', 'contrasty', 'fans', 'excites', 'inspiration', 'noble', 'noiseless', 'popular', 'refined', 'nourishing', 'cherished', 'smoothes', 'zippy', 'grateful', 'thinner', 'admiring', 'modern', 'stable', 'affinity', 'truthfully', 'responsive', 'glowing', 'mesmerizes', 'prominence', 'restructuring', 'best-selling', 'fun', 'perfection', 'endearing', 'embolden', 'low-risk', 'reaffirm', 'prodigiously', 'fervently', 'intelligent', 'rejuvenate', 'romanticize', 'humane', 'commendable', 'confident', 'spectacular', 'jubilation', 'preeminent', 'respectable', 'cleared', 'problem-solver', 'desirous', 'fresh', 'state-of-the-art', 'radiance', 'luckiest', 'reverent', 'flashy', 'destiny', 'redeeming', 'exult', 'patience', 'feasibly', 'divinely', 'stabilize', 'wins', 'easiness', 'maturely', 'uplifting', 'skillfully', 'idolized', 'meticulous', 'rejoicing', 'relish', 'wondrous', 'delicate', 'risk-free', 'peppy', 'supporter', 'individualized', 'transparent', 'wieldy', 'cheaper', 'constructive', 'trusted', 'zenith', 'reaffirmation', 'effusively', 'prestigious', 'ebulliently', 'well-established', 'valuable', 'right', 'overture', 'contentment', 'trust', 'large-capacity', 'gloriously', 'issue-free', 'lawful', 'intriguing', 'euphorically', 'deft', 'pepping', 'convincing', 'alluring', 'proactive', 'flatter', 'endorsing', 'lovably', 'glorious', 'finest', 'gooood', 'propitious', 'endorses', 'luxuriate', 'invigorate', 'profuse', 'exaltation', 'master', 'economical', 'winners', 'cuteness', 'effusive', 'happy', 'glimmer', 'glistening', 'satisfactory', 'rock-stars', 'bravery', 'credible', 'chivalrous', 'witty', 'pamperedly', 'illumine', 'promoter', 'classic', 'restructure', 'refresh', 'lavish', 'enterprising', 'razor-sharp', 'achievement', 'ergonomical', 'supremely', 'understandable', 'reforming', 'supurbly', 'comprehensive', 'desiring', 'enlighten', 'gaiety', 'liberate', 'safely', 'genius', 'prudently', 'goodwill', 'fine', 'abounds', 'sagacity', 'award', 'realistic', 'restored', 'twinkly', 'portable', 'gentle', 'patriotic', 'resourcefulness', 'ardor', 'dependable', 'orderly', 'saintliness', 'sweeping', 'breeze', 'afordable', 'optimistic', 'well-informed', 'resilient', 'awed', 'fragrant', 'appreciate', 'windfall', 'immaculately', 'admire', 'memorable', 'bountiful', 'stellar', 'wholeheartedly', 'awarded', 'congratulate', 'mesmerized', 'beneficent', 'awesomely', 'better-known', 'alluringly', 'personages', 'richness', 'grace', 'gratefully', 'eminence', 'simplified', 'novelty', 'dead-cheap', 'joyful', 'enlightenment', 'productive', 'rock-star', 'enrapt', 'capably', 'inspiring', 'ideally', 'beneficiary', 'flutter', 'geeky', 'wonderously', 'incredible', 'recovery', 'zest', 'enjoyed', 'well', 'pleasingly', 'conscientious', 'believable', 'hospitable', 'togetherness', 'consistently', 'savior', 'graciously', 'valor', 'fond', 'brilliance', 'courteous', 'friendliness', 'improved', 'elan', 'trustworthy', 'self-sufficiency', 'boom', 'painlessly', 'healthful', 'genuine', 'nifty', 'timely', 'first-class', 'ecstatically', 'compassionate', 'dignify', 'smiling', 'user-replaceable', 'non-violence', 'excels', 'evenly', 'infallibly', 'elatedly', 'marvels', 'quicker', 'thriving', 'colorful', 'rapport', 'trumpet', 'rapt', 'vigilance', 'approval', 'favor', 'stunned', 'vigilant', 'quiet', 'originality', 'virtuously', 'exhilaratingly', 'glimmering', 'prodigious', 'stimulates', 'handy', 'eloquently', 'innovation', 'amazement', 'snappy', 'stainless', 'phenomenally', 'exceeds', 'kindness', 'charitable', 'manageable', 'reputable', 'pleases', 'smitten', 'believeable', 'envy', 'courage', 'breathtaking', 'enthuse', 'superior', 'masterpieces', 'energize', 'thankful', 'cost-saving', 'enjoying', 'remedy', 'mercy', 'glory', 'sincere', 'liking', 'eye-catching', 'improves', 'trump', 'fondness', 'halcyon', 'honest', 'affectation', 'recomend', 'undamaged', 'monumental', 'outperform', 'miraculous', 'tenacity', 'achievable', 'enthralled', 'revere', 'advantage', 'well-educated', 'entertains', 'sufficient', 'conveniently', 'brisk', 'famed', 'elation', 'amiable', 'comfy', 'sensible', 'lovable', 'compliant', 'flawlessly', 'eagerly', 'quieter', 'cleaner', 'pros', 'yay', 'selective', 'thrillingly', 'swiftness', 'seasoned', 'sufficed', 'fulfillment', 'heartily', 'rapturously', 'feasible', 'exceed', 'beautify', 'enjoy', 'delightful', 'gains', 'mesmerizingly', 'capable', 'affection', 'nimble', 'magnificently', 'foremost', 'dirt-cheap', 'exquisite', 'oasis', 'delightfully', 'harmony', 'insightful', 'edify', 'empathy', 'panoramic', 'righteousness', 'undisputably', 'time-honored', 'vibrantly', 'talented', 'winning', 'amazingly', 'blockbuster', 'greatness', 'fave', 'inexpensive', 'captivating', 'youthful', 'improving', 'warmly', 'poise', 'loyal', 'affirm', 'blameless', 'merry', 'fertile', 'magnificent', 'politeness', 'astoundingly', 'fascinatingly', 'outstanding', 'affable', 'commitment', 'clear', 'fastest-growing', 'qualify', 'passionate', 'satisfactorily', 'envious', 'laudably', 'extol', 'patiently', 'diplomatic', 'purify', 'readily', 'pleasurable', 'tenacious', 'auspicious', 'top', 'significant', 'eminent', 'pain-free', 'keenness', 'empathize', 'eloquence', 'handsomely', 'beauteous', 'spellbind', 'congratulations', 'savings', 'temptingly', 'sublime', 'empowerment', 'nobly', 'respect', 'upgraded', 'tenaciously', 'supportive', 'agile', 'stately', 'unmatched', 'entrust', 'miracle', 'sumptuousness', 'freed', 'blithe', 'zeal', 'commendably', 'effusiveness', 'resound', 'trusting', 'energy-saving', 'attraction', 'amiabily', 'authoritative', 'jubiliant', 'bonuses', 'liberation', 'innovative', 'jubilate', 'important', 'raptureous', 'straighten', 'trivially', 'carefree', 'danken', 'golden', 'thrilled', 'fantastically', 'adequate', 'won', 'statuesque', 'lustrous', 'fortune', 'inviolable', 'encouraging', 'merrily', 'pleasurably', 'peace', 'sharpest', 'irreplaceable', 'jaw-droping', 'exellent', 'adventuresome', 'appealing', 'productively', 'examplar', 'assurance', 'optimal', 'elate', 'best-known', 'ovation', 'amicable', 'luckier', 'eager', 'rewardingly', 'accessible', 'excitedness', 'pleasant', 'easiest', 'exciting', 'courageously', 'defender', 'simplify', 'smiles', 'unfettered', 'rejoice', 'supported', 'peacefully', 'impressiveness', 'enhance', 'proves', 'energy-efficient', 'faithfully', 'affably', 'famous', 'entertaining', 'convenient', 'relief', 'unity', 'contribution', 'fidelity', 'convient', 'glow', 'palatial', 'handier', 'talent', 'idol', 'triumphant', 'intuitive', 'multi-purpose', 'revolutionizes', 'beckon', 'gold', 'upbeat', 'astonishment', 'profound', 'pluses', 'nurturing', 'harmonious', 'attune', 'convenience', 'buoyant', 'progress', 'engrossing', 'revelation', 'judicious', 'obsessions', 'amply', 'gaining', 'sleek', 'flexibility', 'reasonably', 'lovely', 'accommodative', 'visionary', 'assuring', 'beneficial', 'cooperatively', 'unequivocal', 'captivate', 'worth', 'mind-blowing', 'durable', 'endorsed', 'balanced', 'glee', 'seamless', 'appeal', 'free', 'impeccably', 'tranquil', 'romantically', 'whooa', 'impassioned', 'warmer', 'pinnacle', 'warm', 'amity', 'adorable', 'superiority', 'heaven', 'euphoric', 'merriment', 'super', 'lionhearted', 'courtly', 'masterpiece', 'astonishingly', 'fanfare', 'excitedly', 'revel', 'refreshed', 'favorite', 'unreal', 'humble', 'inestimably', 'excellency', 'mesmerizing', 'plush', 'exalted', 'spirited', 'heros', 'enthusiastic', 'well-positioned', 'flourishing', 'exuberantly', 'redeem', 'plentiful', 'amazed', 'subsidize', 'concise', 'securely', 'unabashed', 'affability', 'calming', 'triumphantly', 'effectiveness', 'accessable', 'affectionate', 'thumb-up', 'exaltingly', 'effortless', 'accomodative', 'precious', 'intelligence', 'beautiful', 'acclaimed', 'competitive', 'sumptuously', 'saintly', 'virtuous', 'comely', 'evaluative', 'thrive', 'a+', 'charismatic', 'clearly', 'comforting', 'revolutionary', 'luckiness', 'perfectly', 'fascinate', 'finer', 'overtaking', 'problem-free', 'galore', 'fortitude', 'affirmation', 'overjoyed', 'tough', 'infallibility', 'rich', 'excellant', 'euphoria', 'proving', 'instrumental', 'resolute', 'cheapest', 'glamorous', 'cure-all', 'enviousness', 'enrichment', 'hero', 'tranquility', 'complement', 'shimmering', 'dote', 'pre-eminent', 'hot', 'cherub', 'ebullient', 'succes', 'exemplar', 'meaningful', 'well-managed', 'irresistibly', 'complements', 'astounding', 'defeated', 'intriguingly', 'sweeten', 'congratulatory', 'kid-friendly', 'admiration', 'crisp', 'stunning', 'fervor', 'nourish', 'unbiased', 'simplifies', 'well-received', 'reliably', 'openness', 'appreciated', 'awesomeness', 'jollify', 'flawless', 'phenomenal', 'wonderfully', 'accomplishment', 'well-backlit', 'gain', 'winnable', 'sociable', 'reformed', 'abundance', 'extoll', 'acclaim', 'sharp', 'tender', 'easy', 'ennoble', 'instantly', 'effectual', 'steadiest', 'accomplished', 'righten', 'impeccable', 'streamlined', 'privileged', 'favour', 'ethical', 'enliven', 'stylized', 'gainfully', 'bright', 'salute', 'awesome', 'outshine', 'adulate', 'outperforming', 'beautifullly', 'roomy', 'outshone', 'refreshing', 'top-notch', 'shimmeringly', 'first-rate', 'nourishment', 'compliment'}\n"
     ]
    }
   ],
   "source": [
    "pos_words_set = set()\n",
    "with open('sentiment_txts/positive_words_en.txt','r') as file:\n",
    "    for line in file:\n",
    "        pos_words_set.add(line.strip())\n",
    "print(pos_words_set)\n"
   ]
  },
  {
   "cell_type": "code",
   "execution_count": 32,
   "id": "31ed3760-05d7-44fa-bb22-a7e1258211a4",
   "metadata": {
    "scrolled": true
   },
   "outputs": [
    {
     "data": {
      "text/plain": [
       "['id,subreddit.name,created_utc,body,score',\n",
       " 'hi1vsag,nova,1635206399,When you scheduled your booster with CVS does it just give you the option of Vaccines: COVID-19 (Vaccine brand) or does it specifically say booster,2',\n",
       " 'hi1vs7i,vancouver,1635206397,\"Didn\\'t stop prices there though. New Zealand and Canada grew at about the same rate through COVID.   I agree that non-resident ownership should be stopped, but it\\'s also probably not going to change anything.\",32',\n",
       " 'hi1vs5n,pregnant,1635206397,I’m just waiting until after pregnancy to get vaccinated.  I have a special needs daughter due to having fever during pregnancy and I’m not willing to risk the vaccine fever right now. I have strong antibodies from Covid that I had before I got pregnant. (I keep taking blood tests to check) There’s a difference between anti vaccine and deciding to wait based on different factors,1',\n",
       " 'hi1vs5v,startrek,1635206397,\"*The first duty of every Starfleet officer is to the truth. Whether it\\'s scientific truth, or historical truth, or personal truth. It is the guiding principle upon which Starfleet is based. If you can\\'t find it within yourself to stand up and tell the truth about what happened you don\\'t deserve to wear that uniform.*  [Captain Jean-Luc Picard, \\\\\"The First Duty\\\\\"](https://www.youtube.com/watch?v=xefh7W1nVo4)  Reddit admins have been [ineffectual in their response to COVID-19 misinformation](https://www.dailydot.com/debug/subreddits-private-protest-covid-disinformation-reddit/). In lieu of Reddit gold and awards, we ask that you donate to the [WHO COVID-19 response fund](https://www.who.int/emergencies/diseases/novel-coronavirus-2019/donate).  Please respect our [subreddit rules](https://www.reddit.com/r/startrek/wiki/guidelines). LLAP!  *I am a bot, and this action was performed automatically. Please [contact the moderators of this subreddit](/message/compose/?to=/r/startrek) if you have any questions or concerns.*\",1']"
      ]
     },
     "execution_count": 32,
     "metadata": {},
     "output_type": "execute_result"
    }
   ],
   "source": [
    "rdd.take(5)"
   ]
  },
  {
   "cell_type": "code",
   "execution_count": null,
   "id": "a414bf48-b270-424a-8c76-08224abe0ee9",
   "metadata": {},
   "outputs": [],
   "source": []
  }
 ],
 "metadata": {
  "kernelspec": {
   "display_name": "Python 3 (ipykernel)",
   "language": "python",
   "name": "python3"
  },
  "language_info": {
   "codemirror_mode": {
    "name": "ipython",
    "version": 3
   },
   "file_extension": ".py",
   "mimetype": "text/x-python",
   "name": "python",
   "nbconvert_exporter": "python",
   "pygments_lexer": "ipython3",
   "version": "3.12.4"
  }
 },
 "nbformat": 4,
 "nbformat_minor": 5
}
