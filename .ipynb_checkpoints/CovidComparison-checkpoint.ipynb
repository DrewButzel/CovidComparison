{
 "cells": [
  {
   "cell_type": "code",
   "execution_count": 11,
   "metadata": {},
   "outputs": [
    {
     "name": "stdout",
     "output_type": "stream",
     "text": [
      "Collecting grpcio\n",
      "  Obtaining dependency information for grpcio from https://files.pythonhosted.org/packages/30/5c/60eb8a063ea4cb8d7670af8fac3f2033230fc4b75f62669d67c66ac4e4b0/grpcio-1.70.0-cp312-cp312-macosx_10_14_universal2.whl.metadata\n",
      "  Downloading grpcio-1.70.0-cp312-cp312-macosx_10_14_universal2.whl.metadata (3.9 kB)\n",
      "Downloading grpcio-1.70.0-cp312-cp312-macosx_10_14_universal2.whl (11.4 MB)\n",
      "\u001b[2K   \u001b[90m━━━━━━━━━━━━━━━━━━━━━━━━━━━━━━━━━━━━━━━━\u001b[0m \u001b[32m11.4/11.4 MB\u001b[0m \u001b[31m21.2 MB/s\u001b[0m eta \u001b[36m0:00:00\u001b[0m00:01\u001b[0m00:01\u001b[0m\n",
      "Installing collected packages: grpcio\n",
      "Successfully installed grpcio-1.70.0\n",
      "\n",
      "\u001b[1m[\u001b[0m\u001b[34;49mnotice\u001b[0m\u001b[1;39;49m]\u001b[0m\u001b[39;49m A new release of pip is available: \u001b[0m\u001b[31;49m23.2.1\u001b[0m\u001b[39;49m -> \u001b[0m\u001b[32;49m25.0.1\u001b[0m\n",
      "\u001b[1m[\u001b[0m\u001b[34;49mnotice\u001b[0m\u001b[1;39;49m]\u001b[0m\u001b[39;49m To update, run: \u001b[0m\u001b[32;49mpip install --upgrade pip\u001b[0m\n"
     ]
    }
   ],
   "source": [
    "# !pip install pandas\n",
    "# !pip install duckdb\n",
    "# !pip install jupysql pandas matplotlib pyarrow grpcio duckdb-engine"
   ]
  },
  {
   "cell_type": "code",
   "execution_count": 16,
   "metadata": {},
   "outputs": [],
   "source": [
    "import duckdb\n",
    "import pandas as pd\n",
    "\n",
    "%reload_ext sql\n",
    "conn = duckdb.connect(\"bigdata_prototype.ddb\")\n",
    "%sql conn --alias duckdb"
   ]
  },
  {
   "cell_type": "code",
   "execution_count": 17,
   "metadata": {},
   "outputs": [
    {
     "data": {
      "text/html": [
       "<span style=\"None\">Running query in &#x27;duckdb&#x27;</span>"
      ],
      "text/plain": [
       "Running query in 'duckdb'"
      ]
     },
     "metadata": {},
     "output_type": "display_data"
    },
    {
     "data": {
      "text/html": [
       "<table>\n",
       "    <thead>\n",
       "        <tr>\n",
       "            <th>Count</th>\n",
       "        </tr>\n",
       "    </thead>\n",
       "    <tbody>\n",
       "        <tr>\n",
       "            <td>100</td>\n",
       "        </tr>\n",
       "    </tbody>\n",
       "</table>"
      ],
      "text/plain": [
       "+-------+\n",
       "| Count |\n",
       "+-------+\n",
       "|  100  |\n",
       "+-------+"
      ]
     },
     "execution_count": 17,
     "metadata": {},
     "output_type": "execute_result"
    }
   ],
   "source": [
    "%%sql \n",
    "CREATE TABLE small_reddit AS\n",
    "    SELECT * FROM read_csv(\"~/CS/CovidComparison/small_reddit.csv\")\n"
   ]
  },
  {
   "cell_type": "code",
   "execution_count": 18,
   "metadata": {},
   "outputs": [
    {
     "data": {
      "text/html": [
       "<span style=\"None\">Running query in &#x27;duckdb&#x27;</span>"
      ],
      "text/plain": [
       "Running query in 'duckdb'"
      ]
     },
     "metadata": {},
     "output_type": "display_data"
    },
    {
     "data": {
      "text/html": [
       "<table>\n",
       "    <thead>\n",
       "        <tr>\n",
       "            <th>Count</th>\n",
       "        </tr>\n",
       "    </thead>\n",
       "    <tbody>\n",
       "        <tr>\n",
       "            <td>100</td>\n",
       "        </tr>\n",
       "    </tbody>\n",
       "</table>"
      ],
      "text/plain": [
       "+-------+\n",
       "| Count |\n",
       "+-------+\n",
       "|  100  |\n",
       "+-------+"
      ]
     },
     "execution_count": 18,
     "metadata": {},
     "output_type": "execute_result"
    }
   ],
   "source": [
    "%%sql\n",
    "CREATE TABLE small_twitter AS\n",
    "    SELECT * FROM read_csv(\"~/CS/CovidComparison/small_twitter.csv\")"
   ]
  },
  {
   "cell_type": "code",
   "execution_count": 24,
   "metadata": {},
   "outputs": [
    {
     "data": {
      "text/html": [
       "<span style=\"None\">Running query in &#x27;duckdb&#x27;</span>"
      ],
      "text/plain": [
       "Running query in 'duckdb'"
      ]
     },
     "metadata": {},
     "output_type": "display_data"
    },
    {
     "data": {
      "text/html": [
       "<table>\n",
       "    <thead>\n",
       "        <tr>\n",
       "            <th>status_id</th>\n",
       "            <th>created_at</th>\n",
       "            <th>screen_name</th>\n",
       "            <th>text</th>\n",
       "            <th>lang</th>\n",
       "            <th>source</th>\n",
       "            <th>retweet_count</th>\n",
       "            <th>reply_to_screen_name</th>\n",
       "            <th>country_code</th>\n",
       "            <th>followers_count</th>\n",
       "            <th>verified</th>\n",
       "            <th>sentiment_score</th>\n",
       "        </tr>\n",
       "    </thead>\n",
       "    <tbody>\n",
       "        <tr>\n",
       "            <td>1244051646071611394</td>\n",
       "            <td>2020-03-29 00:00:00</td>\n",
       "            <td>IMSS_SanLuis</td>\n",
       "            <td>Ante cualquier enfermedad respiratoria, no te automediques. #PrevenciónCoronavirus #Coronavirus #COVID19 https://t.co/IgB2izYi1p</td>\n",
       "            <td>es</td>\n",
       "            <td>TweetDeck</td>\n",
       "            <td>0</td>\n",
       "            <td>None</td>\n",
       "            <td>None</td>\n",
       "            <td>1008</td>\n",
       "            <td>False</td>\n",
       "            <td>None</td>\n",
       "        </tr>\n",
       "        <tr>\n",
       "            <td>1244051645039706112</td>\n",
       "            <td>2020-03-29 00:00:00</td>\n",
       "            <td>intrac_ccs</td>\n",
       "            <td>#ATENCIÓN En el Terminal Nuevo Circo se implementan medidas como el uso de la mascarilla por parte de usuari@s y conductores que hacen vida en dichas instalaciones, parte de los esfuerzos unificados para impedir la propagación del #Coronavirus<br>#28Marzo<br>@NicolasMaduro <br>@ErikaPSUV https://t.co/yD8g0EAcQz</td>\n",
       "            <td>es</td>\n",
       "            <td>TweetDeck</td>\n",
       "            <td>1</td>\n",
       "            <td>None</td>\n",
       "            <td>None</td>\n",
       "            <td>90</td>\n",
       "            <td>False</td>\n",
       "            <td>None</td>\n",
       "        </tr>\n",
       "        <tr>\n",
       "            <td>1244051645975191557</td>\n",
       "            <td>2020-03-29 00:00:00</td>\n",
       "            <td>rlieving</td>\n",
       "            <td>“People are just storing up. They are staying at home freezing things. I talk to dealers around the state and out of the area, they are all out of freezers,” said owner Frank Mertz.<br><br>https://t.co/gsqghMqJs9<br><br>@KQDS_FOX21 #minneapolis #mn #covid19 #coronavirus</td>\n",
       "            <td>en</td>\n",
       "            <td>TweetDeck</td>\n",
       "            <td>0</td>\n",
       "            <td>None</td>\n",
       "            <td>None</td>\n",
       "            <td>136</td>\n",
       "            <td>False</td>\n",
       "            <td>None</td>\n",
       "        </tr>\n",
       "        <tr>\n",
       "            <td>1244051646750928897</td>\n",
       "            <td>2020-03-29 00:00:00</td>\n",
       "            <td>Tu_IMSS_Coah</td>\n",
       "            <td>Si empezaste a trabajar, necesitas dar de alta a tus beneficiarios ante el #IMSS, ahora lo puedes hacer desde tu domicilio a través de internet y evita filas | #SanaDistancia<br>#QuédateEnCasa <br>#Coronavirus<br>#COVID19 #MéxicoUnido          <br><br>https://t.co/zv3POwhVXe https://t.co/1VOKagjdOF</td>\n",
       "            <td>es</td>\n",
       "            <td>TweetDeck</td>\n",
       "            <td>0</td>\n",
       "            <td>None</td>\n",
       "            <td>None</td>\n",
       "            <td>1549</td>\n",
       "            <td>False</td>\n",
       "            <td>None</td>\n",
       "        </tr>\n",
       "        <tr>\n",
       "            <td>1244051647032102914</td>\n",
       "            <td>2020-03-29 00:00:00</td>\n",
       "            <td>Tabasco_IMSS</td>\n",
       "            <td>Una sociedad informada está mejor preparada ante el #Coronavirus #COVID19 ¡inscríbete! https://t.co/HhuRe1r7Wo</td>\n",
       "            <td>es</td>\n",
       "            <td>TweetDeck</td>\n",
       "            <td>0</td>\n",
       "            <td>None</td>\n",
       "            <td>None</td>\n",
       "            <td>868</td>\n",
       "            <td>False</td>\n",
       "            <td>None</td>\n",
       "        </tr>\n",
       "        <tr>\n",
       "            <td>1244051645710897155</td>\n",
       "            <td>2020-03-29 00:00:00</td>\n",
       "            <td>SSalud_mx</td>\n",
       "            <td>¡#Infórmate! #ConferenciaDePrensa sobre el #Coronavirus #COVID19 a las 7 pm. Sigue la transmisión en nuestros perfiles de Facebook, Twitter y en https://t.co/BE7JBC7ARm. https://t.co/g84X9EEnEz</td>\n",
       "            <td>es</td>\n",
       "            <td>TweetDeck</td>\n",
       "            <td>49</td>\n",
       "            <td>None</td>\n",
       "            <td>None</td>\n",
       "            <td>812318</td>\n",
       "            <td>True</td>\n",
       "            <td>None</td>\n",
       "        </tr>\n",
       "        <tr>\n",
       "            <td>1244051646935633921</td>\n",
       "            <td>2020-03-29 00:00:00</td>\n",
       "            <td>AmerMedicalAssn</td>\n",
       "            <td>.@PatriceHarrisMD spoke with @YahooFinance about the #COVID19 stimulus package making its way through Congress and how the healthcare landscape will change once the #pandemic ends. https://t.co/YbfJwrA7ih</td>\n",
       "            <td>en</td>\n",
       "            <td>Sprinklr</td>\n",
       "            <td>3</td>\n",
       "            <td>None</td>\n",
       "            <td>None</td>\n",
       "            <td>714952</td>\n",
       "            <td>True</td>\n",
       "            <td>None</td>\n",
       "        </tr>\n",
       "        <tr>\n",
       "            <td>1244051645971025920</td>\n",
       "            <td>2020-03-29 00:00:00</td>\n",
       "            <td>CGTNOfficial</td>\n",
       "            <td>First medical team aiding #Wuhan in fight against epidemic completes mission <br><br>#COVID19 #CoronavirusOutbreak https://t.co/zeeai42psk</td>\n",
       "            <td>en</td>\n",
       "            <td>Twitter Media Studio</td>\n",
       "            <td>18</td>\n",
       "            <td>None</td>\n",
       "            <td>None</td>\n",
       "            <td>14040072</td>\n",
       "            <td>True</td>\n",
       "            <td>None</td>\n",
       "        </tr>\n",
       "        <tr>\n",
       "            <td>1244051647149543426</td>\n",
       "            <td>2020-03-29 00:00:00</td>\n",
       "            <td>OnTopMag</td>\n",
       "            <td>.@KathyGriffin: @realDonaldTrump Is 'Lying' About #Coronavirus Testing https://t.co/JZp8brA577 #covid19 #lgbt</td>\n",
       "            <td>en</td>\n",
       "            <td>Twitter for Advertisers</td>\n",
       "            <td>1</td>\n",
       "            <td>None</td>\n",
       "            <td>None</td>\n",
       "            <td>5042</td>\n",
       "            <td>False</td>\n",
       "            <td>None</td>\n",
       "        </tr>\n",
       "        <tr>\n",
       "            <td>1244051645039693824</td>\n",
       "            <td>2020-03-29 00:00:00</td>\n",
       "            <td>ContraReplicaMX</td>\n",
       "            <td>A pesar de la contingencia sanitaria provocada por el #Covid19, el @SismologicoMX va a continuar con el monitoreo las 24 horas del día. https://t.co/HTzp4feAYz</td>\n",
       "            <td>es</td>\n",
       "            <td>TweetDeck</td>\n",
       "            <td>0</td>\n",
       "            <td>None</td>\n",
       "            <td>None</td>\n",
       "            <td>13287</td>\n",
       "            <td>False</td>\n",
       "            <td>None</td>\n",
       "        </tr>\n",
       "    </tbody>\n",
       "</table>\n",
       "<span style=\"font-style:italic;text-align:center;\">Truncated to <a href=\"https://jupysql.ploomber.io/en/latest/api/configuration.html#displaylimit\">displaylimit</a> of 10.</span>"
      ],
      "text/plain": [
       "+---------------------+---------------------+-----------------+-----------------------------------------------------------------------------------------------------------------------------------------------------------------------------------------------------------------------------------------------------+------+-------------------------+---------------+----------------------+--------------+-----------------+----------+-----------------+\n",
       "|      status_id      |      created_at     |   screen_name   |                                                                                                                         text                                                                                                                        | lang |          source         | retweet_count | reply_to_screen_name | country_code | followers_count | verified | sentiment_score |\n",
       "+---------------------+---------------------+-----------------+-----------------------------------------------------------------------------------------------------------------------------------------------------------------------------------------------------------------------------------------------------+------+-------------------------+---------------+----------------------+--------------+-----------------+----------+-----------------+\n",
       "| 1244051646071611394 | 2020-03-29 00:00:00 |   IMSS_SanLuis  |                                                           Ante cualquier enfermedad respiratoria, no te automediques. #PrevenciónCoronavirus #Coronavirus #COVID19 https://t.co/IgB2izYi1p                                                          |  es  |        TweetDeck        |       0       |         None         |     None     |       1008      |  False   |       None      |\n",
       "| 1244051645039706112 | 2020-03-29 00:00:00 |    intrac_ccs   | #ATENCIÓN En el Terminal Nuevo Circo se implementan medidas como el uso de la mascarilla por parte de usuari@s y conductores que hacen vida en dichas instalaciones, parte de los esfuerzos unificados para impedir la propagación del #Coronavirus |  es  |        TweetDeck        |       1       |         None         |     None     |        90       |  False   |       None      |\n",
       "|                     |                     |                 |                                                                                                                       #28Marzo                                                                                                                      |      |                         |               |                      |              |                 |          |                 |\n",
       "|                     |                     |                 |                                                                                                                   @NicolasMaduro                                                                                                                    |      |                         |               |                      |              |                 |          |                 |\n",
       "|                     |                     |                 |                                                                                                          @ErikaPSUV https://t.co/yD8g0EAcQz                                                                                                         |      |                         |               |                      |              |                 |          |                 |\n",
       "| 1244051645975191557 | 2020-03-29 00:00:00 |     rlieving    |                                “People are just storing up. They are staying at home freezing things. I talk to dealers around the state and out of the area, they are all out of freezers,” said owner Frank Mertz.                                |  en  |        TweetDeck        |       0       |         None         |     None     |       136       |  False   |       None      |\n",
       "|                     |                     |                 |                                                                                                                                                                                                                                                     |      |                         |               |                      |              |                 |          |                 |\n",
       "|                     |                     |                 |                                                                                                               https://t.co/gsqghMqJs9                                                                                                               |      |                         |               |                      |              |                 |          |                 |\n",
       "|                     |                     |                 |                                                                                                                                                                                                                                                     |      |                         |               |                      |              |                 |          |                 |\n",
       "|                     |                     |                 |                                                                                                  @KQDS_FOX21 #minneapolis #mn #covid19 #coronavirus                                                                                                 |      |                         |               |                      |              |                 |          |                 |\n",
       "| 1244051646750928897 | 2020-03-29 00:00:00 |   Tu_IMSS_Coah  |                                    Si empezaste a trabajar, necesitas dar de alta a tus beneficiarios ante el #IMSS, ahora lo puedes hacer desde tu domicilio a través de internet y evita filas | #SanaDistancia                                   |  es  |        TweetDeck        |       0       |         None         |     None     |       1549      |  False   |       None      |\n",
       "|                     |                     |                 |                                                                                                                   #QuédateEnCasa                                                                                                                    |      |                         |               |                      |              |                 |          |                 |\n",
       "|                     |                     |                 |                                                                                                                     #Coronavirus                                                                                                                    |      |                         |               |                      |              |                 |          |                 |\n",
       "|                     |                     |                 |                                                                                                           #COVID19 #MéxicoUnido                                                                                                                     |      |                         |               |                      |              |                 |          |                 |\n",
       "|                     |                     |                 |                                                                                                                                                                                                                                                     |      |                         |               |                      |              |                 |          |                 |\n",
       "|                     |                     |                 |                                                                                                   https://t.co/zv3POwhVXe https://t.co/1VOKagjdOF                                                                                                   |      |                         |               |                      |              |                 |          |                 |\n",
       "| 1244051647032102914 | 2020-03-29 00:00:00 |   Tabasco_IMSS  |                                                                    Una sociedad informada está mejor preparada ante el #Coronavirus #COVID19 ¡inscríbete! https://t.co/HhuRe1r7Wo                                                                   |  es  |        TweetDeck        |       0       |         None         |     None     |       868       |  False   |       None      |\n",
       "| 1244051645710897155 | 2020-03-29 00:00:00 |    SSalud_mx    |                          ¡#Infórmate! #ConferenciaDePrensa sobre el #Coronavirus #COVID19 a las 7 pm. Sigue la transmisión en nuestros perfiles de Facebook, Twitter y en https://t.co/BE7JBC7ARm. https://t.co/g84X9EEnEz                          |  es  |        TweetDeck        |       49      |         None         |     None     |      812318     |   True   |       None      |\n",
       "| 1244051646935633921 | 2020-03-29 00:00:00 | AmerMedicalAssn |                     .@PatriceHarrisMD spoke with @YahooFinance about the #COVID19 stimulus package making its way through Congress and how the healthcare landscape will change once the #pandemic ends. https://t.co/YbfJwrA7ih                    |  en  |         Sprinklr        |       3       |         None         |     None     |      714952     |   True   |       None      |\n",
       "| 1244051645971025920 | 2020-03-29 00:00:00 |   CGTNOfficial  |                                                                                    First medical team aiding #Wuhan in fight against epidemic completes mission                                                                                     |  en  |   Twitter Media Studio  |       18      |         None         |     None     |     14040072    |   True   |       None      |\n",
       "|                     |                     |                 |                                                                                                                                                                                                                                                     |      |                         |               |                      |              |                 |          |                 |\n",
       "|                     |                     |                 |                                                                                                #COVID19 #CoronavirusOutbreak https://t.co/zeeai42psk                                                                                                |      |                         |               |                      |              |                 |          |                 |\n",
       "| 1244051647149543426 | 2020-03-29 00:00:00 |     OnTopMag    |                                                                    .@KathyGriffin: @realDonaldTrump Is 'Lying' About #Coronavirus Testing https://t.co/JZp8brA577 #covid19 #lgbt                                                                    |  en  | Twitter for Advertisers |       1       |         None         |     None     |       5042      |  False   |       None      |\n",
       "| 1244051645039693824 | 2020-03-29 00:00:00 | ContraReplicaMX |                                           A pesar de la contingencia sanitaria provocada por el #Covid19, el @SismologicoMX va a continuar con el monitoreo las 24 horas del día. https://t.co/HTzp4feAYz                                           |  es  |        TweetDeck        |       0       |         None         |     None     |      13287      |  False   |       None      |\n",
       "+---------------------+---------------------+-----------------+-----------------------------------------------------------------------------------------------------------------------------------------------------------------------------------------------------------------------------------------------------+------+-------------------------+---------------+----------------------+--------------+-----------------+----------+-----------------+\n",
       "Truncated to displaylimit of 10."
      ]
     },
     "execution_count": 24,
     "metadata": {},
     "output_type": "execute_result"
    }
   ],
   "source": [
    "%sql SELECT * FROM small_twitter"
   ]
  },
  {
   "cell_type": "code",
   "execution_count": null,
   "metadata": {},
   "outputs": [],
   "source": [
    "%sql DESCRIBE small_twitter"
   ]
  },
  {
   "cell_type": "code",
   "execution_count": 20,
   "metadata": {},
   "outputs": [
    {
     "data": {
      "text/html": [
       "<span style=\"None\">Running query in &#x27;duckdb&#x27;</span>"
      ],
      "text/plain": [
       "Running query in 'duckdb'"
      ]
     },
     "metadata": {},
     "output_type": "display_data"
    },
    {
     "data": {
      "text/html": [
       "<table>\n",
       "    <thead>\n",
       "        <tr>\n",
       "            <th>Success</th>\n",
       "        </tr>\n",
       "    </thead>\n",
       "    <tbody>\n",
       "    </tbody>\n",
       "</table>"
      ],
      "text/plain": [
       "+---------+\n",
       "| Success |\n",
       "+---------+\n",
       "+---------+"
      ]
     },
     "execution_count": 20,
     "metadata": {},
     "output_type": "execute_result"
    }
   ],
   "source": [
    "%sql ALTER TABLE small_reddit ADD COLUMN sentiment_score INTEGER;"
   ]
  },
  {
   "cell_type": "code",
   "execution_count": 21,
   "metadata": {},
   "outputs": [
    {
     "data": {
      "text/html": [
       "<span style=\"None\">Running query in &#x27;duckdb&#x27;</span>"
      ],
      "text/plain": [
       "Running query in 'duckdb'"
      ]
     },
     "metadata": {},
     "output_type": "display_data"
    },
    {
     "data": {
      "text/html": [
       "<table>\n",
       "    <thead>\n",
       "        <tr>\n",
       "            <th>Success</th>\n",
       "        </tr>\n",
       "    </thead>\n",
       "    <tbody>\n",
       "    </tbody>\n",
       "</table>"
      ],
      "text/plain": [
       "+---------+\n",
       "| Success |\n",
       "+---------+\n",
       "+---------+"
      ]
     },
     "execution_count": 21,
     "metadata": {},
     "output_type": "execute_result"
    }
   ],
   "source": [
    "%sql ALTER TABLE small_twitter ADD COLUMN sentiment_score INTEGER;"
   ]
  },
  {
   "cell_type": "code",
   "execution_count": 29,
   "metadata": {},
   "outputs": [
    {
     "name": "stdout",
     "output_type": "stream",
     "text": [
      "abolish is a negative word\n",
      "Error: unable to open database \"bigdata_prototype.ddb\": IO Error: Could not set lock on file \"bigdata_prototype.ddb\": Conflicting lock is held in /Library/Frameworks/Python.framework/Versions/3.12/Resources/Python.app/Contents/MacOS/Python (PID 29054) by user duncanbeauchamp. See also https://duckdb.org/docs/connect/concurrency\n"
     ]
    }
   ],
   "source": [
    "!bash small_data.sh"
   ]
  },
  {
   "cell_type": "code",
   "execution_count": 30,
   "metadata": {},
   "outputs": [
    {
     "name": "stdout",
     "output_type": "stream",
     "text": [
      "COMMAND   PID            USER   FD   TYPE DEVICE SIZE/OFF     NODE NAME\n",
      "Python  29054 duncanbeauchamp   69u   REG   1,15    12288 33831849 bigdata_prototype.ddb\n"
     ]
    }
   ],
   "source": [
    "!lsof bigdata_prototype.ddb"
   ]
  },
  {
   "cell_type": "code",
   "execution_count": null,
   "metadata": {},
   "outputs": [],
   "source": [
    "!kill 29054"
   ]
  },
  {
   "cell_type": "code",
   "execution_count": null,
   "metadata": {},
   "outputs": [],
   "source": []
  }
 ],
 "metadata": {
  "kernelspec": {
   "display_name": "Python 3 (ipykernel)",
   "language": "python",
   "name": "python3"
  },
  "language_info": {
   "codemirror_mode": {
    "name": "ipython",
    "version": 3
   },
   "file_extension": ".py",
   "mimetype": "text/x-python",
   "name": "python",
   "nbconvert_exporter": "python",
   "pygments_lexer": "ipython3",
   "version": "3.12.4"
  }
 },
 "nbformat": 4,
 "nbformat_minor": 4
}
