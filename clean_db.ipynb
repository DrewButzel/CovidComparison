{
 "cells": [
  {
   "cell_type": "code",
   "execution_count": 2,
   "id": "973887c7-ad02-4cd9-86ad-87065e952676",
   "metadata": {},
   "outputs": [],
   "source": [
    "import duckdb\n",
    "import pandas as pd\n",
    "\n",
    "%reload_ext sql\n",
    "conn = duckdb.connect(\"fulldata.ddb\")\n",
    "%sql conn --alias duckdb"
   ]
  },
  {
   "cell_type": "code",
   "execution_count": 3,
   "id": "4e96cad4-6720-47a5-8f46-98d3b4ed5527",
   "metadata": {},
   "outputs": [
    {
     "data": {
      "text/html": [
       "<span style=\"None\">Running query in &#x27;duckdb&#x27;</span>"
      ],
      "text/plain": [
       "Running query in 'duckdb'"
      ]
     },
     "metadata": {},
     "output_type": "display_data"
    },
    {
     "data": {
      "text/html": [
       "<table>\n",
       "    <thead>\n",
       "        <tr>\n",
       "            <th>Count</th>\n",
       "        </tr>\n",
       "    </thead>\n",
       "    <tbody>\n",
       "    </tbody>\n",
       "</table>"
      ],
      "text/plain": [
       "+-------+\n",
       "| Count |\n",
       "+-------+\n",
       "+-------+"
      ]
     },
     "execution_count": 3,
     "metadata": {},
     "output_type": "execute_result"
    }
   ],
   "source": [
    "%%sql \n",
    "CREATE TABLE full_twitter (\n",
    "    status_id TEXT,\n",
    "    lang VARCHAR (3),\n",
    "    text TEXT,\n",
    "    sentiment_score INTEGER\n",
    "    )"
   ]
  },
  {
   "cell_type": "code",
   "execution_count": 4,
   "id": "f2438066-7752-4d84-a9d0-7ca709536cb9",
   "metadata": {},
   "outputs": [
    {
     "data": {
      "text/html": [
       "<span style=\"None\">Running query in &#x27;duckdb&#x27;</span>"
      ],
      "text/plain": [
       "Running query in 'duckdb'"
      ]
     },
     "metadata": {},
     "output_type": "display_data"
    },
    {
     "data": {
      "text/html": [
       "<table>\n",
       "    <thead>\n",
       "        <tr>\n",
       "            <th>Count</th>\n",
       "        </tr>\n",
       "    </thead>\n",
       "    <tbody>\n",
       "    </tbody>\n",
       "</table>"
      ],
      "text/plain": [
       "+-------+\n",
       "| Count |\n",
       "+-------+\n",
       "+-------+"
      ]
     },
     "execution_count": 4,
     "metadata": {},
     "output_type": "execute_result"
    }
   ],
   "source": [
    "%%sql\n",
    "CREATE TABLE full_reddit (\n",
    "    id TEXT,\n",
    "    body TEXT,\n",
    "    sentiment_score INTEGER\n",
    "    )"
   ]
  },
  {
   "cell_type": "code",
   "execution_count": 4,
   "id": "e5d67dc7-9ad2-4fe6-abf2-4c23cf8545fc",
   "metadata": {},
   "outputs": [
    {
     "data": {
      "text/html": [
       "<span style=\"None\">Running query in &#x27;duckdb&#x27;</span>"
      ],
      "text/plain": [
       "Running query in 'duckdb'"
      ]
     },
     "metadata": {},
     "output_type": "display_data"
    },
    {
     "data": {
      "text/html": [
       "<table>\n",
       "    <thead>\n",
       "        <tr>\n",
       "            <th>column_name</th>\n",
       "            <th>column_type</th>\n",
       "            <th>null</th>\n",
       "            <th>key</th>\n",
       "            <th>default</th>\n",
       "            <th>extra</th>\n",
       "        </tr>\n",
       "    </thead>\n",
       "    <tbody>\n",
       "        <tr>\n",
       "            <td>status_id</td>\n",
       "            <td>VARCHAR</td>\n",
       "            <td>YES</td>\n",
       "            <td>None</td>\n",
       "            <td>None</td>\n",
       "            <td>None</td>\n",
       "        </tr>\n",
       "        <tr>\n",
       "            <td>lang</td>\n",
       "            <td>VARCHAR</td>\n",
       "            <td>YES</td>\n",
       "            <td>None</td>\n",
       "            <td>None</td>\n",
       "            <td>None</td>\n",
       "        </tr>\n",
       "        <tr>\n",
       "            <td>text</td>\n",
       "            <td>VARCHAR</td>\n",
       "            <td>YES</td>\n",
       "            <td>None</td>\n",
       "            <td>None</td>\n",
       "            <td>None</td>\n",
       "        </tr>\n",
       "        <tr>\n",
       "            <td>sentiment_score</td>\n",
       "            <td>INTEGER</td>\n",
       "            <td>YES</td>\n",
       "            <td>None</td>\n",
       "            <td>None</td>\n",
       "            <td>None</td>\n",
       "        </tr>\n",
       "    </tbody>\n",
       "</table>"
      ],
      "text/plain": [
       "+-----------------+-------------+------+------+---------+-------+\n",
       "|   column_name   | column_type | null | key  | default | extra |\n",
       "+-----------------+-------------+------+------+---------+-------+\n",
       "|    status_id    |   VARCHAR   | YES  | None |   None  |  None |\n",
       "|       lang      |   VARCHAR   | YES  | None |   None  |  None |\n",
       "|       text      |   VARCHAR   | YES  | None |   None  |  None |\n",
       "| sentiment_score |   INTEGER   | YES  | None |   None  |  None |\n",
       "+-----------------+-------------+------+------+---------+-------+"
      ]
     },
     "execution_count": 4,
     "metadata": {},
     "output_type": "execute_result"
    }
   ],
   "source": [
    "%sql DESCRIBE full_twitter"
   ]
  },
  {
   "cell_type": "code",
   "execution_count": 11,
   "id": "f09e7410-a0ea-4dd4-9cdf-ab4c0296429c",
   "metadata": {},
   "outputs": [
    {
     "data": {
      "text/html": [
       "<span style=\"None\">Running query in &#x27;duckdb&#x27;</span>"
      ],
      "text/plain": [
       "Running query in 'duckdb'"
      ]
     },
     "metadata": {},
     "output_type": "display_data"
    },
    {
     "data": {
      "text/html": [
       "<table>\n",
       "    <thead>\n",
       "        <tr>\n",
       "            <th>status_id</th>\n",
       "            <th>lang</th>\n",
       "            <th>text</th>\n",
       "            <th>sentiment_score</th>\n",
       "        </tr>\n",
       "    </thead>\n",
       "    <tbody>\n",
       "    </tbody>\n",
       "</table>"
      ],
      "text/plain": [
       "+-----------+------+------+-----------------+\n",
       "| status_id | lang | text | sentiment_score |\n",
       "+-----------+------+------+-----------------+\n",
       "+-----------+------+------+-----------------+"
      ]
     },
     "execution_count": 11,
     "metadata": {},
     "output_type": "execute_result"
    }
   ],
   "source": [
    "%sql SELECT * FROM full_twitter"
   ]
  },
  {
   "cell_type": "code",
   "execution_count": 7,
   "id": "4fbe9b22-6871-4957-be32-851f34596a03",
   "metadata": {},
   "outputs": [
    {
     "data": {
      "text/html": [
       "<span style=\"None\">Running query in &#x27;duckdb&#x27;</span>"
      ],
      "text/plain": [
       "Running query in 'duckdb'"
      ]
     },
     "metadata": {},
     "output_type": "display_data"
    },
    {
     "data": {
      "text/html": [
       "<table>\n",
       "    <thead>\n",
       "        <tr>\n",
       "            <th>Success</th>\n",
       "        </tr>\n",
       "    </thead>\n",
       "    <tbody>\n",
       "    </tbody>\n",
       "</table>"
      ],
      "text/plain": [
       "+---------+\n",
       "| Success |\n",
       "+---------+\n",
       "+---------+"
      ]
     },
     "execution_count": 7,
     "metadata": {},
     "output_type": "execute_result"
    }
   ],
   "source": [
    "%sql ALTER TABLE small_twitter ADD COLUMN sentiment_score INTEGER;"
   ]
  },
  {
   "cell_type": "code",
   "execution_count": 23,
   "id": "c6653fe1-5ebb-4d37-bdc2-9349204b948c",
   "metadata": {
    "collapsed": true,
    "jupyter": {
     "outputs_hidden": true
    },
    "scrolled": true
   },
   "outputs": [
    {
     "data": {
      "text/html": [
       "<span style=\"None\">Running query in &#x27;duckdb&#x27;</span>"
      ],
      "text/plain": [
       "Running query in 'duckdb'"
      ]
     },
     "metadata": {},
     "output_type": "display_data"
    },
    {
     "data": {
      "text/html": [
       "<table>\n",
       "    <thead>\n",
       "        <tr>\n",
       "            <th>status_id</th>\n",
       "            <th>created_at</th>\n",
       "            <th>screen_name</th>\n",
       "            <th>text</th>\n",
       "            <th>lang</th>\n",
       "            <th>source</th>\n",
       "            <th>retweet_count</th>\n",
       "            <th>reply_to_screen_name</th>\n",
       "            <th>country_code</th>\n",
       "            <th>followers_count</th>\n",
       "            <th>verified</th>\n",
       "            <th>sentiment_score</th>\n",
       "        </tr>\n",
       "    </thead>\n",
       "    <tbody>\n",
       "        <tr>\n",
       "            <td>1244051646071611394</td>\n",
       "            <td>2020-03-29 00:00:00</td>\n",
       "            <td>IMSS_SanLuis</td>\n",
       "            <td>Ante cualquier enfermedad respiratoria, no te automediques. #PrevenciónCoronavirus #Coronavirus #COVID19 https://t.co/IgB2izYi1p</td>\n",
       "            <td>es</td>\n",
       "            <td>TweetDeck</td>\n",
       "            <td>0</td>\n",
       "            <td>None</td>\n",
       "            <td>None</td>\n",
       "            <td>1008</td>\n",
       "            <td>False</td>\n",
       "            <td>0</td>\n",
       "        </tr>\n",
       "        <tr>\n",
       "            <td>1244051645039706112</td>\n",
       "            <td>2020-03-29 00:00:00</td>\n",
       "            <td>intrac_ccs</td>\n",
       "            <td>#ATENCIÓN En el Terminal Nuevo Circo se implementan medidas como el uso de la mascarilla por parte de usuari@s y conductores que hacen vida en dichas instalaciones, parte de los esfuerzos unificados para impedir la propagación del #Coronavirus #28Marzo @NicolasMaduro  @ErikaPSUV https://t.co/yD8g0EAcQz</td>\n",
       "            <td>es</td>\n",
       "            <td>TweetDeck</td>\n",
       "            <td>1</td>\n",
       "            <td>None</td>\n",
       "            <td>None</td>\n",
       "            <td>90</td>\n",
       "            <td>False</td>\n",
       "            <td>0</td>\n",
       "        </tr>\n",
       "        <tr>\n",
       "            <td>1244051645975191557</td>\n",
       "            <td>2020-03-29 00:00:00</td>\n",
       "            <td>rlieving</td>\n",
       "            <td>“People are just storing up. They are staying at home freezing things. I talk to dealers around the state and out of the area, they are all out of freezers,” said owner Frank Mertz.  https://t.co/gsqghMqJs9  @KQDS_FOX21 #minneapolis #mn #covid19 #coronavirus</td>\n",
       "            <td>en</td>\n",
       "            <td>TweetDeck</td>\n",
       "            <td>0</td>\n",
       "            <td>None</td>\n",
       "            <td>None</td>\n",
       "            <td>136</td>\n",
       "            <td>False</td>\n",
       "            <td>-1</td>\n",
       "        </tr>\n",
       "        <tr>\n",
       "            <td>1244051646750928897</td>\n",
       "            <td>2020-03-29 00:00:00</td>\n",
       "            <td>Tu_IMSS_Coah</td>\n",
       "            <td>Si empezaste a trabajar, necesitas dar de alta a tus beneficiarios ante el #IMSS, ahora lo puedes hacer desde tu domicilio a través de internet y evita filas | #SanaDistancia #QuédateEnCasa  #Coronavirus #COVID19 #MéxicoUnido            https://t.co/zv3POwhVXe https://t.co/1VOKagjdOF</td>\n",
       "            <td>es</td>\n",
       "            <td>TweetDeck</td>\n",
       "            <td>0</td>\n",
       "            <td>None</td>\n",
       "            <td>None</td>\n",
       "            <td>1549</td>\n",
       "            <td>False</td>\n",
       "            <td>0</td>\n",
       "        </tr>\n",
       "        <tr>\n",
       "            <td>1244051647032102914</td>\n",
       "            <td>2020-03-29 00:00:00</td>\n",
       "            <td>Tabasco_IMSS</td>\n",
       "            <td>Una sociedad informada está mejor preparada ante el #Coronavirus #COVID19 ¡inscríbete! https://t.co/HhuRe1r7Wo</td>\n",
       "            <td>es</td>\n",
       "            <td>TweetDeck</td>\n",
       "            <td>0</td>\n",
       "            <td>None</td>\n",
       "            <td>None</td>\n",
       "            <td>868</td>\n",
       "            <td>False</td>\n",
       "            <td>0</td>\n",
       "        </tr>\n",
       "        <tr>\n",
       "            <td>1244051645710897155</td>\n",
       "            <td>2020-03-29 00:00:00</td>\n",
       "            <td>SSalud_mx</td>\n",
       "            <td>¡#Infórmate! #ConferenciaDePrensa sobre el #Coronavirus #COVID19 a las 7 pm. Sigue la transmisión en nuestros perfiles de Facebook, Twitter y en https://t.co/BE7JBC7ARm. https://t.co/g84X9EEnEz</td>\n",
       "            <td>es</td>\n",
       "            <td>TweetDeck</td>\n",
       "            <td>49</td>\n",
       "            <td>None</td>\n",
       "            <td>None</td>\n",
       "            <td>812318</td>\n",
       "            <td>True</td>\n",
       "            <td>0</td>\n",
       "        </tr>\n",
       "        <tr>\n",
       "            <td>1244051646935633921</td>\n",
       "            <td>2020-03-29 00:00:00</td>\n",
       "            <td>AmerMedicalAssn</td>\n",
       "            <td>.@PatriceHarrisMD spoke with @YahooFinance about the #COVID19 stimulus package making its way through Congress and how the healthcare landscape will change once the #pandemic ends. https://t.co/YbfJwrA7ih</td>\n",
       "            <td>en</td>\n",
       "            <td>Sprinklr</td>\n",
       "            <td>3</td>\n",
       "            <td>None</td>\n",
       "            <td>None</td>\n",
       "            <td>714952</td>\n",
       "            <td>True</td>\n",
       "            <td>0</td>\n",
       "        </tr>\n",
       "        <tr>\n",
       "            <td>1244051645971025920</td>\n",
       "            <td>2020-03-29 00:00:00</td>\n",
       "            <td>CGTNOfficial</td>\n",
       "            <td>First medical team aiding #Wuhan in fight against epidemic completes mission   #COVID19 #CoronavirusOutbreak https://t.co/zeeai42psk</td>\n",
       "            <td>en</td>\n",
       "            <td>Twitter Media Studio</td>\n",
       "            <td>18</td>\n",
       "            <td>None</td>\n",
       "            <td>None</td>\n",
       "            <td>14040072</td>\n",
       "            <td>True</td>\n",
       "            <td>-1</td>\n",
       "        </tr>\n",
       "        <tr>\n",
       "            <td>1244051647149543426</td>\n",
       "            <td>2020-03-29 00:00:00</td>\n",
       "            <td>OnTopMag</td>\n",
       "            <td>.@KathyGriffin: @realDonaldTrump Is 'Lying' About #Coronavirus Testing https://t.co/JZp8brA577 #covid19 #lgbt</td>\n",
       "            <td>en</td>\n",
       "            <td>Twitter for Advertisers</td>\n",
       "            <td>1</td>\n",
       "            <td>None</td>\n",
       "            <td>None</td>\n",
       "            <td>5042</td>\n",
       "            <td>False</td>\n",
       "            <td>-1</td>\n",
       "        </tr>\n",
       "        <tr>\n",
       "            <td>1244051645039693824</td>\n",
       "            <td>2020-03-29 00:00:00</td>\n",
       "            <td>ContraReplicaMX</td>\n",
       "            <td>A pesar de la contingencia sanitaria provocada por el #Covid19, el @SismologicoMX va a continuar con el monitoreo las 24 horas del día. https://t.co/HTzp4feAYz</td>\n",
       "            <td>es</td>\n",
       "            <td>TweetDeck</td>\n",
       "            <td>0</td>\n",
       "            <td>None</td>\n",
       "            <td>None</td>\n",
       "            <td>13287</td>\n",
       "            <td>False</td>\n",
       "            <td>0</td>\n",
       "        </tr>\n",
       "    </tbody>\n",
       "</table>\n",
       "<span style=\"font-style:italic;text-align:center;\">Truncated to <a href=\"https://jupysql.ploomber.io/en/latest/api/configuration.html#displaylimit\">displaylimit</a> of 10.</span>"
      ],
      "text/plain": [
       "+---------------------+---------------------+-----------------+-----------------------------------------------------------------------------------------------------------------------------------------------------------------------------------------------------------------------------------------------------------------------------------------------------------------+------+-------------------------+---------------+----------------------+--------------+-----------------+----------+-----------------+\n",
       "|      status_id      |      created_at     |   screen_name   |                                                                                                                                                       text                                                                                                                                                      | lang |          source         | retweet_count | reply_to_screen_name | country_code | followers_count | verified | sentiment_score |\n",
       "+---------------------+---------------------+-----------------+-----------------------------------------------------------------------------------------------------------------------------------------------------------------------------------------------------------------------------------------------------------------------------------------------------------------+------+-------------------------+---------------+----------------------+--------------+-----------------+----------+-----------------+\n",
       "| 1244051646071611394 | 2020-03-29 00:00:00 |   IMSS_SanLuis  |                                                                                         Ante cualquier enfermedad respiratoria, no te automediques. #PrevenciónCoronavirus #Coronavirus #COVID19 https://t.co/IgB2izYi1p                                                                                        |  es  |        TweetDeck        |       0       |         None         |     None     |       1008      |  False   |        0        |\n",
       "| 1244051645039706112 | 2020-03-29 00:00:00 |    intrac_ccs   | #ATENCIÓN En el Terminal Nuevo Circo se implementan medidas como el uso de la mascarilla por parte de usuari@s y conductores que hacen vida en dichas instalaciones, parte de los esfuerzos unificados para impedir la propagación del #Coronavirus #28Marzo @NicolasMaduro  @ErikaPSUV https://t.co/yD8g0EAcQz |  es  |        TweetDeck        |       1       |         None         |     None     |        90       |  False   |        0        |\n",
       "| 1244051645975191557 | 2020-03-29 00:00:00 |     rlieving    |                        “People are just storing up. They are staying at home freezing things. I talk to dealers around the state and out of the area, they are all out of freezers,” said owner Frank Mertz.  https://t.co/gsqghMqJs9  @KQDS_FOX21 #minneapolis #mn #covid19 #coronavirus                       |  en  |        TweetDeck        |       0       |         None         |     None     |       136       |  False   |        -1       |\n",
       "| 1244051646750928897 | 2020-03-29 00:00:00 |   Tu_IMSS_Coah  |           Si empezaste a trabajar, necesitas dar de alta a tus beneficiarios ante el #IMSS, ahora lo puedes hacer desde tu domicilio a través de internet y evita filas | #SanaDistancia #QuédateEnCasa  #Coronavirus #COVID19 #MéxicoUnido            https://t.co/zv3POwhVXe https://t.co/1VOKagjdOF          |  es  |        TweetDeck        |       0       |         None         |     None     |       1549      |  False   |        0        |\n",
       "| 1244051647032102914 | 2020-03-29 00:00:00 |   Tabasco_IMSS  |                                                                                                  Una sociedad informada está mejor preparada ante el #Coronavirus #COVID19 ¡inscríbete! https://t.co/HhuRe1r7Wo                                                                                                 |  es  |        TweetDeck        |       0       |         None         |     None     |       868       |  False   |        0        |\n",
       "| 1244051645710897155 | 2020-03-29 00:00:00 |    SSalud_mx    |                                                        ¡#Infórmate! #ConferenciaDePrensa sobre el #Coronavirus #COVID19 a las 7 pm. Sigue la transmisión en nuestros perfiles de Facebook, Twitter y en https://t.co/BE7JBC7ARm. https://t.co/g84X9EEnEz                                                        |  es  |        TweetDeck        |       49      |         None         |     None     |      812318     |   True   |        0        |\n",
       "| 1244051646935633921 | 2020-03-29 00:00:00 | AmerMedicalAssn |                                                   .@PatriceHarrisMD spoke with @YahooFinance about the #COVID19 stimulus package making its way through Congress and how the healthcare landscape will change once the #pandemic ends. https://t.co/YbfJwrA7ih                                                  |  en  |         Sprinklr        |       3       |         None         |     None     |      714952     |   True   |        0        |\n",
       "| 1244051645971025920 | 2020-03-29 00:00:00 |   CGTNOfficial  |                                                                                       First medical team aiding #Wuhan in fight against epidemic completes mission   #COVID19 #CoronavirusOutbreak https://t.co/zeeai42psk                                                                                      |  en  |   Twitter Media Studio  |       18      |         None         |     None     |     14040072    |   True   |        -1       |\n",
       "| 1244051647149543426 | 2020-03-29 00:00:00 |     OnTopMag    |                                                                                                  .@KathyGriffin: @realDonaldTrump Is 'Lying' About #Coronavirus Testing https://t.co/JZp8brA577 #covid19 #lgbt                                                                                                  |  en  | Twitter for Advertisers |       1       |         None         |     None     |       5042      |  False   |        -1       |\n",
       "| 1244051645039693824 | 2020-03-29 00:00:00 | ContraReplicaMX |                                                                         A pesar de la contingencia sanitaria provocada por el #Covid19, el @SismologicoMX va a continuar con el monitoreo las 24 horas del día. https://t.co/HTzp4feAYz                                                                         |  es  |        TweetDeck        |       0       |         None         |     None     |      13287      |  False   |        0        |\n",
       "+---------------------+---------------------+-----------------+-----------------------------------------------------------------------------------------------------------------------------------------------------------------------------------------------------------------------------------------------------------------------------------------------------------------+------+-------------------------+---------------+----------------------+--------------+-----------------+----------+-----------------+\n",
       "Truncated to displaylimit of 10."
      ]
     },
     "execution_count": 23,
     "metadata": {},
     "output_type": "execute_result"
    }
   ],
   "source": [
    "%sql SELECT * FROM small_twitter"
   ]
  },
  {
   "cell_type": "code",
   "execution_count": 20,
   "id": "ed3d5020-8c8c-4c98-b8d1-c3f1e6cacfef",
   "metadata": {},
   "outputs": [
    {
     "name": "stdout",
     "output_type": "stream",
     "text": [
      "Error: unable to open database \"clean_prototype.ddb\": IO Error: Could not set lock on file \"clean_prototype.ddb\": Conflicting lock is held in /Library/Frameworks/Python.framework/Versions/3.12/Resources/Python.app/Contents/MacOS/Python (PID 71885) by user duncanbeauchamp. See also https://duckdb.org/docs/connect/concurrency\n",
      "Error: unable to open database \"clean_prototype.ddb\": IO Error: Could not set lock on file \"clean_prototype.ddb\": Conflicting lock is held in /Library/Frameworks/Python.framework/Versions/3.12/Resources/Python.app/Contents/MacOS/Python (PID 71885) by user duncanbeauchamp. See also https://duckdb.org/docs/connect/concurrency\n"
     ]
    }
   ],
   "source": [
    "conn.close()\n",
    "!bash small_data.sh"
   ]
  },
  {
   "cell_type": "code",
   "execution_count": null,
   "id": "d51144e4-1754-4a51-96c0-09f477874d24",
   "metadata": {},
   "outputs": [],
   "source": [
    "conn = duckdb.connect(\"clean_prototype.ddb\")\n",
    "%sql conn --alias duckdb"
   ]
  },
  {
   "cell_type": "code",
   "execution_count": 22,
   "id": "0cd0ca63-6070-4e61-8fbb-757930bdafad",
   "metadata": {
    "collapsed": true,
    "jupyter": {
     "outputs_hidden": true
    },
    "scrolled": true
   },
   "outputs": [
    {
     "data": {
      "text/html": [
       "<span style=\"None\">Running query in &#x27;duckdb&#x27;</span>"
      ],
      "text/plain": [
       "Running query in 'duckdb'"
      ]
     },
     "metadata": {},
     "output_type": "display_data"
    },
    {
     "data": {
      "text/html": [
       "<table>\n",
       "    <thead>\n",
       "        <tr>\n",
       "            <th>status_id</th>\n",
       "            <th>created_at</th>\n",
       "            <th>screen_name</th>\n",
       "            <th>text</th>\n",
       "            <th>lang</th>\n",
       "            <th>source</th>\n",
       "            <th>retweet_count</th>\n",
       "            <th>reply_to_screen_name</th>\n",
       "            <th>country_code</th>\n",
       "            <th>followers_count</th>\n",
       "            <th>verified</th>\n",
       "            <th>sentiment_score</th>\n",
       "        </tr>\n",
       "    </thead>\n",
       "    <tbody>\n",
       "        <tr>\n",
       "            <td>1244051646071611394</td>\n",
       "            <td>2020-03-29 00:00:00</td>\n",
       "            <td>IMSS_SanLuis</td>\n",
       "            <td>Ante cualquier enfermedad respiratoria, no te automediques. #PrevenciónCoronavirus #Coronavirus #COVID19 https://t.co/IgB2izYi1p</td>\n",
       "            <td>es</td>\n",
       "            <td>TweetDeck</td>\n",
       "            <td>0</td>\n",
       "            <td>None</td>\n",
       "            <td>None</td>\n",
       "            <td>1008</td>\n",
       "            <td>False</td>\n",
       "            <td>0</td>\n",
       "        </tr>\n",
       "        <tr>\n",
       "            <td>1244051645039706112</td>\n",
       "            <td>2020-03-29 00:00:00</td>\n",
       "            <td>intrac_ccs</td>\n",
       "            <td>#ATENCIÓN En el Terminal Nuevo Circo se implementan medidas como el uso de la mascarilla por parte de usuari@s y conductores que hacen vida en dichas instalaciones, parte de los esfuerzos unificados para impedir la propagación del #Coronavirus #28Marzo @NicolasMaduro  @ErikaPSUV https://t.co/yD8g0EAcQz</td>\n",
       "            <td>es</td>\n",
       "            <td>TweetDeck</td>\n",
       "            <td>1</td>\n",
       "            <td>None</td>\n",
       "            <td>None</td>\n",
       "            <td>90</td>\n",
       "            <td>False</td>\n",
       "            <td>0</td>\n",
       "        </tr>\n",
       "        <tr>\n",
       "            <td>1244051645975191557</td>\n",
       "            <td>2020-03-29 00:00:00</td>\n",
       "            <td>rlieving</td>\n",
       "            <td>“People are just storing up. They are staying at home freezing things. I talk to dealers around the state and out of the area, they are all out of freezers,” said owner Frank Mertz.  https://t.co/gsqghMqJs9  @KQDS_FOX21 #minneapolis #mn #covid19 #coronavirus</td>\n",
       "            <td>en</td>\n",
       "            <td>TweetDeck</td>\n",
       "            <td>0</td>\n",
       "            <td>None</td>\n",
       "            <td>None</td>\n",
       "            <td>136</td>\n",
       "            <td>False</td>\n",
       "            <td>-1</td>\n",
       "        </tr>\n",
       "        <tr>\n",
       "            <td>1244051646750928897</td>\n",
       "            <td>2020-03-29 00:00:00</td>\n",
       "            <td>Tu_IMSS_Coah</td>\n",
       "            <td>Si empezaste a trabajar, necesitas dar de alta a tus beneficiarios ante el #IMSS, ahora lo puedes hacer desde tu domicilio a través de internet y evita filas | #SanaDistancia #QuédateEnCasa  #Coronavirus #COVID19 #MéxicoUnido            https://t.co/zv3POwhVXe https://t.co/1VOKagjdOF</td>\n",
       "            <td>es</td>\n",
       "            <td>TweetDeck</td>\n",
       "            <td>0</td>\n",
       "            <td>None</td>\n",
       "            <td>None</td>\n",
       "            <td>1549</td>\n",
       "            <td>False</td>\n",
       "            <td>0</td>\n",
       "        </tr>\n",
       "        <tr>\n",
       "            <td>1244051647032102914</td>\n",
       "            <td>2020-03-29 00:00:00</td>\n",
       "            <td>Tabasco_IMSS</td>\n",
       "            <td>Una sociedad informada está mejor preparada ante el #Coronavirus #COVID19 ¡inscríbete! https://t.co/HhuRe1r7Wo</td>\n",
       "            <td>es</td>\n",
       "            <td>TweetDeck</td>\n",
       "            <td>0</td>\n",
       "            <td>None</td>\n",
       "            <td>None</td>\n",
       "            <td>868</td>\n",
       "            <td>False</td>\n",
       "            <td>0</td>\n",
       "        </tr>\n",
       "        <tr>\n",
       "            <td>1244051645710897155</td>\n",
       "            <td>2020-03-29 00:00:00</td>\n",
       "            <td>SSalud_mx</td>\n",
       "            <td>¡#Infórmate! #ConferenciaDePrensa sobre el #Coronavirus #COVID19 a las 7 pm. Sigue la transmisión en nuestros perfiles de Facebook, Twitter y en https://t.co/BE7JBC7ARm. https://t.co/g84X9EEnEz</td>\n",
       "            <td>es</td>\n",
       "            <td>TweetDeck</td>\n",
       "            <td>49</td>\n",
       "            <td>None</td>\n",
       "            <td>None</td>\n",
       "            <td>812318</td>\n",
       "            <td>True</td>\n",
       "            <td>0</td>\n",
       "        </tr>\n",
       "        <tr>\n",
       "            <td>1244051646935633921</td>\n",
       "            <td>2020-03-29 00:00:00</td>\n",
       "            <td>AmerMedicalAssn</td>\n",
       "            <td>.@PatriceHarrisMD spoke with @YahooFinance about the #COVID19 stimulus package making its way through Congress and how the healthcare landscape will change once the #pandemic ends. https://t.co/YbfJwrA7ih</td>\n",
       "            <td>en</td>\n",
       "            <td>Sprinklr</td>\n",
       "            <td>3</td>\n",
       "            <td>None</td>\n",
       "            <td>None</td>\n",
       "            <td>714952</td>\n",
       "            <td>True</td>\n",
       "            <td>0</td>\n",
       "        </tr>\n",
       "        <tr>\n",
       "            <td>1244051645971025920</td>\n",
       "            <td>2020-03-29 00:00:00</td>\n",
       "            <td>CGTNOfficial</td>\n",
       "            <td>First medical team aiding #Wuhan in fight against epidemic completes mission   #COVID19 #CoronavirusOutbreak https://t.co/zeeai42psk</td>\n",
       "            <td>en</td>\n",
       "            <td>Twitter Media Studio</td>\n",
       "            <td>18</td>\n",
       "            <td>None</td>\n",
       "            <td>None</td>\n",
       "            <td>14040072</td>\n",
       "            <td>True</td>\n",
       "            <td>-1</td>\n",
       "        </tr>\n",
       "        <tr>\n",
       "            <td>1244051647149543426</td>\n",
       "            <td>2020-03-29 00:00:00</td>\n",
       "            <td>OnTopMag</td>\n",
       "            <td>.@KathyGriffin: @realDonaldTrump Is 'Lying' About #Coronavirus Testing https://t.co/JZp8brA577 #covid19 #lgbt</td>\n",
       "            <td>en</td>\n",
       "            <td>Twitter for Advertisers</td>\n",
       "            <td>1</td>\n",
       "            <td>None</td>\n",
       "            <td>None</td>\n",
       "            <td>5042</td>\n",
       "            <td>False</td>\n",
       "            <td>-1</td>\n",
       "        </tr>\n",
       "        <tr>\n",
       "            <td>1244051645039693824</td>\n",
       "            <td>2020-03-29 00:00:00</td>\n",
       "            <td>ContraReplicaMX</td>\n",
       "            <td>A pesar de la contingencia sanitaria provocada por el #Covid19, el @SismologicoMX va a continuar con el monitoreo las 24 horas del día. https://t.co/HTzp4feAYz</td>\n",
       "            <td>es</td>\n",
       "            <td>TweetDeck</td>\n",
       "            <td>0</td>\n",
       "            <td>None</td>\n",
       "            <td>None</td>\n",
       "            <td>13287</td>\n",
       "            <td>False</td>\n",
       "            <td>0</td>\n",
       "        </tr>\n",
       "    </tbody>\n",
       "</table>\n",
       "<span style=\"font-style:italic;text-align:center;\">Truncated to <a href=\"https://jupysql.ploomber.io/en/latest/api/configuration.html#displaylimit\">displaylimit</a> of 10.</span>"
      ],
      "text/plain": [
       "+---------------------+---------------------+-----------------+-----------------------------------------------------------------------------------------------------------------------------------------------------------------------------------------------------------------------------------------------------------------------------------------------------------------+------+-------------------------+---------------+----------------------+--------------+-----------------+----------+-----------------+\n",
       "|      status_id      |      created_at     |   screen_name   |                                                                                                                                                       text                                                                                                                                                      | lang |          source         | retweet_count | reply_to_screen_name | country_code | followers_count | verified | sentiment_score |\n",
       "+---------------------+---------------------+-----------------+-----------------------------------------------------------------------------------------------------------------------------------------------------------------------------------------------------------------------------------------------------------------------------------------------------------------+------+-------------------------+---------------+----------------------+--------------+-----------------+----------+-----------------+\n",
       "| 1244051646071611394 | 2020-03-29 00:00:00 |   IMSS_SanLuis  |                                                                                         Ante cualquier enfermedad respiratoria, no te automediques. #PrevenciónCoronavirus #Coronavirus #COVID19 https://t.co/IgB2izYi1p                                                                                        |  es  |        TweetDeck        |       0       |         None         |     None     |       1008      |  False   |        0        |\n",
       "| 1244051645039706112 | 2020-03-29 00:00:00 |    intrac_ccs   | #ATENCIÓN En el Terminal Nuevo Circo se implementan medidas como el uso de la mascarilla por parte de usuari@s y conductores que hacen vida en dichas instalaciones, parte de los esfuerzos unificados para impedir la propagación del #Coronavirus #28Marzo @NicolasMaduro  @ErikaPSUV https://t.co/yD8g0EAcQz |  es  |        TweetDeck        |       1       |         None         |     None     |        90       |  False   |        0        |\n",
       "| 1244051645975191557 | 2020-03-29 00:00:00 |     rlieving    |                        “People are just storing up. They are staying at home freezing things. I talk to dealers around the state and out of the area, they are all out of freezers,” said owner Frank Mertz.  https://t.co/gsqghMqJs9  @KQDS_FOX21 #minneapolis #mn #covid19 #coronavirus                       |  en  |        TweetDeck        |       0       |         None         |     None     |       136       |  False   |        -1       |\n",
       "| 1244051646750928897 | 2020-03-29 00:00:00 |   Tu_IMSS_Coah  |           Si empezaste a trabajar, necesitas dar de alta a tus beneficiarios ante el #IMSS, ahora lo puedes hacer desde tu domicilio a través de internet y evita filas | #SanaDistancia #QuédateEnCasa  #Coronavirus #COVID19 #MéxicoUnido            https://t.co/zv3POwhVXe https://t.co/1VOKagjdOF          |  es  |        TweetDeck        |       0       |         None         |     None     |       1549      |  False   |        0        |\n",
       "| 1244051647032102914 | 2020-03-29 00:00:00 |   Tabasco_IMSS  |                                                                                                  Una sociedad informada está mejor preparada ante el #Coronavirus #COVID19 ¡inscríbete! https://t.co/HhuRe1r7Wo                                                                                                 |  es  |        TweetDeck        |       0       |         None         |     None     |       868       |  False   |        0        |\n",
       "| 1244051645710897155 | 2020-03-29 00:00:00 |    SSalud_mx    |                                                        ¡#Infórmate! #ConferenciaDePrensa sobre el #Coronavirus #COVID19 a las 7 pm. Sigue la transmisión en nuestros perfiles de Facebook, Twitter y en https://t.co/BE7JBC7ARm. https://t.co/g84X9EEnEz                                                        |  es  |        TweetDeck        |       49      |         None         |     None     |      812318     |   True   |        0        |\n",
       "| 1244051646935633921 | 2020-03-29 00:00:00 | AmerMedicalAssn |                                                   .@PatriceHarrisMD spoke with @YahooFinance about the #COVID19 stimulus package making its way through Congress and how the healthcare landscape will change once the #pandemic ends. https://t.co/YbfJwrA7ih                                                  |  en  |         Sprinklr        |       3       |         None         |     None     |      714952     |   True   |        0        |\n",
       "| 1244051645971025920 | 2020-03-29 00:00:00 |   CGTNOfficial  |                                                                                       First medical team aiding #Wuhan in fight against epidemic completes mission   #COVID19 #CoronavirusOutbreak https://t.co/zeeai42psk                                                                                      |  en  |   Twitter Media Studio  |       18      |         None         |     None     |     14040072    |   True   |        -1       |\n",
       "| 1244051647149543426 | 2020-03-29 00:00:00 |     OnTopMag    |                                                                                                  .@KathyGriffin: @realDonaldTrump Is 'Lying' About #Coronavirus Testing https://t.co/JZp8brA577 #covid19 #lgbt                                                                                                  |  en  | Twitter for Advertisers |       1       |         None         |     None     |       5042      |  False   |        -1       |\n",
       "| 1244051645039693824 | 2020-03-29 00:00:00 | ContraReplicaMX |                                                                         A pesar de la contingencia sanitaria provocada por el #Covid19, el @SismologicoMX va a continuar con el monitoreo las 24 horas del día. https://t.co/HTzp4feAYz                                                                         |  es  |        TweetDeck        |       0       |         None         |     None     |      13287      |  False   |        0        |\n",
       "+---------------------+---------------------+-----------------+-----------------------------------------------------------------------------------------------------------------------------------------------------------------------------------------------------------------------------------------------------------------------------------------------------------------+------+-------------------------+---------------+----------------------+--------------+-----------------+----------+-----------------+\n",
       "Truncated to displaylimit of 10."
      ]
     },
     "execution_count": 22,
     "metadata": {},
     "output_type": "execute_result"
    }
   ],
   "source": [
    "%sql SELECT * FROM small_twitter"
   ]
  }
 ],
 "metadata": {
  "kernelspec": {
   "display_name": "Python 3 (ipykernel)",
   "language": "python",
   "name": "python3"
  },
  "language_info": {
   "codemirror_mode": {
    "name": "ipython",
    "version": 3
   },
   "file_extension": ".py",
   "mimetype": "text/x-python",
   "name": "python",
   "nbconvert_exporter": "python",
   "pygments_lexer": "ipython3",
   "version": "3.12.4"
  }
 },
 "nbformat": 4,
 "nbformat_minor": 5
}
