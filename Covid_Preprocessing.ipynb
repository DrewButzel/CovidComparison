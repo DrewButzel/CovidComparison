{
 "cells": [
  {
   "cell_type": "code",
   "execution_count": null,
   "id": "20a230fa",
   "metadata": {},
   "outputs": [],
   "source": [
    "#import necessary packages\n",
    "import pandas as pd"
   ]
  },
  {
   "cell_type": "code",
   "execution_count": null,
   "id": "fde361ca",
   "metadata": {},
   "outputs": [],
   "source": [
    "#read in reddit data\n",
    "reddit = pd.read_csv('C:/Users/EJAD1/Desktop/UCD/the-reddit-covid-dataset-comments.csv')\n",
    "reddit.head()"
   ]
  },
  {
   "cell_type": "code",
   "execution_count": null,
   "id": "a3095b6e",
   "metadata": {},
   "outputs": [],
   "source": [
    "#selecting relevant columns\n",
    "updated_reddit = reddit[['id', 'body']]"
   ]
  },
  {
   "cell_type": "code",
   "execution_count": null,
   "id": "debd4574",
   "metadata": {},
   "outputs": [],
   "source": [
    "#writing reddit dataset to a csv file\n",
    "updated_reddit.to_csv(\"C:/Users/EJAD1/Desktop/UCD/preprocessed_reddit.csv\", index=False)"
   ]
  },
  {
   "cell_type": "code",
   "execution_count": null,
   "id": "1a6e5b59",
   "metadata": {},
   "outputs": [],
   "source": [
    "#creating a small test version of reddit (for prototyping) containing only the first 100 rows\n",
    "small_reddit = updated_reddit.head(100)\n",
    "print(small_reddit)"
   ]
  },
  {
   "cell_type": "code",
   "execution_count": null,
   "id": "2f68410e",
   "metadata": {},
   "outputs": [],
   "source": [
    "#writing small reddit to a csv file\n",
    "small_reddit.to_csv('C:/Users/EJAD1/Desktop/UCD/small_reddit.csv', index=False)"
   ]
  },
  {
   "cell_type": "code",
   "execution_count": null,
   "id": "60613eb1",
   "metadata": {},
   "outputs": [],
   "source": [
    "#reading in twitter data\n",
    "data_3_29 = pd.read_csv('C:/Users/EJAD1/Desktop/UCD/2020-03-29 Coronavirus Tweets.CSV')\n",
    "\n",
    "data_3_30 = pd.read_csv('C:/Users/EJAD1/Desktop/UCD/2020-03-30 Coronavirus Tweets.CSV')\n",
    "\n",
    "data_3_31 = pd.read_csv('C:/Users/EJAD1/Desktop/UCD/2020-03-31 Coronavirus Tweets.CSV')\n",
    "\n",
    "data_4_01 = pd.read_csv('C:/Users/EJAD1/Desktop/UCD/2020-04-01 Coronavirus Tweets.CSV')\n",
    "\n",
    "data_4_02 = pd.read_csv('C:/Users/EJAD1/Desktop/UCD/2020-04-02 Coronavirus Tweets.CSV')\n",
    "\n",
    "data_4_03 = pd.read_csv('C:/Users/EJAD1/Desktop/UCD/2020-04-03 Coronavirus Tweets.CSV')\n",
    "\n",
    "data_4_04 = pd.read_csv('C:/Users/EJAD1/Desktop/UCD/2020-04-04 Coronavirus Tweets.CSV')\n",
    "\n",
    "data_4_05 = pd.read_csv('C:/Users/EJAD1/Desktop/UCD/2020-04-05 Coronavirus Tweets.CSV')\n",
    "\n",
    "data_4_06 = pd.read_csv('C:/Users/EJAD1/Desktop/UCD/2020-04-06 Coronavirus Tweets.CSV')\n",
    "\n",
    "data_4_07 = pd.read_csv('C:/Users/EJAD1/Desktop/UCD/2020-04-07 Coronavirus Tweets.CSV')\n",
    "\n",
    "data_4_08 = pd.read_csv('C:/Users/EJAD1/Desktop/UCD/2020-04-08 Coronavirus Tweets.CSV')\n",
    "\n",
    "data_4_09 = pd.read_csv('C:/Users/EJAD1/Desktop/UCD/2020-04-09 Coronavirus Tweets.CSV')\n",
    "\n",
    "data_4_10 = pd.read_csv('C:/Users/EJAD1/Desktop/UCD/2020-04-10 Coronavirus Tweets.CSV')\n",
    "\n",
    "data_4_11 = pd.read_csv('C:/Users/EJAD1/Desktop/UCD/2020-04-11 Coronavirus Tweets.CSV')\n",
    "\n",
    "data_4_12 = pd.read_csv('C:/Users/EJAD1/Desktop/UCD/2020-04-12 Coronavirus Tweets.CSV')\n",
    "\n",
    "data_4_13 = pd.read_csv('C:/Users/EJAD1/Desktop/UCD/2020-04-13 Coronavirus Tweets.CSV')\n",
    "\n",
    "data_4_14 = pd.read_csv('C:/Users/EJAD1/Desktop/UCD/2020-04-14 Coronavirus Tweets.CSV')\n",
    "\n",
    "data_4_15 = pd.read_csv('C:/Users/EJAD1/Desktop/UCD/2020-04-15 Coronavirus Tweets.CSV')"
   ]
  },
  {
   "cell_type": "code",
   "execution_count": null,
   "id": "22e546dc",
   "metadata": {},
   "outputs": [],
   "source": [
    "#concatenating to one datasest\n",
    "twitter_data = pd.concat([data_3_29, data_3_30, data_3_31, data_4_01, data_4_02, data_4_03, data_4_04, data_4_05, data_4_06, \n",
    "                          data_4_07, data_4_08, data_4_09, data_4_10, data_4_11, data_4_12, data_4_13, data_4_14, data_4_15\n",
    "                         ])"
   ]
  },
  {
   "cell_type": "code",
   "execution_count": null,
   "id": "6c256257",
   "metadata": {},
   "outputs": [],
   "source": [
    "#selecting relevant columns\n",
    "final_twitter_data = twitter_data[['status_id', 'lang', 'text']]"
   ]
  },
  {
   "cell_type": "code",
   "execution_count": null,
   "id": "fc8873b6",
   "metadata": {},
   "outputs": [],
   "source": [
    "#viewing number of occurrences of each unique language values\n",
    "lang_counts = final_twitter_data['lang'].value_counts()\n",
    "print(lang_counts)\n",
    "\n",
    "#percentages of unique language values\n",
    "for lang in lang_counts:\n",
    "    print(str(lang/8642360))"
   ]
  },
  {
   "cell_type": "code",
   "execution_count": null,
   "id": "7ad69629",
   "metadata": {},
   "outputs": [],
   "source": [
    "#selecting just the top 5 languages (all more than 2% of data)\n",
    "top_lang_twitter = final_twitter_data[(final_twitter_data['lang'] == 'en') | (final_twitter_data['lang'] == 'es') |\n",
    "                                     (final_twitter_data['lang'] == 'fr') | (final_twitter_data['lang'] == 'tr') |\n",
    "                                     (final_twitter_data['lang'] == 'it') | (final_twitter_data['lang'] == 'und')]"
   ]
  },
  {
   "cell_type": "code",
   "execution_count": null,
   "id": "37acf7d0",
   "metadata": {},
   "outputs": [],
   "source": [
    "#exporting full twitter to a csv file\n",
    "top_lang_twitter.to_csv(\"C:/Users/EJAD1/Desktop/UCD/preprocessed_twitter.csv\", index=False)"
   ]
  },
  {
   "cell_type": "code",
   "execution_count": null,
   "id": "5a735a5f",
   "metadata": {},
   "outputs": [],
   "source": [
    "#creating a small test version of twitter (for prototyping) containing only the first 100 rows\n",
    "small_twitter = top_lang_twitter.head(100)"
   ]
  },
  {
   "cell_type": "code",
   "execution_count": null,
   "id": "9257aae4",
   "metadata": {},
   "outputs": [],
   "source": [
    "#exporting small twitter to a csv file\n",
    "small_twitter.to_csv(\"C:/Users/EJAD1/Desktop/UCD/small_twitter.csv\", index=False)"
   ]
  }
 ],
 "metadata": {
  "kernelspec": {
   "display_name": "Python 3",
   "language": "python",
   "name": "python3"
  },
  "language_info": {
   "codemirror_mode": {
    "name": "ipython",
    "version": 3
   },
   "file_extension": ".py",
   "mimetype": "text/x-python",
   "name": "python",
   "nbconvert_exporter": "python",
   "pygments_lexer": "ipython3",
   "version": "3.8.10"
  }
 },
 "nbformat": 4,
 "nbformat_minor": 5
}
