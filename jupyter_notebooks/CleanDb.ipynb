{
 "cells": [
  {
   "cell_type": "code",
   "execution_count": 2,
   "id": "973887c7-ad02-4cd9-86ad-87065e952676",
   "metadata": {},
   "outputs": [],
   "source": [
    "import duckdb\n",
    "import pandas as pd\n",
    "\n",
    "%reload_ext sql\n",
    "conn = duckdb.connect(\"fulldata.ddb\")\n",
    "%sql conn --alias duckdb"
   ]
  },
  {
   "cell_type": "code",
   "execution_count": null,
   "id": "4e96cad4-6720-47a5-8f46-98d3b4ed5527",
   "metadata": {},
   "outputs": [
    {
     "data": {
      "text/html": [
       "<span style=\"None\">Running query in &#x27;duckdb&#x27;</span>"
      ],
      "text/plain": [
       "Running query in 'duckdb'"
      ]
     },
     "metadata": {},
     "output_type": "display_data"
    },
    {
     "data": {
      "text/html": [
       "<table>\n",
       "    <thead>\n",
       "        <tr>\n",
       "            <th>Count</th>\n",
       "        </tr>\n",
       "    </thead>\n",
       "    <tbody>\n",
       "    </tbody>\n",
       "</table>"
      ],
      "text/plain": [
       "+-------+\n",
       "| Count |\n",
       "+-------+\n",
       "+-------+"
      ]
     },
     "execution_count": 3,
     "metadata": {},
     "output_type": "execute_result"
    }
   ],
   "source": [
    "#creating twitter database with only the columns we need for the sentiment analysis\n",
    "%%sql \n",
    "CREATE TABLE full_twitter (\n",
    "    status_id TEXT,\n",
    "    lang VARCHAR (3),\n",
    "    text TEXT,\n",
    "    sentiment_score INTEGER\n",
    "    )"
   ]
  },
  {
   "cell_type": "code",
   "execution_count": null,
   "id": "f2438066-7752-4d84-a9d0-7ca709536cb9",
   "metadata": {},
   "outputs": [
    {
     "data": {
      "text/html": [
       "<span style=\"None\">Running query in &#x27;duckdb&#x27;</span>"
      ],
      "text/plain": [
       "Running query in 'duckdb'"
      ]
     },
     "metadata": {},
     "output_type": "display_data"
    },
    {
     "data": {
      "text/html": [
       "<table>\n",
       "    <thead>\n",
       "        <tr>\n",
       "            <th>Count</th>\n",
       "        </tr>\n",
       "    </thead>\n",
       "    <tbody>\n",
       "    </tbody>\n",
       "</table>"
      ],
      "text/plain": [
       "+-------+\n",
       "| Count |\n",
       "+-------+\n",
       "+-------+"
      ]
     },
     "execution_count": 4,
     "metadata": {},
     "output_type": "execute_result"
    }
   ],
   "source": [
    "#creating twitter database with only the columns we need for the sentiment analysis\n",
    "%%sql\n",
    "CREATE TABLE full_reddit (\n",
    "    id TEXT,\n",
    "    body TEXT,\n",
    "    sentiment_score INTEGER\n",
    "    )"
   ]
  },
  {
   "cell_type": "code",
   "execution_count": 4,
   "id": "e5d67dc7-9ad2-4fe6-abf2-4c23cf8545fc",
   "metadata": {},
   "outputs": [
    {
     "data": {
      "text/html": [
       "<span style=\"None\">Running query in &#x27;duckdb&#x27;</span>"
      ],
      "text/plain": [
       "Running query in 'duckdb'"
      ]
     },
     "metadata": {},
     "output_type": "display_data"
    },
    {
     "data": {
      "text/html": [
       "<table>\n",
       "    <thead>\n",
       "        <tr>\n",
       "            <th>column_name</th>\n",
       "            <th>column_type</th>\n",
       "            <th>null</th>\n",
       "            <th>key</th>\n",
       "            <th>default</th>\n",
       "            <th>extra</th>\n",
       "        </tr>\n",
       "    </thead>\n",
       "    <tbody>\n",
       "        <tr>\n",
       "            <td>status_id</td>\n",
       "            <td>VARCHAR</td>\n",
       "            <td>YES</td>\n",
       "            <td>None</td>\n",
       "            <td>None</td>\n",
       "            <td>None</td>\n",
       "        </tr>\n",
       "        <tr>\n",
       "            <td>lang</td>\n",
       "            <td>VARCHAR</td>\n",
       "            <td>YES</td>\n",
       "            <td>None</td>\n",
       "            <td>None</td>\n",
       "            <td>None</td>\n",
       "        </tr>\n",
       "        <tr>\n",
       "            <td>text</td>\n",
       "            <td>VARCHAR</td>\n",
       "            <td>YES</td>\n",
       "            <td>None</td>\n",
       "            <td>None</td>\n",
       "            <td>None</td>\n",
       "        </tr>\n",
       "        <tr>\n",
       "            <td>sentiment_score</td>\n",
       "            <td>INTEGER</td>\n",
       "            <td>YES</td>\n",
       "            <td>None</td>\n",
       "            <td>None</td>\n",
       "            <td>None</td>\n",
       "        </tr>\n",
       "    </tbody>\n",
       "</table>"
      ],
      "text/plain": [
       "+-----------------+-------------+------+------+---------+-------+\n",
       "|   column_name   | column_type | null | key  | default | extra |\n",
       "+-----------------+-------------+------+------+---------+-------+\n",
       "|    status_id    |   VARCHAR   | YES  | None |   None  |  None |\n",
       "|       lang      |   VARCHAR   | YES  | None |   None  |  None |\n",
       "|       text      |   VARCHAR   | YES  | None |   None  |  None |\n",
       "| sentiment_score |   INTEGER   | YES  | None |   None  |  None |\n",
       "+-----------------+-------------+------+------+---------+-------+"
      ]
     },
     "execution_count": 4,
     "metadata": {},
     "output_type": "execute_result"
    }
   ],
   "source": [
    "%sql DESCRIBE full_twitter"
   ]
  },
  {
   "cell_type": "code",
   "execution_count": null,
   "id": "ed3d5020-8c8c-4c98-b8d1-c3f1e6cacfef",
   "metadata": {},
   "outputs": [
    {
     "name": "stdout",
     "output_type": "stream",
     "text": [
      "Error: unable to open database \"clean_prototype.ddb\": IO Error: Could not set lock on file \"clean_prototype.ddb\": Conflicting lock is held in /Library/Frameworks/Python.framework/Versions/3.12/Resources/Python.app/Contents/MacOS/Python (PID 71885) by user duncanbeauchamp. See also https://duckdb.org/docs/connect/concurrency\n",
      "Error: unable to open database \"clean_prototype.ddb\": IO Error: Could not set lock on file \"clean_prototype.ddb\": Conflicting lock is held in /Library/Frameworks/Python.framework/Versions/3.12/Resources/Python.app/Contents/MacOS/Python (PID 71885) by user duncanbeauchamp. See also https://duckdb.org/docs/connect/concurrency\n"
     ]
    }
   ],
   "source": [
    "#Tried to run the script in the notebook, realized it only works in the terminal\n",
    "conn.close()\n",
    "!bash small_data.sh"
   ]
  }
 ],
 "metadata": {
  "kernelspec": {
   "display_name": "Python 3 (ipykernel)",
   "language": "python",
   "name": "python3"
  },
  "language_info": {
   "codemirror_mode": {
    "name": "ipython",
    "version": 3
   },
   "file_extension": ".py",
   "mimetype": "text/x-python",
   "name": "python",
   "nbconvert_exporter": "python",
   "pygments_lexer": "ipython3",
   "version": "3.12.4"
  }
 },
 "nbformat": 4,
 "nbformat_minor": 5
}
