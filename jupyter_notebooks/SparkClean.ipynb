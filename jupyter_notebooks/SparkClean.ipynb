{
 "cells": [
  {
   "cell_type": "code",
   "execution_count": null,
   "id": "7317a3e3-e9e3-471c-9764-6a65b7e9f219",
   "metadata": {
    "collapsed": true,
    "jupyter": {
     "outputs_hidden": true
    }
   },
   "outputs": [
    {
     "name": "stdout",
     "output_type": "stream",
     "text": [
      "--2025-03-04 10:24:54--  https://archive.apache.org/dist/spark/spark-3.5.3/spark-3.5.3-bin-hadoop3.tgz\n",
      "Resolving archive.apache.org (archive.apache.org)... 65.108.204.189\n",
      "connected. to archive.apache.org (archive.apache.org)|65.108.204.189|:443... \n",
      "HTTP request sent, awaiting response... 200 OK\n",
      "Length: 400864419 (382M) [application/x-gzip]\n",
      "Saving to: ‘spark-3.5.3-bin-hadoop3.tgz’\n",
      "\n",
      "spark-3.5.3-bin-had 100%[===================>] 382.29M   255KB/s    in 33m 32s \n",
      "\n",
      "2025-03-04 10:58:26 (195 KB/s) - ‘spark-3.5.3-bin-hadoop3.tgz’ saved [400864419/400864419]\n",
      "\n"
     ]
    }
   ],
   "source": [
    "# !wget https://archive.apache.org/dist/spark/spark-3.5.3/spark-3.5.3-bin-hadoop3.tgz\n",
    "# !tar xf spark-3.5.3-bin-hadoop3.tgz\n",
    "# !rm spark-3.5.3-bin-hadoop3.tgz"
   ]
  },
  {
   "cell_type": "code",
   "execution_count": 15,
   "id": "110c7b93-4615-42ee-b76d-1409566e383d",
   "metadata": {},
   "outputs": [],
   "source": [
    "import os\n",
    "os.environ[\"JAVA_HOME\"] = \"/Library/Java/JavaVirtualMachines/jdk-21.jdk/Contents/Home\"\n",
    "os.environ[\"SPARK_HOME\"] = \"spark-3.5.3-bin-hadoop3\""
   ]
  },
  {
   "cell_type": "code",
   "execution_count": 16,
   "id": "8c7f5f36-275c-441b-9ac1-f5710b7abcbb",
   "metadata": {},
   "outputs": [
    {
     "name": "stdout",
     "output_type": "stream",
     "text": [
      "/Users/duncanbeauchamp/CS/CovidComparison\n"
     ]
    }
   ],
   "source": [
    "!cd ~/CS/CovidComparison\n",
    "!pwd"
   ]
  },
  {
   "cell_type": "code",
   "execution_count": 17,
   "id": "9a89b160-85a5-41db-bc6f-efa667ad7461",
   "metadata": {},
   "outputs": [],
   "source": [
    "# !pip install -q findspark\n",
    "import findspark\n",
    "findspark.init()"
   ]
  },
  {
   "cell_type": "code",
   "execution_count": null,
   "id": "e8d02582-33bd-46a0-b70d-74035981c559",
   "metadata": {},
   "outputs": [
    {
     "name": "stdout",
     "output_type": "stream",
     "text": [
      "8\n"
     ]
    }
   ],
   "source": [
    "#Check how many cores are available\n",
    "import multiprocessing\n",
    "print(multiprocessing.cpu_count())"
   ]
  },
  {
   "cell_type": "code",
   "execution_count": null,
   "id": "c819251b-8868-4246-8397-73fb75449c05",
   "metadata": {},
   "outputs": [],
   "source": [
    "#Start the Spark session\n",
    "from pyspark.sql import SparkSession\n",
    "\n",
    "spark = SparkSession.builder \\\n",
    "    .appName(\"CSV Loader\") \\\n",
    "    .master(\"local[*]\") \\\n",
    "    .getOrCreate()\n",
    "\n",
    "sc = spark.sparkContext"
   ]
  },
  {
   "cell_type": "code",
   "execution_count": 36,
   "id": "14f4e546-8d1a-42c3-840d-f2f125672153",
   "metadata": {
    "collapsed": true,
    "jupyter": {
     "outputs_hidden": true
    },
    "scrolled": true
   },
   "outputs": [
    {
     "name": "stderr",
     "output_type": "stream",
     "text": [
      "[Stage 44:>                                                         (0 + 1) / 1]"
     ]
    },
    {
     "name": "stdout",
     "output_type": "stream",
     "text": [
      "+-------+--------------------+-----------+--------------------+-----+\n",
      "|     id|      subreddit.name|created_utc|                body|score|\n",
      "+-------+--------------------+-----------+--------------------+-----+\n",
      "|hi1vsag|                nova| 1635206399|When you schedule...|    2|\n",
      "|hi1vs7i|           vancouver| 1635206397|Didn't stop price...|   32|\n",
      "|hi1vs5n|            pregnant| 1635206397|I’m just waiting ...|    1|\n",
      "|hi1vs5v|            startrek| 1635206397|*The first duty o...|    1|\n",
      "|hi1vs0l|             ontario| 1635206395|Compare BC to Ont...|   -2|\n",
      "|hi1vrtk|       entertainment| 1635206393|Sheeran didn't me...|    2|\n",
      "|hi1vrsk|          conspiracy| 1635206392|I see a lot of po...|    1|\n",
      "|hi1vrnr|  lockdownskepticism| 1635206391|And think about h...|   29|\n",
      "|hi1vrpy|                nova| 1635206391|Unfortunately the...|    2|\n",
      "|hi1vrou|         antivaxxers| 1635206391|I don’t know anyo...|    1|\n",
      "|hi1vrg2|          conspiracy| 1635206388|BS. Not a fear ca...|    1|\n",
      "|hi1vre5|      torontoraptors| 1635206387|Idk if they have ...|    3|\n",
      "|hi1vqzm|               rvvtf| 1635206382|In terms of enrol...|    9|\n",
      "|hi1vqy4|personalfinanceca...| 1635206381|I got some crappy...|    2|\n",
      "|hi1vqh5|             economy| 1635206375|Pretty sure the e...|    1|\n",
      "|hi1vq9t|         redscarepod| 1635206372|Lol it’s kinda fu...|    6|\n",
      "|hi1vq39|               korea| 1635206370|It's racist in th...|    9|\n",
      "|hi1vput|             alberta| 1635206367|When it comes to ...|    0|\n",
      "|hi1vpm3|       beyondthebump| 1635206364|Any other kids I ...|    1|\n",
      "|hi1voyk|          ukpolitics| 1635206355|It's the deadlies...|    1|\n",
      "+-------+--------------------+-----------+--------------------+-----+\n",
      "only showing top 20 rows\n",
      "\n"
     ]
    },
    {
     "name": "stderr",
     "output_type": "stream",
     "text": [
      "                                                                                "
     ]
    }
   ],
   "source": [
    "reddit_df = spark.read.csv(\"preprocessed_reddit.csv\", header=True, inferSchema=True, multiLine=True, escape='\"')\n",
    "\n",
    "reddit_df.show()\n"
   ]
  },
  {
   "cell_type": "code",
   "execution_count": null,
   "id": "58a4b9c6-c3c6-47e6-96a3-2f3554121e42",
   "metadata": {},
   "outputs": [
    {
     "data": {
      "text/plain": [
       "[Row(id='hi1vsag', body='When you scheduled your booster with CVS does it just give you the option of Vaccines: COVID-19 (Vaccine brand) or does it specifically say booster'),\n",
       " Row(id='hi1vs7i', body=\"Didn't stop prices there though. New Zealand and Canada grew at about the same rate through COVID.   I agree that non-resident ownership should be stopped, but it's also probably not going to change anything.\")]"
      ]
     },
     "execution_count": 37,
     "metadata": {},
     "output_type": "execute_result"
    }
   ],
   "source": [
    "#Remove new lines from the body column, we used pyspark dfs ONLY to remove newline characters, not to do any big data processing\n",
    "from pyspark.sql.functions import regexp_replace\n",
    "\n",
    "reddit_df_cleaned = reddit_df.withColumn(\"body\", regexp_replace(\"body\", \"[\\r\\n]\", \" \")).select(\"id\", \"body\")\n",
    "\n",
    "reddit_df_cleaned.take(2)"
   ]
  },
  {
   "cell_type": "code",
   "execution_count": 38,
   "id": "8459667b-01fa-4513-9de1-63d3bb7d8077",
   "metadata": {},
   "outputs": [
    {
     "name": "stderr",
     "output_type": "stream",
     "text": [
      "                                                                                "
     ]
    }
   ],
   "source": [
    "reddit_df_cleaned.coalesce(1).write.csv(\"./reddit_full_cleaned\", header=True)"
   ]
  },
  {
   "cell_type": "code",
   "execution_count": null,
   "id": "7268d0c9-d16f-45c6-83fa-95103fdebedf",
   "metadata": {
    "jupyter": {
     "source_hidden": true
    }
   },
   "outputs": [
    {
     "name": "stderr",
     "output_type": "stream",
     "text": [
      "[Stage 36:>                                                         (0 + 1) / 1]"
     ]
    },
    {
     "name": "stdout",
     "output_type": "stream",
     "text": [
      "+-------------------+-------------------+---------------+--------------------+----+--------------------+-------------+--------------------+------------+---------------+--------+\n",
      "|          status_id|         created_at|    screen_name|                text|lang|              source|retweet_count|reply_to_screen_name|country_code|followers_count|verified|\n",
      "+-------------------+-------------------+---------------+--------------------+----+--------------------+-------------+--------------------+------------+---------------+--------+\n",
      "|1244051646071611394|2020-03-29 00:00:00|   IMSS_SanLuis|Ante cualquier en...|  es|           TweetDeck|            0|                NULL|        NULL|           1008|   false|\n",
      "|1244051645039706112|2020-03-29 00:00:00|     intrac_ccs|#ATENCIÓN En el T...|  es|           TweetDeck|            1|                NULL|        NULL|             90|   false|\n",
      "|1244051645975191557|2020-03-29 00:00:00|       rlieving|“People are just ...|  en|           TweetDeck|            0|                NULL|        NULL|            136|   false|\n",
      "|1244051646750928897|2020-03-29 00:00:00|   Tu_IMSS_Coah|Si empezaste a tr...|  es|           TweetDeck|            0|                NULL|        NULL|           1549|   false|\n",
      "|1244051647032102914|2020-03-29 00:00:00|   Tabasco_IMSS|Una sociedad info...|  es|           TweetDeck|            0|                NULL|        NULL|            868|   false|\n",
      "|1244051645710897155|2020-03-29 00:00:00|      SSalud_mx|¡#Infórmate! #Con...|  es|           TweetDeck|           49|                NULL|        NULL|         812318|    true|\n",
      "|1244051646935633921|2020-03-29 00:00:00|AmerMedicalAssn|.@PatriceHarrisMD...|  en|            Sprinklr|            3|                NULL|        NULL|         714952|    true|\n",
      "|1244051645971025920|2020-03-29 00:00:00|   CGTNOfficial|First medical tea...|  en|Twitter Media Studio|           18|                NULL|        NULL|       14040072|    true|\n",
      "|1244051647149543426|2020-03-29 00:00:00|       OnTopMag|.@KathyGriffin: @...|  en|Twitter for Adver...|            1|                NULL|        NULL|           5042|   false|\n",
      "|1244051645039693824|2020-03-29 00:00:00|ContraReplicaMX|A pesar de la con...|  es|           TweetDeck|            0|                NULL|        NULL|          13287|   false|\n",
      "|1244051646469947399|2020-03-29 00:00:00|        SSC_Pue|Ya sea a pie, en ...|  es|           TweetDeck|            3|                NULL|        NULL|         297013|   false|\n",
      "|1244051645098528768|2020-03-29 00:00:00|        uri_911|#VEN911Oficial | ...|  es|           TweetDeck|            0|                NULL|        NULL|             66|   false|\n",
      "|1244051646113443841|2020-03-29 00:00:00|     SecAytoPue|¿Qué es el corona...|  es|           TweetDeck|            0|                NULL|        NULL|           2251|   false|\n",
      "|1244051645102579712|2020-03-29 00:00:00|       livemint|#CoronaUpdate | J...|  en|           TweetDeck|            2|                NULL|        NULL|        1862858|    true|\n",
      "|1244051647329779713|2020-03-29 00:00:00|    DiarioLibre|| #Coronavirus | ...|  es|           TweetDeck|           12|                NULL|        NULL|        1185042|    true|\n",
      "|1244051646415425536|2020-03-29 00:00:00|  lahoraecuador|Debido a la emerg...|  es|           TweetDeck|           19|                NULL|        NULL|         534729|   false|\n",
      "|1244051647418044418|2020-03-29 00:00:00|     ABSCBNNews|Singapore donates...|  en|           TweetDeck|          840|                NULL|        NULL|        6767144|    true|\n",
      "|1244051645111074817|2020-03-29 00:00:00|    RadioNLNews|It's been a remar...|  en|           TweetDeck|            0|                NULL|        NULL|           6929|   false|\n",
      "|1244051645165600768|2020-03-29 00:00:00|ElSoldeSinaloa_|#PorSiNoLoViste\\n...|  es|           TweetDeck|            0|                NULL|        NULL|           2794|   false|\n",
      "|1244051645153116161|2020-03-29 00:00:00|  techreview_es|#LoMásLeídoMarzo ...|  es|           TweetDeck|           12|                NULL|        NULL|          27514|    true|\n",
      "+-------------------+-------------------+---------------+--------------------+----+--------------------+-------------+--------------------+------------+---------------+--------+\n",
      "only showing top 20 rows\n",
      "\n"
     ]
    },
    {
     "name": "stderr",
     "output_type": "stream",
     "text": [
      "                                                                                "
     ]
    }
   ],
   "source": [
    "twitter_df = spark.read.csv(\"preprocessed_twitter.csv\", header=True, inferSchema=True, multiLine=True, escape='\"')\n",
    "\n",
    "twitter_df.show()"
   ]
  },
  {
   "cell_type": "code",
   "execution_count": null,
   "id": "8698bfc7-8ecd-4029-b011-b5d86868a149",
   "metadata": {},
   "outputs": [
    {
     "data": {
      "text/plain": [
       "[Row(status_id=1244051646071611394, lang='es', text='Ante cualquier enfermedad respiratoria, no te automediques. #PrevenciónCoronavirus #Coronavirus #COVID19 https://t.co/IgB2izYi1p'),\n",
       " Row(status_id=1244051645039706112, lang='es', text='#ATENCIÓN En el Terminal Nuevo Circo se implementan medidas como el uso de la mascarilla por parte de usuari@s y conductores que hacen vida en dichas instalaciones, parte de los esfuerzos unificados para impedir la propagación del #Coronavirus #28Marzo @NicolasMaduro  @ErikaPSUV https://t.co/yD8g0EAcQz')]"
      ]
     },
     "execution_count": 33,
     "metadata": {},
     "output_type": "execute_result"
    }
   ],
   "source": [
    "#Same as above, remove new lines from the text column\n",
    "twitter_df_cleaned = twitter_df.withColumn(\"text\", regexp_replace(\"text\", \"[\\r\\n]\", \" \")).select(\"status_id\", \"lang\", \"text\")\n",
    "\n",
    "twitter_df_cleaned.take(2)"
   ]
  },
  {
   "cell_type": "code",
   "execution_count": 34,
   "id": "23d2fa13-98f0-46c6-a3a8-7efe22fb7e3f",
   "metadata": {},
   "outputs": [
    {
     "name": "stderr",
     "output_type": "stream",
     "text": [
      "                                                                                "
     ]
    }
   ],
   "source": [
    "twitter_df_cleaned.coalesce(1).write.csv(\"./twitter_full_cleaned\", header=True)"
   ]
  }
 ],
 "metadata": {
  "kernelspec": {
   "display_name": "Python 3 (ipykernel)",
   "language": "python",
   "name": "python3"
  },
  "language_info": {
   "codemirror_mode": {
    "name": "ipython",
    "version": 3
   },
   "file_extension": ".py",
   "mimetype": "text/x-python",
   "name": "python",
   "nbconvert_exporter": "python",
   "pygments_lexer": "ipython3",
   "version": "3.12.4"
  }
 },
 "nbformat": 4,
 "nbformat_minor": 5
}
