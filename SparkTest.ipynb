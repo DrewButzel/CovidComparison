{
 "cells": [
  {
   "cell_type": "code",
   "execution_count": 1,
   "id": "627b9e30-83b7-4324-9bcc-7fbc912fad4c",
   "metadata": {},
   "outputs": [
    {
     "name": "stdout",
     "output_type": "stream",
     "text": [
      "zsh:1: command not found: apt-get\n"
     ]
    }
   ],
   "source": [
    "!apt-get install openjdk-8-jdk-headless -qq > /dev/null"
   ]
  },
  {
   "cell_type": "code",
   "execution_count": 2,
   "id": "7317a3e3-e9e3-471c-9764-6a65b7e9f219",
   "metadata": {},
   "outputs": [
    {
     "name": "stdout",
     "output_type": "stream",
     "text": [
      "--2025-03-04 10:24:54--  https://archive.apache.org/dist/spark/spark-3.5.3/spark-3.5.3-bin-hadoop3.tgz\n",
      "Resolving archive.apache.org (archive.apache.org)... 65.108.204.189\n",
      "connected. to archive.apache.org (archive.apache.org)|65.108.204.189|:443... \n",
      "HTTP request sent, awaiting response... 200 OK\n",
      "Length: 400864419 (382M) [application/x-gzip]\n",
      "Saving to: ‘spark-3.5.3-bin-hadoop3.tgz’\n",
      "\n",
      "spark-3.5.3-bin-had 100%[===================>] 382.29M   255KB/s    in 33m 32s \n",
      "\n",
      "2025-03-04 10:58:26 (195 KB/s) - ‘spark-3.5.3-bin-hadoop3.tgz’ saved [400864419/400864419]\n",
      "\n"
     ]
    }
   ],
   "source": [
    "!wget https://archive.apache.org/dist/spark/spark-3.5.3/spark-3.5.3-bin-hadoop3.tgz\n",
    "!tar xf spark-3.5.3-bin-hadoop3.tgz\n",
    "!rm spark-3.5.3-bin-hadoop3.tgz   # Tidying up"
   ]
  },
  {
   "cell_type": "code",
   "execution_count": 1,
   "id": "110c7b93-4615-42ee-b76d-1409566e383d",
   "metadata": {},
   "outputs": [],
   "source": [
    "import os\n",
    "os.environ[\"JAVA_HOME\"] = \"/Library/Java/JavaVirtualMachines/jdk-21.jdk/Contents/Home\"\n",
    "os.environ[\"SPARK_HOME\"] = \"spark-3.5.3-bin-hadoop3\""
   ]
  },
  {
   "cell_type": "code",
   "execution_count": 2,
   "id": "8c7f5f36-275c-441b-9ac1-f5710b7abcbb",
   "metadata": {},
   "outputs": [
    {
     "name": "stdout",
     "output_type": "stream",
     "text": [
      "/Users/duncanbeauchamp/CS/CovidComparison\n"
     ]
    }
   ],
   "source": [
    "!cd ~/CS/CovidComparison\n",
    "!pwd"
   ]
  },
  {
   "cell_type": "code",
   "execution_count": 3,
   "id": "9a89b160-85a5-41db-bc6f-efa667ad7461",
   "metadata": {},
   "outputs": [],
   "source": [
    "# !pip install -q findspark\n",
    "import findspark\n",
    "findspark.init()"
   ]
  },
  {
   "cell_type": "code",
   "execution_count": 4,
   "id": "e8d02582-33bd-46a0-b70d-74035981c559",
   "metadata": {},
   "outputs": [
    {
     "name": "stdout",
     "output_type": "stream",
     "text": [
      "8\n"
     ]
    }
   ],
   "source": [
    "import multiprocessing\n",
    "print(multiprocessing.cpu_count())"
   ]
  },
  {
   "cell_type": "code",
   "execution_count": 5,
   "id": "c819251b-8868-4246-8397-73fb75449c05",
   "metadata": {},
   "outputs": [
    {
     "name": "stderr",
     "output_type": "stream",
     "text": [
      "25/03/20 12:20:41 WARN Utils: Your hostname, Duncans-MacBook-Air.local resolves to a loopback address: 127.0.0.1; using 172.18.95.63 instead (on interface en0)\n",
      "25/03/20 12:20:41 WARN Utils: Set SPARK_LOCAL_IP if you need to bind to another address\n",
      "Setting default log level to \"WARN\".\n",
      "To adjust logging level use sc.setLogLevel(newLevel). For SparkR, use setLogLevel(newLevel).\n",
      "25/03/20 12:20:42 WARN NativeCodeLoader: Unable to load native-hadoop library for your platform... using builtin-java classes where applicable\n",
      "25/03/20 12:20:57 WARN GarbageCollectionMetrics: To enable non-built-in garbage collector(s) List(G1 Concurrent GC), users should configure it(them) to spark.eventLog.gcMetrics.youngGenerationGarbageCollectors or spark.eventLog.gcMetrics.oldGenerationGarbageCollectors\n"
     ]
    }
   ],
   "source": [
    "from pyspark.sql import SparkSession\n",
    "\n",
    "spark = SparkSession.builder \\\n",
    "    .appName(\"CSV Loader\") \\\n",
    "    .master(\"local[*]\") \\\n",
    "    .getOrCreate()\n",
    "\n",
    "sc = spark.sparkContext  # Get the existing SparkContext"
   ]
  },
  {
   "cell_type": "code",
   "execution_count": 6,
   "id": "14f4e546-8d1a-42c3-840d-f2f125672153",
   "metadata": {},
   "outputs": [
    {
     "name": "stdout",
     "output_type": "stream",
     "text": [
      "+-------+--------------------+-----------+--------------------+-----+\n",
      "|     id|      subreddit.name|created_utc|                body|score|\n",
      "+-------+--------------------+-----------+--------------------+-----+\n",
      "|hi1vsag|                nova| 1635206399|When you schedule...|    2|\n",
      "|hi1vs7i|           vancouver| 1635206397|Didn't stop price...|   32|\n",
      "|hi1vs5n|            pregnant| 1635206397|I’m just waiting ...|    1|\n",
      "|hi1vs5v|            startrek| 1635206397|*The first duty o...|    1|\n",
      "|hi1vs0l|             ontario| 1635206395|Compare BC to Ont...|   -2|\n",
      "|hi1vrtk|       entertainment| 1635206393|Sheeran didn't me...|    2|\n",
      "|hi1vrsk|          conspiracy| 1635206392|I see a lot of po...|    1|\n",
      "|hi1vrnr|  lockdownskepticism| 1635206391|And think about h...|   29|\n",
      "|hi1vrpy|                nova| 1635206391|Unfortunately the...|    2|\n",
      "|hi1vrou|         antivaxxers| 1635206391|I don’t know anyo...|    1|\n",
      "|hi1vrg2|          conspiracy| 1635206388|BS. Not a fear ca...|    1|\n",
      "|hi1vre5|      torontoraptors| 1635206387|Idk if they have ...|    3|\n",
      "|hi1vqzm|               rvvtf| 1635206382|In terms of enrol...|    9|\n",
      "|hi1vqy4|personalfinanceca...| 1635206381|I got some crappy...|    2|\n",
      "|hi1vqh5|             economy| 1635206375|Pretty sure the e...|    1|\n",
      "|hi1vq9t|         redscarepod| 1635206372|Lol it’s kinda fu...|    6|\n",
      "|hi1vq39|               korea| 1635206370|It's racist in th...|    9|\n",
      "|hi1vput|             alberta| 1635206367|When it comes to ...|    0|\n",
      "|hi1vpm3|       beyondthebump| 1635206364|Any other kids I ...|    1|\n",
      "|hi1voyk|          ukpolitics| 1635206355|It's the deadlies...|    1|\n",
      "+-------+--------------------+-----------+--------------------+-----+\n",
      "only showing top 20 rows\n",
      "\n"
     ]
    }
   ],
   "source": [
    "reddit_df = spark.read.csv(\"small_reddit.csv\", header=True, inferSchema=True, multiLine=True, escape='\"')\n",
    "\n",
    "reddit_df.show()\n"
   ]
  },
  {
   "cell_type": "code",
   "execution_count": 7,
   "id": "58a4b9c6-c3c6-47e6-96a3-2f3554121e42",
   "metadata": {},
   "outputs": [
    {
     "data": {
      "text/plain": [
       "[Row(id='hi1vsag', body='When you scheduled your booster with CVS does it just give you the option of Vaccines: COVID-19 (Vaccine brand) or does it specifically say booster'),\n",
       " Row(id='hi1vs7i', body=\"Didn't stop prices there though. New Zealand and Canada grew at about the same rate through COVID.   I agree that non-resident ownership should be stopped, but it's also probably not going to change anything.\")]"
      ]
     },
     "execution_count": 7,
     "metadata": {},
     "output_type": "execute_result"
    }
   ],
   "source": [
    "from pyspark.sql.functions import regexp_replace\n",
    "\n",
    "# Assume df is your DataFrame with a \"comment\" column containing newlines\n",
    "reddit_df_cleaned = reddit_df.withColumn(\"body\", regexp_replace(\"body\", \"[\\r\\n]\", \" \")).select(\"id\", \"body\")\n",
    "\n",
    "reddit_df_cleaned.take(2)\n"
   ]
  },
  {
   "cell_type": "code",
   "execution_count": null,
   "id": "61e3e5c2-0eff-47d3-8561-b50f592c07cb",
   "metadata": {},
   "outputs": [],
   "source": []
  },
  {
   "cell_type": "code",
   "execution_count": 9,
   "id": "8459667b-01fa-4513-9de1-63d3bb7d8077",
   "metadata": {},
   "outputs": [],
   "source": [
    "reddit_df_cleaned.coalesce(1).write.csv(\"./reddit_test\", header=True)"
   ]
  },
  {
   "cell_type": "code",
   "execution_count": null,
   "id": "21f0bca2-14cd-4f20-94ad-118dc61acaca",
   "metadata": {},
   "outputs": [],
   "source": []
  },
  {
   "cell_type": "code",
   "execution_count": null,
   "id": "7268d0c9-d16f-45c6-83fa-95103fdebedf",
   "metadata": {},
   "outputs": [],
   "source": [
    "twitter_df = spark.read.csv(\"small_twitter.csv\", header=True, inferSchema=True, multiLine=True, escape='\"')\n",
    "\n",
    "twitter_df.show()"
   ]
  },
  {
   "cell_type": "code",
   "execution_count": 12,
   "id": "8698bfc7-8ecd-4029-b011-b5d86868a149",
   "metadata": {},
   "outputs": [
    {
     "data": {
      "text/plain": [
       "[Row(status_id=1244051646071611394, lang='es', text='Ante cualquier enfermedad respiratoria, no te automediques. #PrevenciónCoronavirus #Coronavirus #COVID19 https://t.co/IgB2izYi1p'),\n",
       " Row(status_id=1244051645039706112, lang='es', text='#ATENCIÓN En el Terminal Nuevo Circo se implementan medidas como el uso de la mascarilla por parte de usuari@s y conductores que hacen vida en dichas instalaciones, parte de los esfuerzos unificados para impedir la propagación del #Coronavirus #28Marzo @NicolasMaduro  @ErikaPSUV https://t.co/yD8g0EAcQz')]"
      ]
     },
     "execution_count": 12,
     "metadata": {},
     "output_type": "execute_result"
    }
   ],
   "source": [
    "twitter_df_cleaned = twitter_df.withColumn(\"text\", regexp_replace(\"text\", \"[\\r\\n]\", \" \")).select(\"status_id\", \"lang\", \"text\")\n",
    "# twitter_df_cleaned2 = twitter_df_cleaned.select(\"status_id\", \"lang\", \"text\")\n",
    "\n",
    "twitter_df_cleaned.take(2)"
   ]
  },
  {
   "cell_type": "code",
   "execution_count": 13,
   "id": "23d2fa13-98f0-46c6-a3a8-7efe22fb7e3f",
   "metadata": {},
   "outputs": [],
   "source": [
    "twitter_df_cleaned.coalesce(1).write.csv(\"./new_twitter_test\", header=True)"
   ]
  },
  {
   "cell_type": "code",
   "execution_count": 29,
   "id": "517fc88b-2d5b-4506-b000-03fbb1ffaf25",
   "metadata": {},
   "outputs": [],
   "source": [
    "reddit_rdd = sc.textFile(\"test/cleaned_small_reddit.csv\")"
   ]
  },
  {
   "cell_type": "code",
   "execution_count": null,
   "id": "6f0da4d1-dca8-4bc0-b377-10b21281c293",
   "metadata": {},
   "outputs": [],
   "source": [
    "%%time\n",
    "\n",
    "pos_words_set = set()\n",
    "with open('sentiment_txts/positive_words_en.txt','r') as file:\n",
    "    for line in file:\n",
    "        pos_words_set.add(line.strip())\n",
    "print(pos_words_set)\n"
   ]
  },
  {
   "cell_type": "code",
   "execution_count": 32,
   "id": "31ed3760-05d7-44fa-bb22-a7e1258211a4",
   "metadata": {},
   "outputs": [
    {
     "data": {
      "text/plain": [
       "['id,subreddit.name,created_utc,body,score',\n",
       " 'hi1vsag,nova,1635206399,When you scheduled your booster with CVS does it just give you the option of Vaccines: COVID-19 (Vaccine brand) or does it specifically say booster,2',\n",
       " 'hi1vs7i,vancouver,1635206397,\"Didn\\'t stop prices there though. New Zealand and Canada grew at about the same rate through COVID.   I agree that non-resident ownership should be stopped, but it\\'s also probably not going to change anything.\",32',\n",
       " 'hi1vs5n,pregnant,1635206397,I’m just waiting until after pregnancy to get vaccinated.  I have a special needs daughter due to having fever during pregnancy and I’m not willing to risk the vaccine fever right now. I have strong antibodies from Covid that I had before I got pregnant. (I keep taking blood tests to check) There’s a difference between anti vaccine and deciding to wait based on different factors,1',\n",
       " 'hi1vs5v,startrek,1635206397,\"*The first duty of every Starfleet officer is to the truth. Whether it\\'s scientific truth, or historical truth, or personal truth. It is the guiding principle upon which Starfleet is based. If you can\\'t find it within yourself to stand up and tell the truth about what happened you don\\'t deserve to wear that uniform.*  [Captain Jean-Luc Picard, \\\\\"The First Duty\\\\\"](https://www.youtube.com/watch?v=xefh7W1nVo4)  Reddit admins have been [ineffectual in their response to COVID-19 misinformation](https://www.dailydot.com/debug/subreddits-private-protest-covid-disinformation-reddit/). In lieu of Reddit gold and awards, we ask that you donate to the [WHO COVID-19 response fund](https://www.who.int/emergencies/diseases/novel-coronavirus-2019/donate).  Please respect our [subreddit rules](https://www.reddit.com/r/startrek/wiki/guidelines). LLAP!  *I am a bot, and this action was performed automatically. Please [contact the moderators of this subreddit](/message/compose/?to=/r/startrek) if you have any questions or concerns.*\",1']"
      ]
     },
     "execution_count": 32,
     "metadata": {},
     "output_type": "execute_result"
    }
   ],
   "source": [
    "rdd.take(5)"
   ]
  },
  {
   "cell_type": "code",
   "execution_count": null,
   "id": "a414bf48-b270-424a-8c76-08224abe0ee9",
   "metadata": {},
   "outputs": [],
   "source": []
  }
 ],
 "metadata": {
  "kernelspec": {
   "display_name": "Python 3 (ipykernel)",
   "language": "python",
   "name": "python3"
  },
  "language_info": {
   "codemirror_mode": {
    "name": "ipython",
    "version": 3
   },
   "file_extension": ".py",
   "mimetype": "text/x-python",
   "name": "python",
   "nbconvert_exporter": "python",
   "pygments_lexer": "ipython3",
   "version": "3.12.4"
  }
 },
 "nbformat": 4,
 "nbformat_minor": 5
}
