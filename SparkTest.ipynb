{
 "cells": [
  {
   "cell_type": "code",
   "execution_count": 1,
   "id": "627b9e30-83b7-4324-9bcc-7fbc912fad4c",
   "metadata": {},
   "outputs": [
    {
     "name": "stdout",
     "output_type": "stream",
     "text": [
      "zsh:1: command not found: apt-get\n"
     ]
    }
   ],
   "source": [
    "!apt-get install openjdk-8-jdk-headless -qq > /dev/null"
   ]
  },
  {
   "cell_type": "code",
   "execution_count": 2,
   "id": "7317a3e3-e9e3-471c-9764-6a65b7e9f219",
   "metadata": {},
   "outputs": [
    {
     "name": "stdout",
     "output_type": "stream",
     "text": [
      "--2025-03-04 10:24:54--  https://archive.apache.org/dist/spark/spark-3.5.3/spark-3.5.3-bin-hadoop3.tgz\n",
      "Resolving archive.apache.org (archive.apache.org)... 65.108.204.189\n",
      "connected. to archive.apache.org (archive.apache.org)|65.108.204.189|:443... \n",
      "HTTP request sent, awaiting response... 200 OK\n",
      "Length: 400864419 (382M) [application/x-gzip]\n",
      "Saving to: ‘spark-3.5.3-bin-hadoop3.tgz’\n",
      "\n",
      "spark-3.5.3-bin-had 100%[===================>] 382.29M   255KB/s    in 33m 32s \n",
      "\n",
      "2025-03-04 10:58:26 (195 KB/s) - ‘spark-3.5.3-bin-hadoop3.tgz’ saved [400864419/400864419]\n",
      "\n"
     ]
    }
   ],
   "source": [
    "!wget https://archive.apache.org/dist/spark/spark-3.5.3/spark-3.5.3-bin-hadoop3.tgz\n",
    "!tar xf spark-3.5.3-bin-hadoop3.tgz\n",
    "!rm spark-3.5.3-bin-hadoop3.tgz   # Tidying up"
   ]
  },
  {
   "cell_type": "code",
   "execution_count": 1,
   "id": "110c7b93-4615-42ee-b76d-1409566e383d",
   "metadata": {},
   "outputs": [],
   "source": [
    "import os\n",
    "os.environ[\"JAVA_HOME\"] = \"/Library/Java/JavaVirtualMachines/jdk-21.jdk/Contents/Home\"\n",
    "os.environ[\"SPARK_HOME\"] = \"spark-3.5.3-bin-hadoop3\""
   ]
  },
  {
   "cell_type": "code",
   "execution_count": 2,
   "id": "8c7f5f36-275c-441b-9ac1-f5710b7abcbb",
   "metadata": {},
   "outputs": [
    {
     "name": "stdout",
     "output_type": "stream",
     "text": [
      "/Users/duncanbeauchamp/CS/CovidComparison\n"
     ]
    }
   ],
   "source": [
    "!cd ~/CS/CovidComparison\n",
    "!pwd"
   ]
  },
  {
   "cell_type": "code",
   "execution_count": 3,
   "id": "9a89b160-85a5-41db-bc6f-efa667ad7461",
   "metadata": {},
   "outputs": [],
   "source": [
    "# !pip install -q findspark\n",
    "import findspark\n",
    "findspark.init()"
   ]
  },
  {
   "cell_type": "code",
   "execution_count": 4,
   "id": "2bd5649c-0338-482c-96be-38f004f59258",
   "metadata": {},
   "outputs": [
    {
     "name": "stderr",
     "output_type": "stream",
     "text": [
      "25/03/20 10:15:05 WARN Utils: Your hostname, Duncans-MacBook-Air.local resolves to a loopback address: 127.0.0.1; using 172.18.95.63 instead (on interface en0)\n",
      "25/03/20 10:15:05 WARN Utils: Set SPARK_LOCAL_IP if you need to bind to another address\n",
      "Setting default log level to \"WARN\".\n",
      "To adjust logging level use sc.setLogLevel(newLevel). For SparkR, use setLogLevel(newLevel).\n",
      "25/03/20 10:15:05 WARN NativeCodeLoader: Unable to load native-hadoop library for your platform... using builtin-java classes where applicable\n"
     ]
    },
    {
     "data": {
      "text/html": [
       "\n",
       "            <div>\n",
       "                <p><b>SparkSession - in-memory</b></p>\n",
       "                \n",
       "        <div>\n",
       "            <p><b>SparkContext</b></p>\n",
       "\n",
       "            <p><a href=\"http://172.18.95.63:4040\">Spark UI</a></p>\n",
       "\n",
       "            <dl>\n",
       "              <dt>Version</dt>\n",
       "                <dd><code>v3.5.3</code></dd>\n",
       "              <dt>Master</dt>\n",
       "                <dd><code>local[*]</code></dd>\n",
       "              <dt>AppName</dt>\n",
       "                <dd><code>pyspark-shell</code></dd>\n",
       "            </dl>\n",
       "        </div>\n",
       "        \n",
       "            </div>\n",
       "        "
      ],
      "text/plain": [
       "<pyspark.sql.session.SparkSession at 0x106837560>"
      ]
     },
     "execution_count": 4,
     "metadata": {},
     "output_type": "execute_result"
    }
   ],
   "source": [
    "from pyspark.sql import SparkSession\n",
    "spark = SparkSession.builder.master(\"local[*]\").getOrCreate()\n",
    "spark.conf.set(\"spark.sql.repl.eagerEval.enabled\", True) #  This will format our output tables a bit nicer when not using the show() method\n",
    "spark"
   ]
  },
  {
   "cell_type": "code",
   "execution_count": 5,
   "id": "e8d02582-33bd-46a0-b70d-74035981c559",
   "metadata": {},
   "outputs": [
    {
     "name": "stdout",
     "output_type": "stream",
     "text": [
      "8\n"
     ]
    },
    {
     "name": "stderr",
     "output_type": "stream",
     "text": [
      "25/03/20 10:15:18 WARN GarbageCollectionMetrics: To enable non-built-in garbage collector(s) List(G1 Concurrent GC), users should configure it(them) to spark.eventLog.gcMetrics.youngGenerationGarbageCollectors or spark.eventLog.gcMetrics.oldGenerationGarbageCollectors\n"
     ]
    }
   ],
   "source": [
    "import multiprocessing\n",
    "print(multiprocessing.cpu_count())"
   ]
  },
  {
   "cell_type": "code",
   "execution_count": 6,
   "id": "c819251b-8868-4246-8397-73fb75449c05",
   "metadata": {},
   "outputs": [
    {
     "ename": "ValueError",
     "evalue": "Cannot run multiple SparkContexts at once; existing SparkContext(app=pyspark-shell, master=local[*]) created by getOrCreate at /var/folders/91/t1fb1wxx11x5nxs1h30387tw0000gn/T/ipykernel_68216/3781185930.py:2 ",
     "output_type": "error",
     "traceback": [
      "\u001b[0;31m---------------------------------------------------------------------------\u001b[0m",
      "\u001b[0;31mValueError\u001b[0m                                Traceback (most recent call last)",
      "Cell \u001b[0;32mIn[6], line 3\u001b[0m\n\u001b[1;32m      1\u001b[0m \u001b[38;5;28;01mfrom\u001b[39;00m\u001b[38;5;250m \u001b[39m\u001b[38;5;21;01mpyspark\u001b[39;00m\u001b[38;5;250m \u001b[39m\u001b[38;5;28;01mimport\u001b[39;00m SparkConf, SparkContext\n\u001b[1;32m      2\u001b[0m conf \u001b[38;5;241m=\u001b[39m SparkConf()\u001b[38;5;241m.\u001b[39msetAppName(\u001b[38;5;124m\"\u001b[39m\u001b[38;5;124mCSV Loader\u001b[39m\u001b[38;5;124m\"\u001b[39m)\u001b[38;5;241m.\u001b[39msetMaster(\u001b[38;5;124m\"\u001b[39m\u001b[38;5;124mlocal[*]\u001b[39m\u001b[38;5;124m\"\u001b[39m)\n\u001b[0;32m----> 3\u001b[0m sc \u001b[38;5;241m=\u001b[39m \u001b[43mSparkContext\u001b[49m\u001b[43m(\u001b[49m\u001b[43mconf\u001b[49m\u001b[38;5;241;43m=\u001b[39;49m\u001b[43mconf\u001b[49m\u001b[43m)\u001b[49m\n",
      "File \u001b[0;32m~/CS/CovidComparison/spark-3.5.3-bin-hadoop3/python/pyspark/context.py:201\u001b[0m, in \u001b[0;36mSparkContext.__init__\u001b[0;34m(self, master, appName, sparkHome, pyFiles, environment, batchSize, serializer, conf, gateway, jsc, profiler_cls, udf_profiler_cls, memory_profiler_cls)\u001b[0m\n\u001b[1;32m    195\u001b[0m \u001b[38;5;28;01mif\u001b[39;00m gateway \u001b[38;5;129;01mis\u001b[39;00m \u001b[38;5;129;01mnot\u001b[39;00m \u001b[38;5;28;01mNone\u001b[39;00m \u001b[38;5;129;01mand\u001b[39;00m gateway\u001b[38;5;241m.\u001b[39mgateway_parameters\u001b[38;5;241m.\u001b[39mauth_token \u001b[38;5;129;01mis\u001b[39;00m \u001b[38;5;28;01mNone\u001b[39;00m:\n\u001b[1;32m    196\u001b[0m     \u001b[38;5;28;01mraise\u001b[39;00m \u001b[38;5;167;01mValueError\u001b[39;00m(\n\u001b[1;32m    197\u001b[0m         \u001b[38;5;124m\"\u001b[39m\u001b[38;5;124mYou are trying to pass an insecure Py4j gateway to Spark. This\u001b[39m\u001b[38;5;124m\"\u001b[39m\n\u001b[1;32m    198\u001b[0m         \u001b[38;5;124m\"\u001b[39m\u001b[38;5;124m is not allowed as it is a security risk.\u001b[39m\u001b[38;5;124m\"\u001b[39m\n\u001b[1;32m    199\u001b[0m     )\n\u001b[0;32m--> 201\u001b[0m \u001b[43mSparkContext\u001b[49m\u001b[38;5;241;43m.\u001b[39;49m\u001b[43m_ensure_initialized\u001b[49m\u001b[43m(\u001b[49m\u001b[38;5;28;43mself\u001b[39;49m\u001b[43m,\u001b[49m\u001b[43m \u001b[49m\u001b[43mgateway\u001b[49m\u001b[38;5;241;43m=\u001b[39;49m\u001b[43mgateway\u001b[49m\u001b[43m,\u001b[49m\u001b[43m \u001b[49m\u001b[43mconf\u001b[49m\u001b[38;5;241;43m=\u001b[39;49m\u001b[43mconf\u001b[49m\u001b[43m)\u001b[49m\n\u001b[1;32m    202\u001b[0m \u001b[38;5;28;01mtry\u001b[39;00m:\n\u001b[1;32m    203\u001b[0m     \u001b[38;5;28mself\u001b[39m\u001b[38;5;241m.\u001b[39m_do_init(\n\u001b[1;32m    204\u001b[0m         master,\n\u001b[1;32m    205\u001b[0m         appName,\n\u001b[0;32m   (...)\u001b[0m\n\u001b[1;32m    215\u001b[0m         memory_profiler_cls,\n\u001b[1;32m    216\u001b[0m     )\n",
      "File \u001b[0;32m~/CS/CovidComparison/spark-3.5.3-bin-hadoop3/python/pyspark/context.py:449\u001b[0m, in \u001b[0;36mSparkContext._ensure_initialized\u001b[0;34m(cls, instance, gateway, conf)\u001b[0m\n\u001b[1;32m    446\u001b[0m     callsite \u001b[38;5;241m=\u001b[39m SparkContext\u001b[38;5;241m.\u001b[39m_active_spark_context\u001b[38;5;241m.\u001b[39m_callsite\n\u001b[1;32m    448\u001b[0m     \u001b[38;5;66;03m# Raise error if there is already a running Spark context\u001b[39;00m\n\u001b[0;32m--> 449\u001b[0m     \u001b[38;5;28;01mraise\u001b[39;00m \u001b[38;5;167;01mValueError\u001b[39;00m(\n\u001b[1;32m    450\u001b[0m         \u001b[38;5;124m\"\u001b[39m\u001b[38;5;124mCannot run multiple SparkContexts at once; \u001b[39m\u001b[38;5;124m\"\u001b[39m\n\u001b[1;32m    451\u001b[0m         \u001b[38;5;124m\"\u001b[39m\u001b[38;5;124mexisting SparkContext(app=\u001b[39m\u001b[38;5;132;01m%s\u001b[39;00m\u001b[38;5;124m, master=\u001b[39m\u001b[38;5;132;01m%s\u001b[39;00m\u001b[38;5;124m)\u001b[39m\u001b[38;5;124m\"\u001b[39m\n\u001b[1;32m    452\u001b[0m         \u001b[38;5;124m\"\u001b[39m\u001b[38;5;124m created by \u001b[39m\u001b[38;5;132;01m%s\u001b[39;00m\u001b[38;5;124m at \u001b[39m\u001b[38;5;132;01m%s\u001b[39;00m\u001b[38;5;124m:\u001b[39m\u001b[38;5;132;01m%s\u001b[39;00m\u001b[38;5;124m \u001b[39m\u001b[38;5;124m\"\u001b[39m\n\u001b[1;32m    453\u001b[0m         \u001b[38;5;241m%\u001b[39m (\n\u001b[1;32m    454\u001b[0m             currentAppName,\n\u001b[1;32m    455\u001b[0m             currentMaster,\n\u001b[1;32m    456\u001b[0m             callsite\u001b[38;5;241m.\u001b[39mfunction,\n\u001b[1;32m    457\u001b[0m             callsite\u001b[38;5;241m.\u001b[39mfile,\n\u001b[1;32m    458\u001b[0m             callsite\u001b[38;5;241m.\u001b[39mlinenum,\n\u001b[1;32m    459\u001b[0m         )\n\u001b[1;32m    460\u001b[0m     )\n\u001b[1;32m    461\u001b[0m \u001b[38;5;28;01melse\u001b[39;00m:\n\u001b[1;32m    462\u001b[0m     SparkContext\u001b[38;5;241m.\u001b[39m_active_spark_context \u001b[38;5;241m=\u001b[39m instance\n",
      "\u001b[0;31mValueError\u001b[0m: Cannot run multiple SparkContexts at once; existing SparkContext(app=pyspark-shell, master=local[*]) created by getOrCreate at /var/folders/91/t1fb1wxx11x5nxs1h30387tw0000gn/T/ipykernel_68216/3781185930.py:2 "
     ]
    }
   ],
   "source": [
    "from pyspark import SparkConf, SparkContext\n",
    "conf = SparkConf().setAppName(\"CSV Loader\").setMaster(\"local[*]\")\n",
    "sc = SparkContext(conf=conf)"
   ]
  },
  {
   "cell_type": "code",
   "execution_count": 10,
   "id": "f2895f54-39ef-4c95-89ab-6278eecf5041",
   "metadata": {},
   "outputs": [
    {
     "ename": "Py4JJavaError",
     "evalue": "An error occurred while calling o67.partitions.\n: org.apache.hadoop.mapred.InvalidInputException: Input path does not exist: file:/Users/duncanbeauchamp/CS/CovidComparison/path/to/reddit_comments.csv\n\tat org.apache.hadoop.mapred.FileInputFormat.singleThreadedListStatus(FileInputFormat.java:304)\n\tat org.apache.hadoop.mapred.FileInputFormat.listStatus(FileInputFormat.java:244)\n\tat org.apache.hadoop.mapred.FileInputFormat.getSplits(FileInputFormat.java:332)\n\tat org.apache.spark.rdd.HadoopRDD.getPartitions(HadoopRDD.scala:208)\n\tat org.apache.spark.rdd.RDD.$anonfun$partitions$2(RDD.scala:294)\n\tat scala.Option.getOrElse(Option.scala:189)\n\tat org.apache.spark.rdd.RDD.partitions(RDD.scala:290)\n\tat org.apache.spark.rdd.MapPartitionsRDD.getPartitions(MapPartitionsRDD.scala:49)\n\tat org.apache.spark.rdd.RDD.$anonfun$partitions$2(RDD.scala:294)\n\tat scala.Option.getOrElse(Option.scala:189)\n\tat org.apache.spark.rdd.RDD.partitions(RDD.scala:290)\n\tat org.apache.spark.api.java.JavaRDDLike.partitions(JavaRDDLike.scala:61)\n\tat org.apache.spark.api.java.JavaRDDLike.partitions$(JavaRDDLike.scala:61)\n\tat org.apache.spark.api.java.AbstractJavaRDDLike.partitions(JavaRDDLike.scala:45)\n\tat java.base/jdk.internal.reflect.NativeMethodAccessorImpl.invoke0(Native Method)\n\tat java.base/jdk.internal.reflect.NativeMethodAccessorImpl.invoke(NativeMethodAccessorImpl.java:75)\n\tat java.base/jdk.internal.reflect.DelegatingMethodAccessorImpl.invoke(DelegatingMethodAccessorImpl.java:52)\n\tat java.base/java.lang.reflect.Method.invoke(Method.java:580)\n\tat py4j.reflection.MethodInvoker.invoke(MethodInvoker.java:244)\n\tat py4j.reflection.ReflectionEngine.invoke(ReflectionEngine.java:374)\n\tat py4j.Gateway.invoke(Gateway.java:282)\n\tat py4j.commands.AbstractCommand.invokeMethod(AbstractCommand.java:132)\n\tat py4j.commands.CallCommand.execute(CallCommand.java:79)\n\tat py4j.ClientServerConnection.waitForCommands(ClientServerConnection.java:182)\n\tat py4j.ClientServerConnection.run(ClientServerConnection.java:106)\n\tat java.base/java.lang.Thread.run(Thread.java:1583)\nCaused by: java.io.IOException: Input path does not exist: file:/Users/duncanbeauchamp/CS/CovidComparison/path/to/reddit_comments.csv\n\tat org.apache.hadoop.mapred.FileInputFormat.singleThreadedListStatus(FileInputFormat.java:278)\n\t... 25 more\n",
     "output_type": "error",
     "traceback": [
      "\u001b[0;31m---------------------------------------------------------------------------\u001b[0m",
      "\u001b[0;31mPy4JJavaError\u001b[0m                             Traceback (most recent call last)",
      "Cell \u001b[0;32mIn[10], line 17\u001b[0m\n\u001b[1;32m     13\u001b[0m         \u001b[38;5;28;01mreturn\u001b[39;00m []  \u001b[38;5;66;03m# Return empty list to filter out later\u001b[39;00m\n\u001b[1;32m     15\u001b[0m rdd_parsed \u001b[38;5;241m=\u001b[39m rdd\u001b[38;5;241m.\u001b[39mmap(parse_csv_line)\u001b[38;5;241m.\u001b[39mfilter(\u001b[38;5;28;01mlambda\u001b[39;00m x: x)  \u001b[38;5;66;03m# Filter out empty lists\u001b[39;00m\n\u001b[0;32m---> 17\u001b[0m \u001b[38;5;28mprint\u001b[39m(\u001b[43mrdd_parsed\u001b[49m\u001b[38;5;241;43m.\u001b[39;49m\u001b[43mtake\u001b[49m\u001b[43m(\u001b[49m\u001b[38;5;241;43m5\u001b[39;49m\u001b[43m)\u001b[49m)  \u001b[38;5;66;03m# Check the first 5 rows\u001b[39;00m\n",
      "File \u001b[0;32m~/CS/CovidComparison/spark-3.5.3-bin-hadoop3/python/pyspark/rdd.py:2822\u001b[0m, in \u001b[0;36mRDD.take\u001b[0;34m(self, num)\u001b[0m\n\u001b[1;32m   2781\u001b[0m \u001b[38;5;250m\u001b[39m\u001b[38;5;124;03m\"\"\"\u001b[39;00m\n\u001b[1;32m   2782\u001b[0m \u001b[38;5;124;03mTake the first num elements of the RDD.\u001b[39;00m\n\u001b[1;32m   2783\u001b[0m \n\u001b[0;32m   (...)\u001b[0m\n\u001b[1;32m   2819\u001b[0m \u001b[38;5;124;03m[91, 92, 93]\u001b[39;00m\n\u001b[1;32m   2820\u001b[0m \u001b[38;5;124;03m\"\"\"\u001b[39;00m\n\u001b[1;32m   2821\u001b[0m items: List[T] \u001b[38;5;241m=\u001b[39m []\n\u001b[0;32m-> 2822\u001b[0m totalParts \u001b[38;5;241m=\u001b[39m \u001b[38;5;28;43mself\u001b[39;49m\u001b[38;5;241;43m.\u001b[39;49m\u001b[43mgetNumPartitions\u001b[49m\u001b[43m(\u001b[49m\u001b[43m)\u001b[49m\n\u001b[1;32m   2823\u001b[0m partsScanned \u001b[38;5;241m=\u001b[39m \u001b[38;5;241m0\u001b[39m\n\u001b[1;32m   2825\u001b[0m \u001b[38;5;28;01mwhile\u001b[39;00m \u001b[38;5;28mlen\u001b[39m(items) \u001b[38;5;241m<\u001b[39m num \u001b[38;5;129;01mand\u001b[39;00m partsScanned \u001b[38;5;241m<\u001b[39m totalParts:\n\u001b[1;32m   2826\u001b[0m     \u001b[38;5;66;03m# The number of partitions to try in this iteration.\u001b[39;00m\n\u001b[1;32m   2827\u001b[0m     \u001b[38;5;66;03m# It is ok for this number to be greater than totalParts because\u001b[39;00m\n\u001b[1;32m   2828\u001b[0m     \u001b[38;5;66;03m# we actually cap it at totalParts in runJob.\u001b[39;00m\n",
      "File \u001b[0;32m~/CS/CovidComparison/spark-3.5.3-bin-hadoop3/python/pyspark/rdd.py:5453\u001b[0m, in \u001b[0;36mPipelinedRDD.getNumPartitions\u001b[0;34m(self)\u001b[0m\n\u001b[1;32m   5452\u001b[0m \u001b[38;5;28;01mdef\u001b[39;00m\u001b[38;5;250m \u001b[39m\u001b[38;5;21mgetNumPartitions\u001b[39m(\u001b[38;5;28mself\u001b[39m) \u001b[38;5;241m-\u001b[39m\u001b[38;5;241m>\u001b[39m \u001b[38;5;28mint\u001b[39m:\n\u001b[0;32m-> 5453\u001b[0m     \u001b[38;5;28;01mreturn\u001b[39;00m \u001b[38;5;28;43mself\u001b[39;49m\u001b[38;5;241;43m.\u001b[39;49m\u001b[43m_prev_jrdd\u001b[49m\u001b[38;5;241;43m.\u001b[39;49m\u001b[43mpartitions\u001b[49m\u001b[43m(\u001b[49m\u001b[43m)\u001b[49m\u001b[38;5;241m.\u001b[39msize()\n",
      "File \u001b[0;32mspark-3.5.3-bin-hadoop3/python/lib/py4j-0.10.9.7-src.zip/py4j/java_gateway.py:1322\u001b[0m, in \u001b[0;36mJavaMember.__call__\u001b[0;34m(self, *args)\u001b[0m\n\u001b[1;32m   1316\u001b[0m command \u001b[38;5;241m=\u001b[39m proto\u001b[38;5;241m.\u001b[39mCALL_COMMAND_NAME \u001b[38;5;241m+\u001b[39m\\\n\u001b[1;32m   1317\u001b[0m     \u001b[38;5;28mself\u001b[39m\u001b[38;5;241m.\u001b[39mcommand_header \u001b[38;5;241m+\u001b[39m\\\n\u001b[1;32m   1318\u001b[0m     args_command \u001b[38;5;241m+\u001b[39m\\\n\u001b[1;32m   1319\u001b[0m     proto\u001b[38;5;241m.\u001b[39mEND_COMMAND_PART\n\u001b[1;32m   1321\u001b[0m answer \u001b[38;5;241m=\u001b[39m \u001b[38;5;28mself\u001b[39m\u001b[38;5;241m.\u001b[39mgateway_client\u001b[38;5;241m.\u001b[39msend_command(command)\n\u001b[0;32m-> 1322\u001b[0m return_value \u001b[38;5;241m=\u001b[39m \u001b[43mget_return_value\u001b[49m\u001b[43m(\u001b[49m\n\u001b[1;32m   1323\u001b[0m \u001b[43m    \u001b[49m\u001b[43manswer\u001b[49m\u001b[43m,\u001b[49m\u001b[43m \u001b[49m\u001b[38;5;28;43mself\u001b[39;49m\u001b[38;5;241;43m.\u001b[39;49m\u001b[43mgateway_client\u001b[49m\u001b[43m,\u001b[49m\u001b[43m \u001b[49m\u001b[38;5;28;43mself\u001b[39;49m\u001b[38;5;241;43m.\u001b[39;49m\u001b[43mtarget_id\u001b[49m\u001b[43m,\u001b[49m\u001b[43m \u001b[49m\u001b[38;5;28;43mself\u001b[39;49m\u001b[38;5;241;43m.\u001b[39;49m\u001b[43mname\u001b[49m\u001b[43m)\u001b[49m\n\u001b[1;32m   1325\u001b[0m \u001b[38;5;28;01mfor\u001b[39;00m temp_arg \u001b[38;5;129;01min\u001b[39;00m temp_args:\n\u001b[1;32m   1326\u001b[0m     \u001b[38;5;28;01mif\u001b[39;00m \u001b[38;5;28mhasattr\u001b[39m(temp_arg, \u001b[38;5;124m\"\u001b[39m\u001b[38;5;124m_detach\u001b[39m\u001b[38;5;124m\"\u001b[39m):\n",
      "File \u001b[0;32mspark-3.5.3-bin-hadoop3/python/lib/py4j-0.10.9.7-src.zip/py4j/protocol.py:326\u001b[0m, in \u001b[0;36mget_return_value\u001b[0;34m(answer, gateway_client, target_id, name)\u001b[0m\n\u001b[1;32m    324\u001b[0m value \u001b[38;5;241m=\u001b[39m OUTPUT_CONVERTER[\u001b[38;5;28mtype\u001b[39m](answer[\u001b[38;5;241m2\u001b[39m:], gateway_client)\n\u001b[1;32m    325\u001b[0m \u001b[38;5;28;01mif\u001b[39;00m answer[\u001b[38;5;241m1\u001b[39m] \u001b[38;5;241m==\u001b[39m REFERENCE_TYPE:\n\u001b[0;32m--> 326\u001b[0m     \u001b[38;5;28;01mraise\u001b[39;00m Py4JJavaError(\n\u001b[1;32m    327\u001b[0m         \u001b[38;5;124m\"\u001b[39m\u001b[38;5;124mAn error occurred while calling \u001b[39m\u001b[38;5;132;01m{0}\u001b[39;00m\u001b[38;5;132;01m{1}\u001b[39;00m\u001b[38;5;132;01m{2}\u001b[39;00m\u001b[38;5;124m.\u001b[39m\u001b[38;5;130;01m\\n\u001b[39;00m\u001b[38;5;124m\"\u001b[39m\u001b[38;5;241m.\u001b[39m\n\u001b[1;32m    328\u001b[0m         \u001b[38;5;28mformat\u001b[39m(target_id, \u001b[38;5;124m\"\u001b[39m\u001b[38;5;124m.\u001b[39m\u001b[38;5;124m\"\u001b[39m, name), value)\n\u001b[1;32m    329\u001b[0m \u001b[38;5;28;01melse\u001b[39;00m:\n\u001b[1;32m    330\u001b[0m     \u001b[38;5;28;01mraise\u001b[39;00m Py4JError(\n\u001b[1;32m    331\u001b[0m         \u001b[38;5;124m\"\u001b[39m\u001b[38;5;124mAn error occurred while calling \u001b[39m\u001b[38;5;132;01m{0}\u001b[39;00m\u001b[38;5;132;01m{1}\u001b[39;00m\u001b[38;5;132;01m{2}\u001b[39;00m\u001b[38;5;124m. Trace:\u001b[39m\u001b[38;5;130;01m\\n\u001b[39;00m\u001b[38;5;132;01m{3}\u001b[39;00m\u001b[38;5;130;01m\\n\u001b[39;00m\u001b[38;5;124m\"\u001b[39m\u001b[38;5;241m.\u001b[39m\n\u001b[1;32m    332\u001b[0m         \u001b[38;5;28mformat\u001b[39m(target_id, \u001b[38;5;124m\"\u001b[39m\u001b[38;5;124m.\u001b[39m\u001b[38;5;124m\"\u001b[39m, name, value))\n",
      "\u001b[0;31mPy4JJavaError\u001b[0m: An error occurred while calling o67.partitions.\n: org.apache.hadoop.mapred.InvalidInputException: Input path does not exist: file:/Users/duncanbeauchamp/CS/CovidComparison/path/to/reddit_comments.csv\n\tat org.apache.hadoop.mapred.FileInputFormat.singleThreadedListStatus(FileInputFormat.java:304)\n\tat org.apache.hadoop.mapred.FileInputFormat.listStatus(FileInputFormat.java:244)\n\tat org.apache.hadoop.mapred.FileInputFormat.getSplits(FileInputFormat.java:332)\n\tat org.apache.spark.rdd.HadoopRDD.getPartitions(HadoopRDD.scala:208)\n\tat org.apache.spark.rdd.RDD.$anonfun$partitions$2(RDD.scala:294)\n\tat scala.Option.getOrElse(Option.scala:189)\n\tat org.apache.spark.rdd.RDD.partitions(RDD.scala:290)\n\tat org.apache.spark.rdd.MapPartitionsRDD.getPartitions(MapPartitionsRDD.scala:49)\n\tat org.apache.spark.rdd.RDD.$anonfun$partitions$2(RDD.scala:294)\n\tat scala.Option.getOrElse(Option.scala:189)\n\tat org.apache.spark.rdd.RDD.partitions(RDD.scala:290)\n\tat org.apache.spark.api.java.JavaRDDLike.partitions(JavaRDDLike.scala:61)\n\tat org.apache.spark.api.java.JavaRDDLike.partitions$(JavaRDDLike.scala:61)\n\tat org.apache.spark.api.java.AbstractJavaRDDLike.partitions(JavaRDDLike.scala:45)\n\tat java.base/jdk.internal.reflect.NativeMethodAccessorImpl.invoke0(Native Method)\n\tat java.base/jdk.internal.reflect.NativeMethodAccessorImpl.invoke(NativeMethodAccessorImpl.java:75)\n\tat java.base/jdk.internal.reflect.DelegatingMethodAccessorImpl.invoke(DelegatingMethodAccessorImpl.java:52)\n\tat java.base/java.lang.reflect.Method.invoke(Method.java:580)\n\tat py4j.reflection.MethodInvoker.invoke(MethodInvoker.java:244)\n\tat py4j.reflection.ReflectionEngine.invoke(ReflectionEngine.java:374)\n\tat py4j.Gateway.invoke(Gateway.java:282)\n\tat py4j.commands.AbstractCommand.invokeMethod(AbstractCommand.java:132)\n\tat py4j.commands.CallCommand.execute(CallCommand.java:79)\n\tat py4j.ClientServerConnection.waitForCommands(ClientServerConnection.java:182)\n\tat py4j.ClientServerConnection.run(ClientServerConnection.java:106)\n\tat java.base/java.lang.Thread.run(Thread.java:1583)\nCaused by: java.io.IOException: Input path does not exist: file:/Users/duncanbeauchamp/CS/CovidComparison/path/to/reddit_comments.csv\n\tat org.apache.hadoop.mapred.FileInputFormat.singleThreadedListStatus(FileInputFormat.java:278)\n\t... 25 more\n"
     ]
    }
   ],
   "source": [
    "df = spark.read.csv(\"reddit_comments.csv\", header=True, inferSchema=True, multiLine=True, escape='\"')\n",
    "\n",
    "\n",
    "def parse_csv_line(line):\n",
    "    import csv\n",
    "    from io import StringIO\n",
    "\n",
    "    try:\n",
    "        reader = csv.reader(StringIO(line))\n",
    "        parsed = next(reader, None)  # Use default `None` to avoid StopIteration\n",
    "        return parsed if parsed else []  # Return empty list instead of None\n",
    "    except Exception as e:\n",
    "        print(f\"Error parsing line: {line}, Error: {e}\")\n",
    "        return []  # Return empty list to filter out later\n",
    "\n",
    "rdd_parsed = rdd.map(parse_csv_line).filter(lambda x: x)  # Filter out empty lists\n",
    "\n",
    "print(rdd_parsed.take(5))  # Check the first 5 rows"
   ]
  },
  {
   "cell_type": "code",
   "execution_count": null,
   "id": "089ecb5d-831d-4eae-a82d-5a54e557aee4",
   "metadata": {},
   "outputs": [],
   "source": []
  },
  {
   "cell_type": "code",
   "execution_count": 6,
   "id": "92fcbac4-52c4-4661-8150-b6821a495d7f",
   "metadata": {},
   "outputs": [
    {
     "data": {
      "text/plain": [
       "['id,subreddit.name,created_utc,body,score',\n",
       " 'hi1vsag,nova,1635206399,When you scheduled your booster with CVS does it just give you the option of Vaccines: COVID-19 (Vaccine brand) or does it specifically say booster,2',\n",
       " 'hi1vs7i,vancouver,1635206397,\"Didn\\'t stop prices there though. New Zealand and Canada grew at about the same rate through COVID. ',\n",
       " '',\n",
       " 'I agree that non-resident ownership should be stopped, but it\\'s also probably not going to change anything.\",32']"
      ]
     },
     "execution_count": 6,
     "metadata": {},
     "output_type": "execute_result"
    }
   ],
   "source": [
    "small_reddit.take(5)"
   ]
  },
  {
   "cell_type": "code",
   "execution_count": 7,
   "id": "14f4e546-8d1a-42c3-840d-f2f125672153",
   "metadata": {},
   "outputs": [
    {
     "name": "stdout",
     "output_type": "stream",
     "text": [
      "+-------+--------------------+-----------+--------------------+-----+\n",
      "|     id|      subreddit.name|created_utc|                body|score|\n",
      "+-------+--------------------+-----------+--------------------+-----+\n",
      "|hi1vsag|                nova| 1635206399|When you schedule...|    2|\n",
      "|hi1vs7i|           vancouver| 1635206397|Didn't stop price...|   32|\n",
      "|hi1vs5n|            pregnant| 1635206397|I’m just waiting ...|    1|\n",
      "|hi1vs5v|            startrek| 1635206397|*The first duty o...|    1|\n",
      "|hi1vs0l|             ontario| 1635206395|Compare BC to Ont...|   -2|\n",
      "|hi1vrtk|       entertainment| 1635206393|Sheeran didn't me...|    2|\n",
      "|hi1vrsk|          conspiracy| 1635206392|I see a lot of po...|    1|\n",
      "|hi1vrnr|  lockdownskepticism| 1635206391|And think about h...|   29|\n",
      "|hi1vrpy|                nova| 1635206391|Unfortunately the...|    2|\n",
      "|hi1vrou|         antivaxxers| 1635206391|I don’t know anyo...|    1|\n",
      "|hi1vrg2|          conspiracy| 1635206388|BS. Not a fear ca...|    1|\n",
      "|hi1vre5|      torontoraptors| 1635206387|Idk if they have ...|    3|\n",
      "|hi1vqzm|               rvvtf| 1635206382|In terms of enrol...|    9|\n",
      "|hi1vqy4|personalfinanceca...| 1635206381|I got some crappy...|    2|\n",
      "|hi1vqh5|             economy| 1635206375|Pretty sure the e...|    1|\n",
      "|hi1vq9t|         redscarepod| 1635206372|Lol it’s kinda fu...|    6|\n",
      "|hi1vq39|               korea| 1635206370|It's racist in th...|    9|\n",
      "|hi1vput|             alberta| 1635206367|When it comes to ...|    0|\n",
      "|hi1vpm3|       beyondthebump| 1635206364|Any other kids I ...|    1|\n",
      "|hi1voyk|          ukpolitics| 1635206355|It's the deadlies...|    1|\n",
      "+-------+--------------------+-----------+--------------------+-----+\n",
      "only showing top 20 rows\n",
      "\n"
     ]
    }
   ],
   "source": [
    "reddit_df = spark.read.csv(\"small_reddit.csv\", header=True, inferSchema=True, multiLine=True, escape='\"')\n",
    "\n",
    "reddit_df.show()\n"
   ]
  },
  {
   "cell_type": "code",
   "execution_count": 13,
   "id": "58a4b9c6-c3c6-47e6-96a3-2f3554121e42",
   "metadata": {},
   "outputs": [
    {
     "data": {
      "text/plain": [
       "[Row(id='hi1vsag', subreddit.name='nova', created_utc=1635206399, body='When you scheduled your booster with CVS does it just give you the option of Vaccines: COVID-19 (Vaccine brand) or does it specifically say booster', score=2),\n",
       " Row(id='hi1vs7i', subreddit.name='vancouver', created_utc=1635206397, body=\"Didn't stop prices there though. New Zealand and Canada grew at about the same rate through COVID.   I agree that non-resident ownership should be stopped, but it's also probably not going to change anything.\", score=32)]"
      ]
     },
     "execution_count": 13,
     "metadata": {},
     "output_type": "execute_result"
    }
   ],
   "source": [
    "from pyspark.sql.functions import regexp_replace\n",
    "\n",
    "# Assume df is your DataFrame with a \"comment\" column containing newlines\n",
    "reddit_df_cleaned = reddit_df.withColumn(\"body\", regexp_replace(\"body\", \"[\\r\\n]\", \" \"))\n",
    "\n",
    "reddit_df_cleaned.take(2)\n"
   ]
  },
  {
   "cell_type": "code",
   "execution_count": 16,
   "id": "8459667b-01fa-4513-9de1-63d3bb7d8077",
   "metadata": {},
   "outputs": [],
   "source": [
    "df_cleaned.coalesce(1).write.csv(\"./test\", header=True)"
   ]
  },
  {
   "cell_type": "code",
   "execution_count": null,
   "id": "21f0bca2-14cd-4f20-94ad-118dc61acaca",
   "metadata": {},
   "outputs": [],
   "source": []
  },
  {
   "cell_type": "code",
   "execution_count": 17,
   "id": "7268d0c9-d16f-45c6-83fa-95103fdebedf",
   "metadata": {},
   "outputs": [
    {
     "name": "stdout",
     "output_type": "stream",
     "text": [
      "+-------------------+-------------------+---------------+--------------------+----+--------------------+-------------+--------------------+------------+---------------+--------+\n",
      "|          status_id|         created_at|    screen_name|                text|lang|              source|retweet_count|reply_to_screen_name|country_code|followers_count|verified|\n",
      "+-------------------+-------------------+---------------+--------------------+----+--------------------+-------------+--------------------+------------+---------------+--------+\n",
      "|1244051646071611394|2020-03-29 00:00:00|   IMSS_SanLuis|Ante cualquier en...|  es|           TweetDeck|            0|                NULL|        NULL|           1008|   false|\n",
      "|1244051645039706112|2020-03-29 00:00:00|     intrac_ccs|#ATENCIÓN En el T...|  es|           TweetDeck|            1|                NULL|        NULL|             90|   false|\n",
      "|1244051645975191557|2020-03-29 00:00:00|       rlieving|“People are just ...|  en|           TweetDeck|            0|                NULL|        NULL|            136|   false|\n",
      "|1244051646750928897|2020-03-29 00:00:00|   Tu_IMSS_Coah|Si empezaste a tr...|  es|           TweetDeck|            0|                NULL|        NULL|           1549|   false|\n",
      "|1244051647032102914|2020-03-29 00:00:00|   Tabasco_IMSS|Una sociedad info...|  es|           TweetDeck|            0|                NULL|        NULL|            868|   false|\n",
      "|1244051645710897155|2020-03-29 00:00:00|      SSalud_mx|¡#Infórmate! #Con...|  es|           TweetDeck|           49|                NULL|        NULL|         812318|    true|\n",
      "|1244051646935633921|2020-03-29 00:00:00|AmerMedicalAssn|.@PatriceHarrisMD...|  en|            Sprinklr|            3|                NULL|        NULL|         714952|    true|\n",
      "|1244051645971025920|2020-03-29 00:00:00|   CGTNOfficial|First medical tea...|  en|Twitter Media Studio|           18|                NULL|        NULL|       14040072|    true|\n",
      "|1244051647149543426|2020-03-29 00:00:00|       OnTopMag|.@KathyGriffin: @...|  en|Twitter for Adver...|            1|                NULL|        NULL|           5042|   false|\n",
      "|1244051645039693824|2020-03-29 00:00:00|ContraReplicaMX|A pesar de la con...|  es|           TweetDeck|            0|                NULL|        NULL|          13287|   false|\n",
      "|1244051646469947399|2020-03-29 00:00:00|        SSC_Pue|Ya sea a pie, en ...|  es|           TweetDeck|            3|                NULL|        NULL|         297013|   false|\n",
      "|1244051645098528768|2020-03-29 00:00:00|        uri_911|#VEN911Oficial | ...|  es|           TweetDeck|            0|                NULL|        NULL|             66|   false|\n",
      "|1244051646113443841|2020-03-29 00:00:00|     SecAytoPue|¿Qué es el corona...|  es|           TweetDeck|            0|                NULL|        NULL|           2251|   false|\n",
      "|1244051645102579712|2020-03-29 00:00:00|       livemint|#CoronaUpdate | J...|  en|           TweetDeck|            2|                NULL|        NULL|        1862858|    true|\n",
      "|1244051647329779713|2020-03-29 00:00:00|    DiarioLibre|| #Coronavirus | ...|  es|           TweetDeck|           12|                NULL|        NULL|        1185042|    true|\n",
      "|1244051646415425536|2020-03-29 00:00:00|  lahoraecuador|Debido a la emerg...|  es|           TweetDeck|           19|                NULL|        NULL|         534729|   false|\n",
      "|1244051647418044418|2020-03-29 00:00:00|     ABSCBNNews|Singapore donates...|  en|           TweetDeck|          840|                NULL|        NULL|        6767144|    true|\n",
      "|1244051645111074817|2020-03-29 00:00:00|    RadioNLNews|It's been a remar...|  en|           TweetDeck|            0|                NULL|        NULL|           6929|   false|\n",
      "|1244051645165600768|2020-03-29 00:00:00|ElSoldeSinaloa_|#PorSiNoLoViste\\n...|  es|           TweetDeck|            0|                NULL|        NULL|           2794|   false|\n",
      "|1244051645153116161|2020-03-29 00:00:00|  techreview_es|#LoMásLeídoMarzo ...|  es|           TweetDeck|           12|                NULL|        NULL|          27514|    true|\n",
      "+-------------------+-------------------+---------------+--------------------+----+--------------------+-------------+--------------------+------------+---------------+--------+\n",
      "only showing top 20 rows\n",
      "\n"
     ]
    }
   ],
   "source": [
    "twitter_df = spark.read.csv(\"small_twitter.csv\", header=True, inferSchema=True, multiLine=True, escape='\"')\n",
    "\n",
    "twitter_df.show()"
   ]
  },
  {
   "cell_type": "code",
   "execution_count": 20,
   "id": "8698bfc7-8ecd-4029-b011-b5d86868a149",
   "metadata": {},
   "outputs": [
    {
     "data": {
      "text/plain": [
       "[Row(status_id=1244051646071611394, created_at=datetime.datetime(2020, 3, 29, 0, 0), screen_name='IMSS_SanLuis', text='Ante cualquier enfermedad respiratoria, no te automediques. #PrevenciónCoronavirus #Coronavirus #COVID19 https://t.co/IgB2izYi1p', lang='es', source='TweetDeck', retweet_count=0, reply_to_screen_name=None, country_code=None, followers_count=1008, verified=False),\n",
       " Row(status_id=1244051645039706112, created_at=datetime.datetime(2020, 3, 29, 0, 0), screen_name='intrac_ccs', text='#ATENCIÓN En el Terminal Nuevo Circo se implementan medidas como el uso de la mascarilla por parte de usuari@s y conductores que hacen vida en dichas instalaciones, parte de los esfuerzos unificados para impedir la propagación del #Coronavirus #28Marzo @NicolasMaduro  @ErikaPSUV https://t.co/yD8g0EAcQz', lang='es', source='TweetDeck', retweet_count=1, reply_to_screen_name=None, country_code=None, followers_count=90, verified=False)]"
      ]
     },
     "execution_count": 20,
     "metadata": {},
     "output_type": "execute_result"
    }
   ],
   "source": [
    "twitter_df_cleaned = twitter_df.withColumn(\"text\", regexp_replace(\"text\", \"[\\r\\n]\", \" \"))\n",
    "\n",
    "twitter_df_cleaned.take(2)"
   ]
  },
  {
   "cell_type": "code",
   "execution_count": 23,
   "id": "23d2fa13-98f0-46c6-a3a8-7efe22fb7e3f",
   "metadata": {},
   "outputs": [],
   "source": [
    "twitter_df_cleaned.coalesce(1).write.csv(\"./twitter_test\", header=True)"
   ]
  },
  {
   "cell_type": "code",
   "execution_count": null,
   "id": "517fc88b-2d5b-4506-b000-03fbb1ffaf25",
   "metadata": {},
   "outputs": [],
   "source": []
  }
 ],
 "metadata": {
  "kernelspec": {
   "display_name": "Python 3 (ipykernel)",
   "language": "python",
   "name": "python3"
  },
  "language_info": {
   "codemirror_mode": {
    "name": "ipython",
    "version": 3
   },
   "file_extension": ".py",
   "mimetype": "text/x-python",
   "name": "python",
   "nbconvert_exporter": "python",
   "pygments_lexer": "ipython3",
   "version": "3.12.4"
  }
 },
 "nbformat": 4,
 "nbformat_minor": 5
}
