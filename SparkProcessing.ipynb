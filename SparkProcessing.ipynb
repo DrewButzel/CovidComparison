{
 "cells": [
  {
   "cell_type": "code",
   "execution_count": 1,
   "id": "2d22d375-3c93-4073-b593-2855d6a076d6",
   "metadata": {},
   "outputs": [],
   "source": [
    "import os\n",
    "os.environ[\"JAVA_HOME\"] = \"/Library/Java/JavaVirtualMachines/jdk-21.jdk/Contents/Home\"\n",
    "os.environ[\"SPARK_HOME\"] = \"spark-3.5.3-bin-hadoop3\""
   ]
  },
  {
   "cell_type": "code",
   "execution_count": 2,
   "id": "076211cf-f8e1-4c29-be12-06ac5a0e2dda",
   "metadata": {},
   "outputs": [],
   "source": [
    "import findspark\n",
    "findspark.init()"
   ]
  },
  {
   "cell_type": "code",
   "execution_count": 3,
   "id": "d52beb97-fd0f-43ce-b52f-8030a04f0fe1",
   "metadata": {},
   "outputs": [
    {
     "name": "stdout",
     "output_type": "stream",
     "text": [
      "8\n"
     ]
    }
   ],
   "source": [
    "import multiprocessing\n",
    "print(multiprocessing.cpu_count())"
   ]
  },
  {
   "cell_type": "code",
   "execution_count": 4,
   "id": "b6a64a7c-9eb2-49ae-80e4-7314696a21e5",
   "metadata": {},
   "outputs": [
    {
     "name": "stderr",
     "output_type": "stream",
     "text": [
      "25/03/20 15:59:55 WARN Utils: Your hostname, Duncans-MacBook-Air.local resolves to a loopback address: 127.0.0.1; using 172.18.95.63 instead (on interface en0)\n",
      "25/03/20 15:59:55 WARN Utils: Set SPARK_LOCAL_IP if you need to bind to another address\n",
      "Setting default log level to \"WARN\".\n",
      "To adjust logging level use sc.setLogLevel(newLevel). For SparkR, use setLogLevel(newLevel).\n",
      "25/03/20 15:59:55 WARN NativeCodeLoader: Unable to load native-hadoop library for your platform... using builtin-java classes where applicable\n",
      "25/03/20 15:59:55 WARN Utils: Service 'SparkUI' could not bind on port 4040. Attempting port 4041.\n"
     ]
    }
   ],
   "source": [
    "from pyspark.sql import SparkSession\n",
    "\n",
    "spark = SparkSession.builder \\\n",
    "    .appName(\"CSV Loader\") \\\n",
    "    .master(\"local[*]\") \\\n",
    "    .getOrCreate()\n",
    "\n",
    "sc = spark.sparkContext  # Get the existing SparkContext"
   ]
  },
  {
   "cell_type": "code",
   "execution_count": 14,
   "id": "044ccb8f-e7f4-4edf-a595-dda5a327a153",
   "metadata": {},
   "outputs": [
    {
     "name": "stdout",
     "output_type": "stream",
     "text": [
      "CPU times: user 2.5 ms, sys: 4.1 ms, total: 6.6 ms\n",
      "Wall time: 307 ms\n"
     ]
    }
   ],
   "source": [
    "%%time\n",
    "#removing header\n",
    "reddit_rdd = sc.textFile(\"reddit_full_cleaned/reddit_full.csv\")\n",
    "header=reddit_rdd.first()\n",
    "reddit_rdd=reddit_rdd.filter(lambda row : row!= header)"
   ]
  },
  {
   "cell_type": "code",
   "execution_count": 15,
   "id": "88fd375f-547a-4151-a5af-e8897bf287a9",
   "metadata": {
    "jupyter": {
     "source_hidden": true
    }
   },
   "outputs": [
    {
     "name": "stdout",
     "output_type": "stream",
     "text": [
      "CPU times: user 10.9 ms, sys: 4.67 ms, total: 15.6 ms\n",
      "Wall time: 17.1 ms\n"
     ]
    }
   ],
   "source": [
    "%%time\n",
    "pos_words_en=set()\n",
    "neg_words_en=set()\n",
    "pos_words_es=set()\n",
    "neg_words_es=set()\n",
    "pos_words_fr=set()\n",
    "neg_words_fr=set()\n",
    "pos_words_tr=set()\n",
    "neg_words_tr=set()\n",
    "pos_words_it=set()\n",
    "neg_words_it=set()\n",
    "\n",
    "with open('sentiment_txts/positive_words_en.txt','r') as file:\n",
    "    for line in file:\n",
    "        pos_words_en.add(line.strip())\n",
    "with open('sentiment_txts/negative_words_en.txt','r',encoding='latin-1') as file:\n",
    "    for line in file:\n",
    "        neg_words_en.add(line.strip())\n",
    "with open('sentiment_txts/positive_words_es.txt','r') as file:\n",
    "    for line in file:\n",
    "        pos_words_es.add(line.strip())\n",
    "with open('sentiment_txts/negative_words_es.txt','r',encoding='latin-1') as file:\n",
    "    for line in file:\n",
    "        neg_words_es.add(line.strip())\n",
    "with open('sentiment_txts/positive_words_fr.txt','r') as file:\n",
    "    for line in file:\n",
    "        pos_words_fr.add(line.strip())\n",
    "with open('sentiment_txts/negative_words_fr.txt','r',encoding='latin-1') as file:\n",
    "    for line in file:\n",
    "        neg_words_fr.add(line.strip())\n",
    "with open('sentiment_txts/positive_words_tr.txt','r') as file:\n",
    "    for line in file:\n",
    "        pos_words_tr.add(line.strip())\n",
    "with open('sentiment_txts/negative_words_tr.txt','r',encoding='latin-1') as file:\n",
    "    for line in file:\n",
    "        neg_words_tr.add(line.strip())\n",
    "with open('sentiment_txts/positive_words_it.txt','r') as file:\n",
    "    for line in file:\n",
    "        pos_words_it.add(line.strip())\n",
    "with open('sentiment_txts/negative_words_it.txt','r',encoding='latin-1') as file:\n",
    "    for line in file:\n",
    "        neg_words_it.add(line.strip())"
   ]
  },
  {
   "cell_type": "code",
   "execution_count": 50,
   "id": "11b50eb5-80e3-422a-873a-f3491da911c6",
   "metadata": {
    "collapsed": true,
    "jupyter": {
     "outputs_hidden": true
    },
    "scrolled": true
   },
   "outputs": [
    {
     "data": {
      "text/plain": [
       "['hi1vsag,When you scheduled your booster with CVS does it just give you the option of Vaccines: COVID-19 (Vaccine brand) or does it specifically say booster',\n",
       " 'hi1vs7i,\"Didn\\'t stop prices there though. New Zealand and Canada grew at about the same rate through COVID.   I agree that non-resident ownership should be stopped, but it\\'s also probably not going to change anything.\"',\n",
       " 'hi1vs5n,I’m just waiting until after pregnancy to get vaccinated.  I have a special needs daughter due to having fever during pregnancy and I’m not willing to risk the vaccine fever right now. I have strong antibodies from Covid that I had before I got pregnant. (I keep taking blood tests to check) There’s a difference between anti vaccine and deciding to wait based on different factors',\n",
       " 'hi1vs5v,\"*The first duty of every Starfleet officer is to the truth. Whether it\\'s scientific truth, or historical truth, or personal truth. It is the guiding principle upon which Starfleet is based. If you can\\'t find it within yourself to stand up and tell the truth about what happened you don\\'t deserve to wear that uniform.*  [Captain Jean-Luc Picard, \\\\\"The First Duty\\\\\"](https://www.youtube.com/watch?v=xefh7W1nVo4)  Reddit admins have been [ineffectual in their response to COVID-19 misinformation](https://www.dailydot.com/debug/subreddits-private-protest-covid-disinformation-reddit/). In lieu of Reddit gold and awards, we ask that you donate to the [WHO COVID-19 response fund](https://www.who.int/emergencies/diseases/novel-coronavirus-2019/donate).  Please respect our [subreddit rules](https://www.reddit.com/r/startrek/wiki/guidelines). LLAP!  *I am a bot, and this action was performed automatically. Please [contact the moderators of this subreddit](/message/compose/?to=/r/startrek) if you have any questions or concerns.*\"',\n",
       " 'hi1vs0l,\"Compare BC to Ontario for COVID. It\\'s even more striking how anti-mask, anti-vaccine that the NDP BC government is.\"']"
      ]
     },
     "execution_count": 50,
     "metadata": {},
     "output_type": "execute_result"
    }
   ],
   "source": [
    "reddit_rdd.take(5)"
   ]
  },
  {
   "cell_type": "code",
   "execution_count": 16,
   "id": "1abfdff5-1c56-4ff8-88cd-3d47cbfeb3f3",
   "metadata": {},
   "outputs": [],
   "source": [
    "import re\n",
    "#input: line of rdd, output: list of (id,word) pairs for each cleaned word in text\n",
    "def reddit_id_word_pair(line):\n",
    "    id, text = line.split(\",\",1) \n",
    "    cleaned_text=re.sub(r'[^a-zA-Z\\s]','',text.strip()).lower()\n",
    "    return [(id,word) for word in re.split(r'\\s+',cleaned_text)]"
   ]
  },
  {
   "cell_type": "code",
   "execution_count": 17,
   "id": "2eb23344-5f32-4188-b6f8-42bc2a95b6a7",
   "metadata": {},
   "outputs": [],
   "source": [
    "def reddit_word_to_sentiment(pair):\n",
    "    id, word = pair\n",
    "    score=0\n",
    "    if word in pos_words_en:\n",
    "        score+= 1\n",
    "    if word in neg_words_en:\n",
    "        score-=1\n",
    "    return id, score"
   ]
  },
  {
   "cell_type": "code",
   "execution_count": 18,
   "id": "6bd4648b-8a44-49b3-85f6-994be55630c2",
   "metadata": {},
   "outputs": [
    {
     "name": "stdout",
     "output_type": "stream",
     "text": [
      "CPU times: user 5.02 ms, sys: 6.2 ms, total: 11.2 ms\n",
      "Wall time: 42 ms\n"
     ]
    }
   ],
   "source": [
    "%%time\n",
    "#MapReduce\n",
    "reddit_id_word_pair_rdd=reddit_rdd.flatMap(reddit_id_word_pair)\n",
    "reddit_sentiment_pair_rdd=reddit_id_word_pair_rdd.map(reddit_word_to_sentiment)\n",
    "reddit_comment_scores=reddit_sentiment_pair_rdd.reduceByKey(lambda x,y: x+y)"
   ]
  },
  {
   "cell_type": "code",
   "execution_count": 19,
   "id": "eec39d8a-cb9b-4374-80c9-f44f2c425b2b",
   "metadata": {},
   "outputs": [
    {
     "name": "stdout",
     "output_type": "stream",
     "text": [
      "CPU times: user 48 μs, sys: 158 μs, total: 206 μs\n",
      "Wall time: 217 μs\n"
     ]
    }
   ],
   "source": [
    "%%time\n",
    "#filtering positive, neutral, negative\n",
    "reddit_positive_scores=reddit_comment_scores.filter(lambda x: x[1]>0)\n",
    "reddit_neutral_scores=reddit_comment_scores.filter(lambda x: x[1]==0)\n",
    "reddit_negative_scores=reddit_comment_scores.filter(lambda x: x[1]<0)"
   ]
  },
  {
   "cell_type": "code",
   "execution_count": 20,
   "id": "6b383a29-637a-46ee-a94e-ce5ed257f2b4",
   "metadata": {},
   "outputs": [
    {
     "name": "stderr",
     "output_type": "stream",
     "text": [
      "                                                                                "
     ]
    },
    {
     "name": "stdout",
     "output_type": "stream",
     "text": [
      "total: 17777472\n"
     ]
    },
    {
     "name": "stderr",
     "output_type": "stream",
     "text": [
      "[Stage 17:===================================================>  (285 + 8) / 296]"
     ]
    },
    {
     "name": "stdout",
     "output_type": "stream",
     "text": [
      "pos: 0.32261915529947116 neutral: 0.2518384503713464 neg: 0.42554239432918245\n",
      "CPU times: user 360 ms, sys: 244 ms, total: 604 ms\n",
      "Wall time: 5min 35s\n"
     ]
    },
    {
     "name": "stderr",
     "output_type": "stream",
     "text": [
      "                                                                                "
     ]
    }
   ],
   "source": [
    "%%time\n",
    "total=reddit_comment_scores.count()\n",
    "print(f\"total: {total}\")\n",
    "reddit_positive_percent=reddit_positive_scores.count()/total\n",
    "reddit_neutral_percent=reddit_neutral_scores.count()/total\n",
    "reddit_negative_percent=reddit_negative_scores.count()/total\n",
    "print(f\"pos: {reddit_positive_percent} neutral: {reddit_neutral_percent} neg: {reddit_negative_percent}\")"
   ]
  },
  {
   "cell_type": "code",
   "execution_count": 8,
   "id": "40be1681-ae42-4f83-b6c6-595e14b89582",
   "metadata": {
    "jupyter": {
     "source_hidden": true
    }
   },
   "outputs": [],
   "source": [
    "def twitter_id_word_pair(line):\n",
    "    id, lang, text = line.split(\",\",2) \n",
    "    cleaned_text=re.sub(r'[^a-zA-Z\\s]','',text.strip()).lower()\n",
    "    return [(id,lang,word) for word in re.split(r'\\s+',cleaned_text)]\n",
    "\n",
    "def twitter_word_to_sentiment(pair):\n",
    "    id, lang, word = pair\n",
    "    score=0\n",
    "    if lang == \"en\" or lang == 'und':\n",
    "        if word in pos_words_en:\n",
    "            score+= 1\n",
    "        if word in neg_words_en:\n",
    "            score-=1\n",
    "        return id, score\n",
    "    elif lang == \"es\":\n",
    "        if word in pos_words_es:\n",
    "            score+= 1\n",
    "        if word in neg_words_es:\n",
    "            score-=1\n",
    "        return id, score\n",
    "    elif lang == \"fr\":\n",
    "        if word in pos_words_fr:\n",
    "            score+= 1\n",
    "        if word in neg_words_fr:\n",
    "            score-=1\n",
    "        return id, score\n",
    "    elif lang == \"tr\":\n",
    "        if word in pos_words_tr:\n",
    "            score+= 1\n",
    "        if word in neg_words_tr:\n",
    "            score-=1\n",
    "        return id, score\n",
    "    else: #italian\n",
    "        if word in pos_words_it:\n",
    "            score+= 1\n",
    "        if word in neg_words_it:\n",
    "            score-=1\n",
    "        return id, score\n",
    "    return id, score"
   ]
  },
  {
   "cell_type": "code",
   "execution_count": 10,
   "id": "c18f97ad-5f37-4759-914a-d90a93b6f776",
   "metadata": {},
   "outputs": [
    {
     "name": "stdout",
     "output_type": "stream",
     "text": [
      "CPU times: user 3.01 ms, sys: 2.83 ms, total: 5.84 ms\n",
      "Wall time: 1.33 s\n"
     ]
    },
    {
     "name": "stderr",
     "output_type": "stream",
     "text": [
      "                                                                                "
     ]
    }
   ],
   "source": [
    "%%time\n",
    "#removing header\n",
    "twitter_rdd = sc.textFile(\"twitter_full_cleaned/twitter_full.csv\")\n",
    "header=twitter_rdd.first()\n",
    "twitter_rdd=twitter_rdd.filter(lambda row : row!= header)"
   ]
  },
  {
   "cell_type": "code",
   "execution_count": 11,
   "id": "14c603c7-a76a-4b07-a62d-ba06a515d3ef",
   "metadata": {},
   "outputs": [
    {
     "name": "stdout",
     "output_type": "stream",
     "text": [
      "CPU times: user 18.7 ms, sys: 6.21 ms, total: 24.9 ms\n",
      "Wall time: 66.3 ms\n"
     ]
    }
   ],
   "source": [
    "%%time\n",
    "#MapReduce\n",
    "twitter_id_word_pair_rdd=twitter_rdd.flatMap(twitter_id_word_pair)\n",
    "twitter_sentiment_pair_rdd=twitter_id_word_pair_rdd.map(twitter_word_to_sentiment)\n",
    "twitter_comment_scores=twitter_sentiment_pair_rdd.reduceByKey(lambda x,y: x+y)"
   ]
  },
  {
   "cell_type": "code",
   "execution_count": 12,
   "id": "06c984b8-3440-4ba5-b831-f27059c862ec",
   "metadata": {},
   "outputs": [
    {
     "name": "stdout",
     "output_type": "stream",
     "text": [
      "CPU times: user 37 μs, sys: 1e+03 ns, total: 38 μs\n",
      "Wall time: 41.2 μs\n"
     ]
    }
   ],
   "source": [
    "%%time\n",
    "twitter_positive_scores=twitter_comment_scores.filter(lambda x: x[1]>0)\n",
    "twitter_neutral_scores=twitter_comment_scores.filter(lambda x: x[1]==0)\n",
    "twitter_negative_scores=twitter_comment_scores.filter(lambda x: x[1]<0)"
   ]
  },
  {
   "cell_type": "code",
   "execution_count": 13,
   "id": "a368b730-21fe-4af5-89c5-be557242edfa",
   "metadata": {},
   "outputs": [
    {
     "name": "stderr",
     "output_type": "stream",
     "text": [
      "                                                                                "
     ]
    },
    {
     "name": "stdout",
     "output_type": "stream",
     "text": [
      "total: 7473158\n"
     ]
    },
    {
     "name": "stderr",
     "output_type": "stream",
     "text": [
      "[Stage 8:====================================>                    (32 + 8) / 50]"
     ]
    },
    {
     "name": "stdout",
     "output_type": "stream",
     "text": [
      "pos: 0.27621923690091926 neutral: 0.3765329195502089 neg: 0.34724784354887184\n",
      "CPU times: user 59.2 ms, sys: 44.8 ms, total: 104 ms\n",
      "Wall time: 42.2 s\n"
     ]
    },
    {
     "name": "stderr",
     "output_type": "stream",
     "text": [
      "                                                                                "
     ]
    }
   ],
   "source": [
    "%%time\n",
    "total=twitter_comment_scores.count()\n",
    "print(f\"total: {total}\")\n",
    "twitter_positive_percent=twitter_positive_scores.count()/total\n",
    "twitter_neutral_percent=twitter_neutral_scores.count()/total\n",
    "twitter_negative_percent=twitter_negative_scores.count()/total\n",
    "print(f\"pos: {twitter_positive_percent} neutral: {twitter_neutral_percent} neg: {twitter_negative_percent}\")"
   ]
  },
  {
   "cell_type": "code",
   "execution_count": null,
   "id": "10ab7558-9721-4274-af5c-f11eaa84bc36",
   "metadata": {},
   "outputs": [],
   "source": []
  }
 ],
 "metadata": {
  "kernelspec": {
   "display_name": "Python 3 (ipykernel)",
   "language": "python",
   "name": "python3"
  },
  "language_info": {
   "codemirror_mode": {
    "name": "ipython",
    "version": 3
   },
   "file_extension": ".py",
   "mimetype": "text/x-python",
   "name": "python",
   "nbconvert_exporter": "python",
   "pygments_lexer": "ipython3",
   "version": "3.12.4"
  }
 },
 "nbformat": 4,
 "nbformat_minor": 5
}
